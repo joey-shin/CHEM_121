{
 "cells": [
  {
   "cell_type": "code",
   "execution_count": 75,
   "id": "819ef2e5-053f-4209-91af-1a0440a894e0",
   "metadata": {},
   "outputs": [
    {
     "name": "stdout",
     "output_type": "stream",
     "text": [
      "MC Run with N= 100 Number of MC steps= 1000000\n"
     ]
    },
    {
     "name": "stderr",
     "output_type": "stream",
     "text": [
      "100%|███████████████████████████████████████████████████████████████████████████████████████████████████████████████████████████████████████████████████████████████████████████████████████████████████| 1000000/1000000 [00:49<00:00, 20198.84it/s]"
     ]
    },
    {
     "name": "stdout",
     "output_type": "stream",
     "text": [
      "Done!\n"
     ]
    },
    {
     "name": "stderr",
     "output_type": "stream",
     "text": [
      "\n"
     ]
    }
   ],
   "source": [
    "import numba, sys\n",
    "from numpy import random\n",
    "import matplotlib.pyplot as plt\n",
    "import numpy as np\n",
    "from tqdm import tqdm\n",
    "\n",
    "@numba.jit(nopython=True) # random position initialization\n",
    "def initialize(r1, r2, L):\n",
    "    for i in range(N):\n",
    "        r1[i, 0] = 0.3 * L * np.random.rand()\n",
    "        r1[i, 1] = 0.3 * L * np.random.rand()\n",
    "        r1[i, 2] = 0.3 * L * np.random.rand()\n",
    "        \n",
    "        r2[i, 0] = 0.6 * L + 0.3 * L * np.random.rand()\n",
    "        r2[i, 1] = 0.6 * L + 0.3 * L * np.random.rand()\n",
    "        r2[i, 2] = 0.6 * L + 0.3 * L * np.random.rand()\n",
    "    return r1, r2\n",
    "\n",
    "@numba.jit(nopython=True)\n",
    "def minimum_image(dr, L):\n",
    "    return dr - L * np.round(dr / L)\n",
    "\n",
    "@numba.jit(nopython=True)\n",
    "def Morse(dist, De, a, r_eq):\n",
    "    return De * (1 - np.exp(-a * (dist - r_eq)))**2 - De\n",
    "\n",
    "@numba.jit(nopython=True)\n",
    "def calculate_distance(r1, r2, L):\n",
    "    dx = minimum_image(r1[0] - r2[0], L)\n",
    "    dy = minimum_image(r1[1] - r2[1], L)\n",
    "    dz = minimum_image(r1[2] - r2[2], L)\n",
    "    return np.sqrt(dx*dx + dy*dy + dz*dz)\n",
    "\n",
    "@numba.jit(nopython=True)\n",
    "def calculate_action(r1, r2, n, N, kBT, L, m, De, a, r_eq, hbar):\n",
    "    action = 0.0\n",
    "    \n",
    "    for d in range(3):\n",
    "        dr1_forward = minimum_image(r1[(n+1)%N, d] - r1[n, d], L)\n",
    "        dr1_backward = minimum_image(r1[n, d] - r1[(n-1)%N, d], L)\n",
    "        action += m * N * kBT**2 * (dr1_forward**2 + dr1_backward**2) / (2.0 * hbar**2)\n",
    "    \n",
    "    for d in range(3):\n",
    "        dr2_forward = minimum_image(r2[(n+1)%N, d] - r2[n, d], L)\n",
    "        dr2_backward = minimum_image(r2[n, d] - r2[(n-1)%N, d], L)\n",
    "        action += m * N * kBT**2 * (dr2_forward**2 + dr2_backward**2) / (2.0 * hbar**2)\n",
    "    \n",
    "    dist = calculate_distance(r1[n], r2[n], L)\n",
    "    action += Morse(dist, De, a, r_eq) / N\n",
    "    \n",
    "    return action\n",
    "\n",
    "@numba.jit(nopython=True)\n",
    "def Monte_Carlo(r1, r2, kBT, count, L, De, a, r_eq, hbar): #Monte Carlo Sweep\n",
    "    delta = 0.82 # Maximum size of trial displacement\n",
    "    for step in range(2*N): # Preform N random particle displacements\n",
    "        polymer = np.random.randint(0, 2)\n",
    "        index = np.random.randint(0, N) \n",
    "\n",
    "        if polymer == 0:\n",
    "            r1_old = r1[index]\n",
    "            r1_old_action = calculate_action(r1, r2, index, N, kBT, L, m, De, a, r_eq, hbar)\n",
    "\n",
    "            r1_new = r1_old\n",
    "            for i in range(3):\n",
    "                r1_new[i] += 2*delta*(np.random.rand()-0.5)\n",
    "                r1_new[i] = r1_new[i] % L\n",
    "                \n",
    "            r1[index] = r1_new\n",
    "            r1_new_action = calculate_action(r1, r2, index, N, kBT, L, m, De, a, r_eq, hbar)\n",
    "\n",
    "            if np.random.rand() > np.exp(-(r1_new_action - r1_old_action)/kBT):\n",
    "                r1[index] = r1_old \n",
    "            else:\n",
    "                count+=1\n",
    "        else:\n",
    "            r2_old = r2[index]\n",
    "            r2_old_action = calculate_action(r1, r2, index, N, kBT, L, m, De, a, r_eq, hbar)\n",
    "\n",
    "            r2_new = r2_old\n",
    "            for i in range(3):\n",
    "                r2_new[i] += 2*delta*(np.random.rand()-0.5)\n",
    "                r2_new[i] = r2_new[i] % L\n",
    "                \n",
    "            r2[index] = r2_new\n",
    "            r2_new_action = calculate_action(r1, r2, index, N, kBT, L, m, De, a, r_eq, hbar)\n",
    "\n",
    "            if np.random.rand() > np.exp(-(r2_new_action - r2_old_action)/kBT):\n",
    "                r2[index] = r2_old\n",
    "            else:\n",
    "                count+=1\n",
    "    return r1, r2, count\n",
    "\n",
    "N = 100\n",
    "L = 10.0\n",
    "m = 1.0 \n",
    "De = 4.7446\n",
    "a = 1.440558\n",
    "r_eq = 0.7416\n",
    "\n",
    "steps = 1000000 # Number of sweeps\n",
    "Nsamp = 500 # Averaging frequency\n",
    "kBT = (3.167*10**(-6))*20000.0 #kBT in atomic units\n",
    "hbar = 1\n",
    "\n",
    "r1 = np.zeros([N, 3]) \n",
    "r2 = np.zeros([N, 3]) \n",
    "r1, r2 = initialize(r1, r2, L) \n",
    "\n",
    "rs = []\n",
    "Es = []\n",
    "count = 0\n",
    "\n",
    "for step in tqdm(range(steps)): \n",
    "    r1, r2, count = Monte_Carlo(r1, r2, kBT, count, L, De, a, r_eq, hbar)\n",
    "    \n",
    "    if(step%Nsamp==0 and step>0): # Every Nsamp steps, compute expectations\n",
    "        for i in range(N):\n",
    "            rs.append(calculate_distance(r1[i], r2[i], L))"
   ]
  },
  {
   "cell_type": "code",
   "execution_count": 76,
   "id": "008792c6-a5aa-4736-b1a0-81e8c9fa0bff",
   "metadata": {},
   "outputs": [
    {
     "data": {
      "text/plain": [
       "Text(0, 0.5, '$P(x)$')"
      ]
     },
     "execution_count": 76,
     "metadata": {},
     "output_type": "execute_result"
    },
    {
     "data": {
      "image/png": "[encoded data removed]",
      "text/plain": [
       "<Figure size 640x480 with 1 Axes>"
      ]
     },
     "metadata": {},
     "output_type": "display_data"
    }
   ],
   "source": [
    "fig, ax = plt.subplots()\n",
    "ax.hist(rs[200:],histtype=\"bar\",density=True, bins=50)\n",
    "ax.set_xlabel(\"x (au)\")\n",
    "ax.set_ylabel(r\"$P(x)$\")\n",
    "\n",
    "# avg_energy = calculate_virial_energy(all_distances, De, a, r_eq, N)\n",
    "\n",
    "# print(\"Acceptance Rate: \", (count/(N*steps))*100, \"%\")\n",
    "# print(r\"<E> = \", avg_energy)\n",
    "\n",
    "# def moorse(r, De, a, r_eq, N):\n",
    "#     energy = 0\n",
    "#     for r_n in r:\n",
    "#         term1 = De * (1 - np.exp(-a * (r_n - r_eq)))**2\n",
    "#         term2 = -De\n",
    "#         term3 = a * De * r_n * np.exp(-a * (r_n - r_eq)) * (1 - np.exp(-a * (r_n - r_eq)))\n",
    "#         energy += term1 + term2 + term3\n",
    "    # return energy / len(r)\n",
    "\n",
    "# xs = np.linspace(min(xx[200:]),max(xx[200:]),20000 )\n",
    "# plt.plot(xs,morse_ground_state(xs, De, a, r_eq, m),color='m',linewidth='2',label = r'$P(x) = |\\Psi_0^* \\Psi_0|$ ')\n",
    "# plt.legend(loc='best')\n",
    "# plt.show()"
   ]
  },
  {
   "cell_type": "code",
   "execution_count": null,
   "id": "997103e0-d006-4377-8c94-de9b67056fc2",
   "metadata": {},
   "outputs": [],
   "source": []
  }
 ],
 "metadata": {
  "kernelspec": {
   "display_name": "THG",
   "language": "python",
   "name": "thg"
  },
  "language_info": {
   "codemirror_mode": {
    "name": "ipython",
    "version": 3
   },
   "file_extension": ".py",
   "mimetype": "text/x-python",
   "name": "python",
   "nbconvert_exporter": "python",
   "pygments_lexer": "ipython3",
   "version": "3.11.8"
  }
 },
 "nbformat": 4,
 "nbformat_minor": 5
}
