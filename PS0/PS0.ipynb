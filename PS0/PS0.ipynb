{
 "cells": [
  {
   "cell_type": "markdown",
   "id": "057a6154-f198-4961-ae12-3e429776d960",
   "metadata": {},
   "source": [
    "# 1)"
   ]
  },
  {
   "cell_type": "code",
   "execution_count": 1,
   "id": "346db4e8-35ad-48c3-8067-a2cd51d1853b",
   "metadata": {},
   "outputs": [
    {
     "name": "stdout",
     "output_type": "stream",
     "text": [
      "Joey Shin\n"
     ]
    }
   ],
   "source": [
    "print('Joey Shin')"
   ]
  },
  {
   "cell_type": "code",
   "execution_count": 2,
   "id": "c733a22e-50ef-4fbf-a4f2-70265669b22d",
   "metadata": {},
   "outputs": [
    {
     "name": "stdout",
     "output_type": "stream",
     "text": [
      "Joey\n"
     ]
    }
   ],
   "source": [
    "# pronounced as it is written\n",
    "print('Joey')"
   ]
  },
  {
   "cell_type": "code",
   "execution_count": 3,
   "id": "9cf53bab-781d-434f-919c-b5a764d636b6",
   "metadata": {},
   "outputs": [
    {
     "name": "stdout",
     "output_type": "stream",
     "text": [
      "I understand that copying code from another student, or any source other\n",
      "than the instructors, is considered cheating in Chem 121. Submitted\n",
      "assignments that contain inappropriately shared code will receive a score\n",
      "of zero and may be grounds for failing the course.\n"
     ]
    }
   ],
   "source": [
    "print(\"\"\"I understand that copying code from another student, or any source other\n",
    "than the instructors, is considered cheating in Chem 121. Submitted\n",
    "assignments that contain inappropriately shared code will receive a score\n",
    "of zero and may be grounds for failing the course.\"\"\")"
   ]
  },
  {
   "cell_type": "markdown",
   "id": "53298292-dde5-4b06-9372-a157729e1c68",
   "metadata": {},
   "source": [
    "# 2)"
   ]
  },
  {
   "cell_type": "code",
   "execution_count": 4,
   "id": "5a682d18-1b1d-4604-a6de-7c6b394832e5",
   "metadata": {},
   "outputs": [
    {
     "name": "stdout",
     "output_type": "stream",
     "text": [
      "a) I am interested in electronic structure and biological mechanisms and I hope to find a way to combine \n",
      "these two subjects. The most relavent work I found is Energy Decomposition Analysis, but I hope to learn \n",
      "more electronic structure theories and molecular dyamics to explore this area. \n",
      "\n",
      "b) I have been interested in exploring RNA and protein-RNA/DNA interactions. I am also interested\n",
      "in modeling common functional groups of enzymatic significance, like Histidine. I wonder if I can \n",
      "break down these systems and make them more approachable. \n"
     ]
    }
   ],
   "source": [
    "print(\n",
    "\"\"\"a) I am interested in electronic structure and biological mechanisms and I hope to find a way to combine \n",
    "these two subjects. The most relavent work I found is Energy Decomposition Analysis, but I hope to learn \n",
    "more electronic structure theories and molecular dyamics to explore this area. \n",
    "\n",
    "b) I have been interested in exploring RNA and protein-RNA/DNA interactions. I am also interested\n",
    "in modeling common functional groups of enzymatic significance, like Histidine. I wonder if I can \n",
    "break down these systems and make them more approachable. \"\"\"\n",
    ")"
   ]
  },
  {
   "cell_type": "code",
   "execution_count": null,
   "id": "f0b33d95-e5b0-493a-9943-e85b3f8977c5",
   "metadata": {},
   "outputs": [],
   "source": []
  }
 ],
 "metadata": {
  "kernelspec": {
   "display_name": "THG",
   "language": "python",
   "name": "thg"
  },
  "language_info": {
   "codemirror_mode": {
    "name": "ipython",
    "version": 3
   },
   "file_extension": ".py",
   "mimetype": "text/x-python",
   "name": "python",
   "nbconvert_exporter": "python",
   "pygments_lexer": "ipython3",
   "version": "3.8.18"
  }
 },
 "nbformat": 4,
 "nbformat_minor": 5
}
