{
 "cells": [
  {
   "cell_type": "markdown",
   "metadata": {},
   "source": [
    "# Chem121 Intro to CompChem"
   ]
  },
  {
   "cell_type": "markdown",
   "metadata": {},
   "source": [
    "## Recap"
   ]
  },
  {
   "cell_type": "markdown",
   "metadata": {},
   "source": [
    "###  **Time-Independent Schrödinger Equation in 3D**:\n",
    "  $\n",
    "  \\hat{H} \\psi(r) = E \\psi(r)\n",
    "  $,\n",
    "  \n",
    "  where the Hamiltonian operator is\n",
    "  \n",
    "  $\n",
    "  \\hat{H} = -\\frac{\\hbar^2}{2m} (\\frac{\\partial^2}{\\partial x^2}+\\frac{\\partial^2}{\\partial y^2}+\\frac{\\partial^2}{\\partial z^2}) + V(x, y, z)\n",
    "  $\n",
    "  \n"
   ]
  },
  {
   "cell_type": "markdown",
   "metadata": {},
   "source": [
    "### Basis set expansion\n",
    "$$\n",
    "\\psi(r) = \\sum_\\mu c_\\mu \\phi_\\mu (r)\n",
    "$$\n",
    "\n",
    "$\\{ \\phi_1, \\phi_2, \\ldots\\}$ defines a basis set\n",
    "\n",
    "$\\{ c_1, c_2, \\ldots\\}$ are the corresponding expansion coefficients"
   ]
  },
  {
   "cell_type": "markdown",
   "metadata": {},
   "source": [
    "###  **Time-Independent Schrödinger Equation in basis set**:\n",
    "\n",
    "$$\n",
    "\\hat{H} \\sum_\\mu c_\\mu \\phi_\\mu (x) = E \\sum_\\mu c_\\mu \\phi_\\mu (x)\n",
    "$$"
   ]
  },
  {
   "cell_type": "markdown",
   "metadata": {},
   "source": [
    "### The Schrödinger Equation in matrix multiplication form\n",
    "$H$ is a matrix, and its element\n",
    "\n",
    "$H_{\\nu\\mu}$: $\\langle\\phi_\\nu| H |\\phi_\\mu\\rangle$\n",
    "\n",
    "$S$ is a matrix, and its element\n",
    "\n",
    "$S_{\\nu\\mu}$: $\\langle\\phi_\\nu| \\phi_\\mu\\rangle$\n",
    "\n",
    "$$\n",
    "\\sum_\\mu H_{\\nu\\mu} c_\\mu = E \\sum_\\mu S_{\\nu\\mu} c_\\mu\n",
    "$$\n",
    "\n",
    "$c$ is a vector with elements $c_\\mu$\n",
    "\n",
    "So we made the Schrödinger Equation into a matrix multiplication form!\n",
    "\n",
    "$$\n",
    "H c = E S c\n",
    "$$\n",
    "\n",
    "$$\n",
    "(S^{-1}H) c = E c\n",
    "$$"
   ]
  },
  {
   "cell_type": "markdown",
   "metadata": {},
   "source": [
    "### Variational principle in quantum mechanics\n",
    "\n",
    "$$\n",
    "E[\\psi] = \\frac{\\langle \\psi | \\hat{H} | \\psi \\rangle}{\\langle \\psi | \\psi \\rangle} \\geq E_0\n",
    "$$\n"
   ]
  },
  {
   "cell_type": "markdown",
   "metadata": {},
   "source": [
    "### Examples:\n",
    "\n",
    "- Harmonic oscillator with reduced Hamiltonian: \n",
    "\n",
    "$$\\hat{H} = -\\frac{d^2}{dx^2} + \\frac{1}{2} x^2 $$\n",
    "\n",
    "- Hydrogen atom with reduced Hamiltonian: \n",
    "\n",
    "$$\n",
    "\\hat{H} = -\\frac{1}{2} \\nabla^2 - \\frac{1}{r}\n",
    "$$\n"
   ]
  },
  {
   "cell_type": "markdown",
   "metadata": {},
   "source": [
    "#### Gaussian basis set\n",
    "\n",
    "$$\n",
    "g(\\alpha, \\vec{r}-\\vec{R}_A) = \\exp( - \\alpha |\\vec{r}-\\vec{R}_A|^2)\n",
    "$$"
   ]
  },
  {
   "cell_type": "markdown",
   "metadata": {},
   "source": [
    "### The basis functions are now a linear combination of Gaussians\n",
    "\n",
    "**\"Constracted Gaussian function\"** Basis:\n",
    "$$\n",
    "\\phi_\\mu (\\vec{r}) = \\sum_{A=1}^{L} d_{A\\mu} g (\\alpha_{A\\mu}, \\vec{r}-\\vec{R}_{A\\mu})\n",
    "$$"
   ]
  },
  {
   "cell_type": "markdown",
   "metadata": {},
   "source": [
    "We will use contracted Gaussian function (CGF) even for s-type orbitals.\n",
    "\n",
    "Because we want to build molecular orbitals from atomic orbitals, which decay exponentially (\"slater-type\"), rather than a Gaussian.\n",
    "\n",
    "e.g.\n",
    "\n",
    "STO-2G for 1s orbital:\n",
    "$$\n",
    "\\exp(-\\zeta r) \\approx d_1 \\exp(-\\zeta^2 \\alpha_1 r^2) + d_2 \\exp(-\\zeta^2 \\alpha_2 r^2)\n",
    "$$"
   ]
  },
  {
   "cell_type": "markdown",
   "metadata": {},
   "source": [
    "## Many electron problem"
   ]
  },
  {
   "cell_type": "markdown",
   "metadata": {},
   "source": [
    "## The Many-Body Electronic Problem\n",
    "\n",
    "The fundamental problem in computational chemistry is to solve the Schrodinger equation for **a many-body electronic system** comprising nuclei and electrons. \n",
    "\n",
    "Start with the general form of the time-independent Schrodinger equation:\n",
    "\n",
    "$$ H \\Psi = E \\Psi $$\n",
    "\n",
    "The Hamiltonian operator (in atomic units for simplicity) for this many-body system composed of several nuclei and electrons is:\n",
    "\n",
    "$$ H = - \\sum_{i=1}^{N} \\frac{1}{2} \\nabla_i^2 - \\sum_{i=1}^{N} \\sum_{A=1}^{M} \\frac{Z_A}{r_{iA}} + \\sum_{i=1}^{N} \\sum_{j>i}^{N} \\frac{1}{r_{ij}} + \\sum_{A=1}^{M} \\sum_{B>A}^{M} \\frac{Z_A Z_B}{R_{AB}} $$\n",
    "\n",
    "- **electrons' kinetic energy**\n",
    "- **coulomb attraction between electrons and nuclei**\n",
    "- **repulsion between electrons**\n",
    "- **repulsion between nuclei**\n",
    "- **nuclei's kinetic energy**\n"
   ]
  },
  {
   "cell_type": "markdown",
   "metadata": {},
   "source": [
    "Recap: \n",
    "The **Born-Oppenheimer approximation**: seperate the nuclei Hamiltonian and the electronic Hamiltonian.\n",
    "\n",
    "The electronic Hamiltonian represents the motion of N electrons in the field of fixed nuclei.\n",
    "\n",
    "$$ H_{elec} = - \\sum_{i=1}^{N} \\frac{1}{2} \\nabla_i^2 - \\sum_{i=1}^{N} \\sum_{A=1}^{M} \\frac{Z_A}{r_{iA}} + \\sum_{i=1}^{N} \\sum_{j>i}^{N} \\frac{1}{r_{ij}} $$\n",
    "\n",
    "\n",
    "If we solve the Schrodinger equation for electronic Hamiltonian, the solution includes the electronic energy and the electronic wave function, which describes the motion of the electrons.\n",
    "\n",
    "$$ H_{elec} \\Psi_{elec} = E_{elec} \\Psi_{elec} $$\n",
    "\n",
    "We drop $_{elec}$ for simplicity"
   ]
  },
  {
   "cell_type": "markdown",
   "metadata": {},
   "source": [
    "$$ H = - \\sum_{i=1}^{N} \\frac{1}{2} \\nabla_i^2 \n",
    "- \\sum_{i=1}^{N} \\sum_{A=1}^{M} \\frac{Z_A}{r_{iA}} + \\sum_{i=1}^{N} \\sum_{j>i}^{N} \\frac{1}{r_{ij}} $$"
   ]
  },
  {
   "cell_type": "markdown",
   "metadata": {},
   "source": [
    "## The form of the wave function for many-electron systems\n",
    "\n",
    "### Hartree product\n",
    "\n",
    "Hartree approximately considered the electrons uncorrelated (independent from each other) to build a separable wave function:\n",
    "\n",
    "$$ \\Psi_{HP} (r_1, r_2, \\dots, r_N) = \\chi_1 (r_1) \\chi_2 (r_2) \\cdots \\chi_N (r_N) $$\n",
    "\n",
    "The $\\chi$s are one-electron wave functions (orbitals). "
   ]
  },
  {
   "cell_type": "markdown",
   "metadata": {},
   "source": [
    "### Electron spins\n",
    "\n",
    "How to consider the spins ($\\omega$) of electrons?\n",
    "- $\\omega$-space is spanned by two states, $\\alpha(\\omega)$ and $\\beta(\\omega)$ with\n",
    "\n",
    "$\\langle \\alpha | \\alpha \\rangle = \\langle \\beta | \\beta \\rangle =1 $ and $\\langle \\alpha | \\beta \\rangle =0 $\n",
    "\n",
    "- $\\omega$ does not enter the Hamiltonian"
   ]
  },
  {
   "cell_type": "markdown",
   "metadata": {},
   "source": [
    "### Hartree product with spin-orbitals\n",
    "\n",
    "$$ \\Psi_{HP} (x_1, x_2, \\dots, x_N) = \\chi_1 (x_1) \\chi_2 (x_2) \\cdots \\chi_N (x_N) $$\n",
    "\n",
    "The $\\chi(x)$ are one-electron wave functions referred to as **spin-orbitals**, and $x=(r, \\omega)$."
   ]
  },
  {
   "cell_type": "markdown",
   "metadata": {},
   "source": [
    "### Limitations of the Hartree product\n",
    "\n",
    "- **Electrons are indistinguishable.**\n",
    "\n",
    "The Hartree product is not consistent with the indistinguishability of electrons. If we interchange two electrons in the Hartree product, the result term is different.\n",
    "\n",
    "$$ \\chi_1 (x_1) \\chi_2 (x_2) \\cdots \\chi_N (x_N) \\neq \\chi_i (x_2) \\chi_j (x_1) \\cdots \\chi_k (x_N) $$\n",
    "\n",
    "\n",
    "\n",
    "- **An electronic wave function must be antisymmetric.**\n",
    "When interchanging the space and spin coordinates of any two electrons, the sign of wave function alters.\n",
    "\n",
    "$$ \\Psi(x_1, x_2, \\dots, x_N) = -\\Psi(x_2, x_1, \\dots, x_N) $$\n",
    "\n",
    "This also leads to the **Pauli exclusion principle**, no two electrons can occupy the same states\n",
    "\n",
    "$$ \\Psi(a, a, \\dots, x_N) = -\\Psi(a, a, \\dots, x_N) = 0 $$\n",
    "\n",
    "- Electrons are **correlated**.\n",
    "\n",
    "Electrons interact with each other, and are therefore correlated. \n",
    "\n",
    "Correlation between two variables $x$ and $y$ means $P(x, y) \\ne f(x)g(y)$.\n",
    "\n",
    "However, from the Hartree product\n",
    "\n",
    "$$\n",
    "P_{HP}(x_1, x_2, \\dots, x_N) = |\\chi_1 (x_1)|^2 |\\chi_2 (x_2)|^2 \\cdots |\\chi_N (x_N)|^2\n",
    "= P(x_1)P(x_2)\\dots P(x_N)\n",
    "$$"
   ]
  },
  {
   "cell_type": "markdown",
   "metadata": {},
   "source": [
    "### The curse of correlations\n",
    "\n",
    "If the wave function can be factorized, we could solve separately for each orbital.\n",
    "\n",
    "But if we must tackle all electrons at the same time, then the basis set must span the entire space of $x_1, x_2, \\dots, x_N$.\n",
    "\n",
    "How does the number of Gaussians we need scale with the number of electrons?\n",
    "\n",
    "$$3^N$$\n",
    "\n"
   ]
  },
  {
   "cell_type": "markdown",
   "metadata": {},
   "source": [
    "## Tackling correlation\n",
    "### An example on interacting oscillators\n",
    "\n",
    "The Hamiltonian for a system of two harmonic oscillators ($x$ and $y$) with interactions:\n",
    "\n",
    "$$\n",
    "\\hat{H} = -\\frac{d^2}{dx^2} + \\frac{1}{2} x^2\n",
    "-\\frac{d^2}{dy^2} + \\frac{1}{2} y^2\n",
    "+a x^4 y^4\n",
    "= h(x) + h(y) + a x^4 y^4\n",
    "$$\n",
    "\n",
    "- When $a=0$, $\\Psi(x, y) = \\Psi_x(x)\\Psi_y(y)$\n",
    "- When $a>0$, we could brute force it, using a basis set that convers $xy$-plan (Home work)\n",
    "\n",
    "or we could try to reduce the dimensionality.\n",
    "\n",
    "True ground state wave function does not fractorize, $\\Psi(x, y) \\ne \\Psi_x(x)\\Psi_y(y)$,\n",
    "\n",
    "but we can ask: what wave function of the form\n",
    "$$\n",
    "\\tilde{\\Psi}(x, y) = \\chi_1(x)\\chi_2(y)\n",
    "$$\n",
    "best approximates true ground state?\n",
    "\n",
    "This can provide an upper bound for the ground state energy, because\n",
    "the variational principle says:\n",
    "$$\n",
    "\\tilde{E} \\langle \\tilde{\\Psi} | H | \\tilde{\\Psi} \\rangle \\ge E_0\n",
    "$$"
   ]
  },
  {
   "cell_type": "markdown",
   "metadata": {},
   "source": [
    "#### Functional minimization\n",
    "\n",
    "Find $\\chi_1(x)\\chi_2(y)$ that minimize $\\tilde{E}$ while maintain normalization:\n",
    "\n",
    "- Normalization:\n",
    "\n",
    "$\\langle \\chi_1(x) | \\chi_1(x) \\rangle = 1$ and $\\langle \\chi_2(y) | \\chi_2(y) \\rangle = 1$\n",
    "\n",
    "- Minimize $\\tilde{E}$:\n",
    "\n",
    "$$\n",
    "\\tilde{E} = \\int dx \\int dy \n",
    "\\chi_1(x)\\chi_2(y)\n",
    "\\left[h(x) + h(y) + a x^4 y^4\\right]\n",
    "\\chi_1(x)\\chi_2(y)\n",
    "$$\n",
    "$$\n",
    "= \\langle \\chi_1 |h | \\chi_1 \\rangle\n",
    "+ \\langle \\chi_2 |h | \\chi_2 \\rangle\n",
    "+ a \\langle \\chi_1 | x^4 | \\chi_1 \\rangle \\langle \\chi_2 | y^4 | \\chi_2 \\rangle\n",
    "$$"
   ]
  },
  {
   "cell_type": "markdown",
   "metadata": {},
   "source": [
    "Task: Vary $\\chi_1(x)$ and $\\chi_2(y)$ to minimize $\\tilde{E}$. \n",
    "\n",
    "How does $\\tilde{E}$ change when we change $\\chi_1(x)$ by a small amount $\\delta\\chi_1(x)$?\n",
    "\n",
    "$$\n",
    "\\delta \\left( \\int dx \\chi_1(x) h(x)\\chi_1(x) \\right)\n",
    "= \\int dx \\left(\\chi_1(x)+\\delta\\chi_1(x)\\right) h(x)\\left(\\chi_1(x)+\\delta\\chi_1(x)\\right) - \\int dx \\chi_1(x) h(x)\\chi_1(x)\\\\\n",
    "= 2\\int dx \\delta\\chi_1(x) h(x) \\chi_1(x) + \\mathcal{O}(\\delta \\chi_1)^2\n",
    "$$\n",
    "\n",
    "The change in $\\tilde{E}$ is:\n",
    "$$\n",
    "\\delta\\tilde{E} = 2 \\int dx \\delta\\chi_1(x) \\left[h(x) + a x^4 \\langle y^4 \\rangle \\right] \\chi_1(x)\n",
    "+ 2 \\int dy \\delta\\chi_2(y) \\left[h(y) + a \\langle x^4 \\rangle y^4  \\right] \\chi_2(y)\n",
    "$$"
   ]
  },
  {
   "cell_type": "markdown",
   "metadata": {},
   "source": [
    "#### Combining energy minimization and normalization\n",
    "\n",
    "Lagrange multiplier is:\n",
    "$$\n",
    "\\mathcal{L} = \\tilde{E} - \\lambda_1\\int dx \\chi_1^2(x) - \\lambda_2\\int dy \\chi_2^2(y)\n",
    "$$\n",
    "\n",
    "At minimum:\n",
    "$$\n",
    "\\delta \\mathcal{L} =\n",
    "2 \\int dx \\delta\\chi_1(x) \\left[h(x) + a x^4 \\langle y^4 \\rangle - \\lambda_1 \\right] \\chi_1(x)\n",
    "+ 2 \\int dy \\delta\\chi_2(y) \\left[h(y) + a \\langle x^4 \\rangle y^4  - \\lambda_2 \\right] \\chi_2(y)\n",
    "= 0\n",
    "$$\n",
    "\n",
    "This must hold for any small $\\delta\\chi_1(x)$ and $\\delta\\chi_2(y)$, meaning\n",
    "$$\n",
    "\\left[h(x) + a x^4 \\langle y^4 \\rangle \\right] \\chi_1(x) = \\lambda_1 \\chi_1(x)\n",
    "$$\n",
    "$$\n",
    "\\left[h(y) + a \\langle x^4 \\rangle y^4  \\right] \\chi_2(y) = \\lambda_2 \\chi_2(y)\n",
    "$$\n",
    "\n",
    "Recall that when we discussed harmonic oscilator, the Lagrangian multipliers $\\lambda$s are equalvalent to energies ($\\lambda_1=\\epsilon_1$, $\\lambda_2=\\epsilon_2$)."
   ]
  },
  {
   "cell_type": "markdown",
   "metadata": {},
   "source": [
    "#### Effective Hamiltonians\n",
    "We can define \n",
    "$$\n",
    "\\hat{h}_{eff}(x) = h(x) + a x^4 \\langle y^4 \\rangle\n",
    "$$\n",
    "and\n",
    "$$\n",
    "\\hat{h}_{eff}(y) = h(y) + a \\langle x^4 \\rangle y^4 \n",
    "$$\n",
    "\n",
    "What does this mean? \n",
    "\n",
    "These are **effective single-particle Hamiltonians**!\n",
    "\n",
    "e.g. the influence of $y$ on $x$ is replaced by its average influence on $x$.\n"
   ]
  },
  {
   "cell_type": "markdown",
   "metadata": {},
   "source": [
    "The limited wavefunction ansatz $\\chi_1(x)\\chi_2(y)$ best approximate ground state energy if:\n",
    "$$\n",
    "\\hat{h}_{eff}(x) \\chi_1(x) = \\epsilon_1 \\chi_1(x)\n",
    "$$\n",
    "$$\n",
    "\\hat{h}_{eff}(y) \\chi_2(y) = \\epsilon_2 \\chi_2(y)\n",
    "$$\n",
    "\n",
    "Are these eigenvalue problems?\n",
    "\n",
    "The estimate energy\n",
    "$$\n",
    "\\tilde{E} = \\epsilon_1 + \\epsilon_2 - a \\langle x^4 \\rangle \\langle y^4 \\rangle\n",
    "= \\dfrac{1}{2}\\left[\n",
    "\\epsilon_1 + \\epsilon_2 + \\langle \\chi_1 | h | \\chi_1 \\rangle + \\langle \\chi_2 | h | \\chi_2 \\rangle\n",
    "\\right]\n",
    "$$\n",
    "Because $\\epsilon_1 + \\epsilon_2$ double counts interation energy."
   ]
  },
  {
   "cell_type": "markdown",
   "metadata": {},
   "source": [
    "#### How to solve?\n",
    "\n",
    "- Given $\\hat{h}_{eff}$, we know how to find $\\chi$s and $\\epsilon$s (eigenvalue problems)\n",
    "\n",
    "- To form $\\hat{h}_{eff}$ we need to know $\\chi$s!\n",
    "\n",
    "We can solve the equations **self-consistently**:\n",
    "- $\\hat{h}_{eff}(x) \\chi_i(x) = \\epsilon_i \\chi_i(x)$ is a **self-consistent equation**\n",
    "- $a x^4 \\langle y^4 \\rangle$ is called **self-consistent field (SCF)**"
   ]
  },
  {
   "cell_type": "markdown",
   "metadata": {},
   "source": [
    "#### Iterative approach\n",
    "\n",
    "- Step 0: Make an intial guess for $\\chi$s, e.g. non-interacting solution $h \\chi_j^{init} = \\epsilon_j^{init} \\chi_j^{init}$.\n",
    "- Step 1: From $\\chi$s, calculate $\\langle x^4 \\rangle$, $\\langle y^4 \\rangle$ and $\\hat{h}_{eff}$s.\n",
    "- Step 2: Find eigenvectors/values of $\\hat{h}_{eff}$s, which are new guesses for $\\chi$s and $\\epsilon$s.\n",
    "- Repeat Step 1 and 2 until $\\chi$s and $\\epsilon$s are converged."
   ]
  },
  {
   "cell_type": "markdown",
   "metadata": {},
   "source": [
    "#### Basis set expansion\n",
    "The obitals are expanded in a Gaussian basis set $\\phi_B(x) = \\exp \\left( -\\alpha (x-x_B)^2\\right)$:\n",
    "$$\n",
    "\\chi_1(x) = \\sum_B c_{B1} \\phi_B(x)\n",
    "$$\n",
    "\n",
    "$$\n",
    "\\chi_2(y) = \\sum_B c_{B2} \\phi_B(y)\n",
    "$$\n",
    "\n",
    "The matrix elements are:\n",
    "$$\n",
    "h_{AB} = \\langle\\phi_A| h |\\phi_B\\rangle\n",
    "$$\n",
    "\n",
    "$$\n",
    "S_{AB} = \\langle\\phi_A| \\phi_B\\rangle\n",
    "$$\n",
    "\n",
    "$$\n",
    "G_{AB} = \\langle\\phi_A| x^4 | \\phi_B\\rangle\n",
    "$$\n",
    "\n",
    "From harmonic ocsilators, we know that\n",
    "\n",
    "$$\n",
    "S_{AB} = \\sqrt{\\dfrac{\\pi}{2\\alpha}}\n",
    "\\exp \\left( - \\dfrac{\\alpha}{2} (x_A-x_B)^2 \\right)\n",
    "$$\n",
    "\n",
    "$$\n",
    "h_{AB} = \\dfrac{1}{2}S_{AB}\n",
    "\\left[\n",
    "\\alpha - \\alpha^2(x_A-x_B)^2 + \\dfrac{1}{4}(\\dfrac{1}{\\alpha} + (x_A+x_B)^2)\n",
    "\\right]\n",
    "$$\n",
    "\n",
    "One can also derive that\n",
    "$$\n",
    "G_{AB} = S_{AB} \\left[\n",
    "\\dfrac{3}{16\\alpha^2} + \\dfrac{3}{8\\alpha}(x_A+x_B)^2 + \\dfrac{1}{16} (x_A+x_B)^4\n",
    "\\right]\n",
    "$$\n"
   ]
  },
  {
   "cell_type": "markdown",
   "metadata": {},
   "source": [
    "#### Self-consistent equations\n",
    "\n",
    "$$\n",
    "\\left(h + a \\langle y^4\\rangle G\\right) c_1 = \\epsilon_1 S c_1 \n",
    "$$\n",
    "$$\n",
    "\\left(h + a \\langle x^4\\rangle G\\right) c_2 = \\epsilon_2 S c_2\n",
    "$$\n",
    "with $\\langle x^4\\rangle = c_1 G c_1$ and $\\langle y^4\\rangle = c_2 G c_2$"
   ]
  },
  {
   "cell_type": "code",
   "execution_count": 1,
   "metadata": {},
   "outputs": [],
   "source": [
    "# import packages for basic math, plotting, linear algebra, random number generation, etc.from numpy import *\n",
    "import numpy as np\n",
    "import matplotlib.pyplot as plt\n",
    "from matplotlib import cm\n",
    "import scipy as sp"
   ]
  },
  {
   "cell_type": "code",
   "execution_count": 2,
   "metadata": {},
   "outputs": [],
   "source": [
    "def S_AB_func(xA, xB, alpha):\n",
    "    return (0.5*np.pi/alpha)**0.5 * np.exp(-0.5*alpha* (xA - xB)**2 )\n",
    "\n",
    "def h_AB_func(xA, xB, alpha):\n",
    "    return 0.5* S_AB_func(xA, xB, alpha) * (alpha - alpha**2 * (xA - xB)**2 + \\\n",
    "                             0.25*(1/alpha + (xA + xB)**2 ))\n",
    "\n",
    "def G_AB_func(xA, xB, alpha):\n",
    "    return S_AB_func(xA, xB, alpha) * ( 3/(16*alpha**2) + \\\n",
    "                            (3/(8*alpha)) * (xA + xB)**2 + \\\n",
    "                            (1/16) * (xA + xB)**4  )"
   ]
  },
  {
   "cell_type": "code",
   "execution_count": 3,
   "metadata": {},
   "outputs": [],
   "source": [
    "def eigSinvH(S,H):\n",
    "    SinvH = np.linalg.inv(S) @ H\n",
    "    E, U = np.linalg.eig(SinvH)\n",
    "\n",
    "    order = np.argsort(E)\n",
    "    c = np.zeros((K, K))\n",
    "    for i in range(K):\n",
    "        c[:, i] = U[:, order[i]]\n",
    "        c[:, i] = c[:, i] / np.sqrt(c[:, i] @ S @ c[:, i])\n",
    "    E = np.sort(E)\n",
    "\n",
    "    return E, c"
   ]
  },
  {
   "cell_type": "code",
   "execution_count": 4,
   "metadata": {},
   "outputs": [],
   "source": [
    "alpha = 2\n",
    "deltax = 0.5\n",
    "\n",
    "n = 10\n",
    "K = 2*n + 1\n",
    "\n",
    "# Gussians centered on a 2D grid\n",
    "center = np.arange(-n*deltax,(n+1)*deltax,deltax)"
   ]
  },
  {
   "cell_type": "code",
   "execution_count": 5,
   "metadata": {},
   "outputs": [
    {
     "data": {
      "text/plain": [
       "array([-5. , -4.5, -4. , -3.5, -3. , -2.5, -2. , -1.5, -1. , -0.5,  0. ,\n",
       "        0.5,  1. ,  1.5,  2. ,  2.5,  3. ,  3.5,  4. ,  4.5,  5. ])"
      ]
     },
     "execution_count": 5,
     "metadata": {},
     "output_type": "execute_result"
    }
   ],
   "source": [
    "center"
   ]
  },
  {
   "cell_type": "code",
   "execution_count": 6,
   "metadata": {},
   "outputs": [],
   "source": [
    "# populate the S, H and G matrix\n",
    "S = S_AB_func(center[:,None], center[None,:], alpha)\n",
    "h = h_AB_func(center[:,None], center[None,:], alpha)\n",
    "G = G_AB_func(center[:,None], center[None,:], alpha)"
   ]
  },
  {
   "cell_type": "code",
   "execution_count": 7,
   "metadata": {},
   "outputs": [],
   "source": [
    "# the initial guess is from independent harmonic oscillator\n",
    "E, c0 = eigSinvH(S,h)\n",
    "c1 = c0[:,0]\n",
    "c2 = c0[:,0]"
   ]
  },
  {
   "cell_type": "code",
   "execution_count": 8,
   "metadata": {},
   "outputs": [
    {
     "data": {
      "text/plain": [
       "array([ 0.5       ,  1.5       ,  2.5       ,  3.50000002,  4.50000011,\n",
       "        5.50000055,  6.50000247,  7.50001003,  8.5000362 ,  9.50012694,\n",
       "       10.50036924, 11.50125881, 12.50304575, 13.51020695, 14.51685222,\n",
       "       15.56828391, 16.60461719, 17.86692634, 18.79448465, 20.81570104,\n",
       "       21.55275195])"
      ]
     },
     "execution_count": 8,
     "metadata": {},
     "output_type": "execute_result"
    }
   ],
   "source": [
    "E"
   ]
  },
  {
   "cell_type": "code",
   "execution_count": 9,
   "metadata": {},
   "outputs": [],
   "source": [
    "# set a value\n",
    "a = 1"
   ]
  },
  {
   "cell_type": "code",
   "execution_count": 10,
   "metadata": {},
   "outputs": [
    {
     "name": "stdout",
     "output_type": "stream",
     "text": [
      "0.9469209179660043\n",
      "1.1691630782054139\n",
      "1.1816716021897322\n",
      "1.1857677348769768\n",
      "1.1863881237018081\n",
      "1.186518958543691\n",
      "1.186542824535648\n",
      "1.1865474620021608\n",
      "1.1865483385778886\n",
      "1.1865485062774652\n",
      "1.1865485381920344\n",
      "1.1865485442795847\n",
      "1.1865485454395779\n",
      "1.18654854566072\n",
      "1.1865485457028433\n",
      "1.1865485457108953\n",
      "1.1865485457124334\n",
      "1.1865485457127387\n",
      "1.186548545712803\n",
      "1.1865485457127969\n",
      "1.1865485457127958\n",
      "1.1865485457128275\n",
      "1.1865485457128035\n",
      "1.1865485457128209\n",
      "1.186548545712824\n",
      "1.1865485457128142\n",
      "1.1865485457128147\n",
      "1.1865485457128297\n",
      "1.1865485457128204\n",
      "1.18654854571281\n",
      "1.1865485457127956\n",
      "1.1865485457127665\n",
      "1.1865485457128184\n",
      "1.1865485457128466\n",
      "1.1865485457128182\n",
      "1.1865485457128393\n",
      "1.1865485457128333\n",
      "1.1865485457128313\n",
      "1.1865485457127802\n",
      "1.1865485457128513\n",
      "1.186548545712847\n",
      "1.1865485457128162\n",
      "1.1865485457128444\n",
      "1.186548545712819\n",
      "1.1865485457127989\n",
      "1.186548545712799\n",
      "1.186548545712838\n",
      "1.1865485457128249\n",
      "1.1865485457128384\n",
      "1.1865485457128104\n",
      "1.1865485457127884\n",
      "1.1865485457128158\n",
      "1.186548545712826\n",
      "1.186548545712801\n",
      "1.1865485457128193\n",
      "1.186548545712829\n",
      "1.1865485457128275\n",
      "1.1865485457127758\n",
      "1.1865485457128286\n",
      "1.1865485457128226\n",
      "1.1865485457128198\n",
      "1.1865485457128255\n",
      "1.1865485457128118\n",
      "1.1865485457127884\n",
      "1.1865485457128158\n",
      "1.186548545712826\n",
      "1.186548545712801\n",
      "1.1865485457128193\n",
      "1.186548545712829\n",
      "1.1865485457128275\n",
      "1.1865485457127758\n",
      "1.1865485457128286\n",
      "1.1865485457128226\n",
      "1.1865485457128198\n",
      "1.1865485457128255\n",
      "1.1865485457128118\n",
      "1.1865485457127884\n",
      "1.1865485457128158\n",
      "1.186548545712826\n",
      "1.186548545712801\n",
      "1.1865485457128193\n",
      "1.186548545712829\n",
      "1.1865485457128275\n",
      "1.1865485457127758\n",
      "1.1865485457128286\n",
      "1.1865485457128226\n",
      "1.1865485457128198\n",
      "1.1865485457128255\n",
      "1.1865485457128118\n",
      "1.1865485457127884\n",
      "1.1865485457128158\n",
      "1.186548545712826\n",
      "1.186548545712801\n",
      "1.1865485457128193\n",
      "1.186548545712829\n",
      "1.1865485457128275\n",
      "1.1865485457127758\n",
      "1.1865485457128286\n",
      "1.1865485457128226\n",
      "1.1865485457128198\n"
     ]
    }
   ],
   "source": [
    "# SCF\n",
    "niterations = 100\n",
    "for iteration in range(niterations):\n",
    "    avx4 = c1 @ G @ c1\n",
    "    avy4 = c2 @ G @ c2\n",
    "\n",
    "    heffx = h + a * avy4 * G\n",
    "    heffy = h + a * avx4 * G\n",
    "\n",
    "    E, c = eigSinvH(S,heffx)\n",
    "    c1 = c[:,0]\n",
    "    e1 = E[0]\n",
    "\n",
    "    E, c = eigSinvH(S,heffy)\n",
    "    c2 = c[:,0]\n",
    "    e2 = E[0]\n",
    "\n",
    "    Etot = e1 + e2 - a * avx4 * avy4\n",
    "    print(Etot)"
   ]
  },
  {
   "cell_type": "code",
   "execution_count": 11,
   "metadata": {},
   "outputs": [
    {
     "data": {
      "text/plain": [
       "<matplotlib.legend.Legend at 0x1275435c0>"
      ]
     },
     "execution_count": 11,
     "metadata": {},
     "output_type": "execute_result"
    },
    {
     "data": {
      "image/png": "[encoded data removed]",
      "text/plain": [
       "<Figure size 640x480 with 1 Axes>"
      ]
     },
     "metadata": {},
     "output_type": "display_data"
    }
   ],
   "source": [
    "xvals = np.arange(-2.5,2.5,0.1)\n",
    "yvals = xvals\n",
    "nvals = len(xvals)\n",
    "\n",
    "chi0 = 0 * xvals\n",
    "chi1 = 0 * xvals\n",
    "chi2 = 0 * yvals\n",
    "\n",
    "for A in range(K):\n",
    "    chi0 += c0[A, 0] * np.exp(-alpha * (xvals - center[A])**2 )\n",
    "    chi1 += c1[A] * np.exp(-alpha * (xvals - center[A])**2 )\n",
    "    chi2 += c2[A] * np.exp(-alpha * (xvals - center[A])**2 )\n",
    "\n",
    "plt.plot(xvals,chi0*-1,'o', label='non-interacting')\n",
    "plt.plot(xvals,chi1, label='interacting 1')\n",
    "plt.plot(yvals,chi2, 'x', label='interacting 2')\n",
    "\n",
    "plt.legend()"
   ]
  },
  {
   "cell_type": "code",
   "execution_count": 12,
   "metadata": {},
   "outputs": [
    {
     "data": {
      "text/plain": [
       "(-2.5, 2.4000000000000044, -2.5, 2.4000000000000044)"
      ]
     },
     "execution_count": 12,
     "metadata": {},
     "output_type": "execute_result"
    },
    {
     "data": {
      "image/png": "[encoded data removed]",
      "text/plain": [
       "<Figure size 640x480 with 1 Axes>"
      ]
     },
     "metadata": {},
     "output_type": "display_data"
    }
   ],
   "source": [
    "psi = np.zeros((nvals,nvals))\n",
    "\n",
    "for i in range(nvals):\n",
    "    x = xvals[i]\n",
    "    for j in range(nvals):\n",
    "        y = yvals[j]\n",
    "\n",
    "        psi[i,j] = chi1[i] * chi2[j]\n",
    "\n",
    "plt.contourf(xvals, yvals, psi, levels=20, cmap=cm.seismic)\n",
    "plt.axis('equal')"
   ]
  },
  {
   "cell_type": "markdown",
   "metadata": {},
   "source": [
    "### An example on interacting oscillators with antisymmetry\n",
    "\n",
    "The Hamiltonian for a system of two harmonic oscillators ($x$ and $y$) with interactions:\n",
    "\n",
    "$$\n",
    "\\hat{H} = -\\frac{d^2}{dx^2} + \\frac{1}{2} x^2\n",
    "-\\frac{d^2}{dy^2} + \\frac{1}{2} y^2\n",
    "+a x^4 y^4\n",
    "= h(x) + h(y) + a x^4 y^4\n",
    "$$\n",
    "\n",
    "We now require antisymmetry:\n",
    "$$\\Psi(x, y) = -\\Psi(y, x)$$"
   ]
  },
  {
   "cell_type": "markdown",
   "metadata": {},
   "source": [
    "The previous ansatz\n",
    "$\\tilde{\\Psi}(x, y) = \\chi_1(x)\\chi_2(y)$\n",
    "no longer works.\n",
    "\n",
    "We now use the antisymmetric form\n",
    "$$\n",
    "\\tilde{\\Psi}(x, y) = \\dfrac{1}{\\sqrt{2}}\\left[ \\chi_1(x)\\chi_2(y) - \\chi_1(y)\\chi_2(x)\\right]\n",
    "$$\n",
    "\n",
    "We now variationally minimize $\\tilde{E}$ with the normalization condition $\\langle \\tilde{\\Psi}(x, y) | \\tilde{\\Psi}(x, y) \\rangle =1$, which can provide an upper bound for the ground state energy, because\n",
    "the variational principle says:\n",
    "$$\n",
    "\\tilde{E} \\langle \\tilde{\\Psi} | H | \\tilde{\\Psi} \\rangle \\ge E_0\n",
    "$$\n"
   ]
  },
  {
   "cell_type": "markdown",
   "metadata": {},
   "source": [
    "#### Functional minimization\n",
    "\n",
    "Find $\\chi_1(x)\\chi_2(y)$ that minimize $\\tilde{E}$ while maintain normalization:\n",
    "\n",
    "- Normalization:\n",
    "\n",
    "The normalization condition is satisfied if $\\chi_1(x)$ and $\\chi_2(y)$ are orthogonormal: $\\langle \\chi_1(x) | \\chi_2(y) \\rangle = \\delta_{ij}$.\n",
    "\n",
    "- Minimize $\\tilde{E}$:\n",
    "\n",
    "$$\n",
    "\\tilde{E} = \\dfrac{1}{2}\n",
    "\\int dx \\int dy \n",
    "\\left[ \\chi_1(x)\\chi_2(y) - \\chi_1(y)\\chi_2(x)\\right]\n",
    "\\left[h(x) + h(y) + a x^4 y^4\\right]\n",
    "\\left[ \\chi_1(x)\\chi_2(y) - \\chi_1(y)\\chi_2(x)\\right]\n",
    "$$\n",
    "$$\n",
    "= \\langle \\chi_1 |h | \\chi_1 \\rangle\n",
    "+ \\langle \\chi_2 |h | \\chi_2 \\rangle\n",
    "+ a\\langle \\chi_1 | x^4 | \\chi_1 \\rangle \\langle \\chi_2 | y^4 | \\chi_2 \\rangle\n",
    "- a\\langle \\chi_1 | x^4 | \\chi_2 \\rangle \\langle \\chi_2 | y^4 | \\chi_1 \\rangle\n",
    "$$\n",
    "The last term is the **exchange interaction**."
   ]
  },
  {
   "cell_type": "markdown",
   "metadata": {},
   "source": [
    "Vary $\\chi_1(x)$ and $\\chi_2(y)$ by small amounts $\\delta\\chi_1(x)$ and $\\delta\\chi_2(x)$:\n",
    "\n",
    "$$\n",
    "\\delta \\left( \\int dx \\chi_1(x) h(x)\\chi_1(x) \\right)\n",
    "= \\int dx \\left(\\chi_1(x)+\\delta\\chi_1(x)\\right) h(x)\\left(\\chi_1(x)+\\delta\\chi_1(x)\\right) - \\int dx \\chi_1(x) h(x)\\chi_1(x)\\\\\n",
    "= 2\\int dx \\delta\\chi_1(x) h(x) \\chi_1(x) + \\mathcal{O}(\\delta \\chi_1)^2\n",
    "$$\n",
    "\n",
    "$$\n",
    "\\delta \\left( \\langle \\chi_1 | x^4 | \\chi_2 \\rangle \\langle \\chi_2 | y^4 | \\chi_1 \\rangle \\right)\n",
    "= \\delta \\left( \\int dx \\chi_1(x) x^4 \\chi_2(x)\\right)^2\n",
    "\\\\\n",
    "= 2  \\langle \\chi_1 | x^4 | \\chi_2 \\rangle \\int dx \\delta\\chi_1(x) x^4 \\chi_2(x) +  \\delta\\chi_2(x) x^4 \\chi_1(x)\n",
    "$$\n",
    "\n",
    "The change in $\\tilde{E}$ is:\n",
    "$$\n",
    "\\delta\\tilde{E} = 2 \\int dx \\delta\\chi_1(x) \\left[h(x) + ax^4 \\langle y^4 \\rangle \\right] \\chi_1(x)\n",
    "+ 2 \\int dx \\delta\\chi_2(y) \\left[h(y) + a\\langle x^4 \\rangle y^4  \\right] \\chi_2(y)\n",
    "+ 2  a\\langle \\chi_1 | x^4 | \\chi_2 \\rangle \\int dx \\delta\\chi_1(x) x^4 \\chi_2(x) +  \\delta\\chi_2(x) x^4 \\chi_1(x)\n",
    "$$"
   ]
  },
  {
   "cell_type": "markdown",
   "metadata": {},
   "source": [
    "#### Combining energy minimization and normalization\n",
    "\n",
    "Lagrange multiplier is:\n",
    "$$\n",
    "\\mathcal{L} = \\tilde{E} - \\lambda_{11}\\int dx \\chi_1^2(x) - \\lambda_{22}\\int dy \\chi_2^2(y) - \\lambda_{12}\\int dy \\chi_1(x)\\chi_2(x)\n",
    "$$"
   ]
  },
  {
   "cell_type": "markdown",
   "metadata": {},
   "source": [
    "At minimum:\n",
    "$$\n",
    "\\delta \\mathcal{L} =\n",
    "2 \\int dx \\delta\\chi_1(x) \\left[\n",
    "\\left(h(x) + a x^4 \\langle y^4 \\rangle - \\lambda_{11}\\right)\\chi_1(x)\n",
    "+\\left(a \\langle \\chi_1 | x^4 | \\chi_2 \\rangle x^4 \\chi_2(x) - \\frac{1}{2}\\lambda_{12}\\right)\\chi_2(x)\n",
    "\\right] \\\\\n",
    "+ 2 \\int dx \\delta\\chi_2(y) \\ldots\n",
    "= 0\n",
    "$$\n",
    "\n",
    "This must hold for any small $\\delta\\chi_1(x)$ and $\\delta\\chi_2(y)$, meaning\n",
    "$$\n",
    "\\left[h(x) + a x^4 \\langle \\chi_2 | y^4 | \\chi_2 \\rangle \\right] \\chi_1(x) \n",
    "- a \\langle \\chi_1 | x^4 | \\chi_2 \\rangle x^4 \\chi_2(x)\n",
    "= \\lambda_{11} \\chi_1(x) + \\frac{1}{2} \\lambda_{12}\\chi_2(x)\n",
    "$$\n",
    "The term $\\frac{1}{2} \\lambda_{12}\\chi_2(x)$ can be ignored (Szabo 3.2.3)\n"
   ]
  },
  {
   "cell_type": "markdown",
   "metadata": {},
   "source": [
    "#### Basis set expansion\n",
    "The obitals are expanded, e.g. in a Gaussian basis set $\\phi_B(x) = \\exp \\left( -\\alpha (x-x_B)^2\\right)$:\n",
    "$$\n",
    "\\chi_1(x) = \\sum_B c_{B1} \\phi_B(x)\n",
    "$$\n",
    "\n",
    "$$\n",
    "\\chi_2(x) = \\sum_B c_{B2} \\phi_B(x)\n",
    "$$"
   ]
  },
  {
   "cell_type": "markdown",
   "metadata": {},
   "source": [
    "$$\\int dx \\phi_A(x) h\\chi_1(x) = \\sum_B c_{B1}\\phi_A(x) h \\phi_B(x) = \\sum_B c_{B1} h_{AB}$$\n",
    "\n",
    "$$\\langle \\chi_2 | y^4 | \\chi_2 \\rangle = \n",
    "\\int dy (\\sum_B c_{B2} \\phi_B(y)) y^4 (\\sum_B c_{B2} \\phi_B(y))\n",
    "= \\sum_{D,E} c_{D2} c_{E2}\\int dx \\phi_B(y) y^4 \\phi_E(y) = \\sum_{D,E} c_{D2} c_{E2} G_{DE}$$\n",
    "\n",
    "$$\\int dx \\phi_A(x) a x^4 \\langle \\chi_2 | y^4 | \\chi_2 \\rangle  \\chi_1(x) = a \\sum_B (\\sum_{D,E} c_{D2} c_{E2} G_{DE}) G_{AB} c_{B1}$$\n",
    "\n",
    "$$\\langle \\chi_1 | x^4 | \\chi_2 \\rangle = \n",
    "\\int dx (\\sum_B c_{B1} \\phi_B(x)) y^4 (\\sum_B c_{B2} \\phi_B(x))\n",
    "= \\sum_{D,E} c_{D1} c_{E2} G_{DE}\n",
    "$$\n",
    "\n",
    "$$\n",
    "- a \\int dx \\phi_A(x) \\langle \\chi_1 | x^4 | \\chi_2 \\rangle x^4 \\chi_2(x) =\n",
    "- a \\sum_B (\\sum_{D,E} c_{D1} c_{E2} G_{DE}) G_{AB} c_{B2}\n",
    "$$\n",
    "\n",
    "$$\n",
    "\\int dx \\phi_A(x) \\lambda_{11} \\chi_1(x) = \\epsilon_1 \\sum_B S_{AB}c_{B1}\n",
    "$$"
   ]
  },
  {
   "cell_type": "markdown",
   "metadata": {},
   "source": [
    "#### Equation to solve:\n",
    "\n",
    "$$\n",
    "\\sum_B h_{AB} + a\\left[\n",
    "\\sum_{B,D,E} c_{D2} c_{E2} G_{DE} G_{AB} c_{B1} - \\sum_{B,D,E} c_{D1} c_{E2} G_{DE} G_{AB} c_{B2}\n",
    "\\right]\n",
    "= \\epsilon_1 \\sum_B A_{AB}c_{B1}\n",
    "$$\n",
    "\n",
    "A change of index $B\\leftrightarrow D$ in the last term on the l.h.s:\n",
    "$$\n",
    "\\sum_{B,D,E} c_{D1} c_{E2} G_{DE} G_{AB} c_{B2} \\leftrightarrow\n",
    "\\sum_{B,D,E} c_{B1} c_{E2} G_{BE} G_{AD} c_{D2}\n",
    "= \\sum_{B,D,E} c_{E2} G_{BE} G_{AD} c_{D2} c_{B1} \n",
    "$$\n",
    "\n",
    "$$\n",
    "\\sum_B \\left[ h_{AB} + a\n",
    "\\sum_{D,E} c_{D2} c_{E2} (G_{DE} G_{AB} - G_{BE} G_{AD}) c_{B1}\n",
    "\\right]\n",
    "= \\epsilon_1 \\sum_B S_{AB}c_{B1}\n",
    "$$"
   ]
  },
  {
   "cell_type": "markdown",
   "metadata": {},
   "source": [
    "$$\n",
    "a x^4 \\langle \\chi_1 | x^4 | \\chi_1 \\rangle  \\chi_1(x) \n",
    "- a \\langle \\chi_1 | x^4 | \\chi_1 \\rangle x^4 \\chi_1(x) = 0\n",
    "= a \\sum_B\n",
    "\\sum_{D,E} c_{D1} c_{E1} (G_{DE} G_{AB} - G_{BE} G_{AD}) c_{B1}\n",
    "$$\n",
    "\n",
    "Add to the previous equation:\n",
    "\n",
    "$$\n",
    "\\sum_B \\left[ h_{AB} + a\n",
    "\\sum_{D,E} (c_{D1} c_{E1} + c_{D2} c_{E2})(G_{DE} G_{AB} - G_{BE} G_{AD}) c_{B1}\n",
    "\\right]\n",
    "= \\epsilon_1 \\sum_B S_{AB}c_{B1}\n",
    "$$"
   ]
  },
  {
   "cell_type": "markdown",
   "metadata": {},
   "source": [
    "Define **density matrix**:\n",
    "\n",
    "$$P_{DE} = c_{D1} c_{E1} + c_{D2} c_{E2}$$\n",
    "\n",
    "To simplify $P_{DE}(G_{DE} G_{AB} - G_{BE} G_{AD})$, note\n",
    "$$\n",
    "\\sum_{D,E} P_{DE}G_{DE} = Tr(P G)\n",
    "$$\n",
    "and\n",
    "$$\n",
    "\\sum_{D,E} G_{BD}P_{DE}G_{EA} = (GPG)_{AB}\n",
    "$$\n",
    "\n",
    "Finally, in matrix form:\n",
    "$$\n",
    "\\left[ h+a\\left( Tr(P G)G - GPG \\right)\\right] c_1 = \\epsilon_1 c_1\n",
    "$$\n",
    "$\\hat{h}_{eff}=h+a\\left( Tr(P G)G - GPG \\right)$.\n",
    "\n",
    "As before:\n",
    "\n",
    "$$\n",
    "\\tilde{E} = \\dfrac{1}{2}\\left[\n",
    "\\epsilon_1 + \\epsilon_2 + c_1 h c_1 + c_2 h c_2\n",
    "\\right]\n",
    "= \\dfrac{1}{2}\\left[\n",
    "\\epsilon_1 + \\epsilon_2 + Tr(Ph)\n",
    "\\right]\n",
    "$$"
   ]
  },
  {
   "cell_type": "code",
   "execution_count": 13,
   "metadata": {},
   "outputs": [
    {
     "name": "stdout",
     "output_type": "stream",
     "text": [
      "3.1797193591620916\n",
      "2.6912566171205157\n",
      "2.5488985836287794\n",
      "2.5350181752942333\n",
      "2.53075766802422\n",
      "2.5286216884233403\n",
      "2.5272388774478527\n",
      "2.5262170472697942\n",
      "2.5254084838890876\n",
      "2.5247485468999047\n",
      "2.5242023478375137\n",
      "2.5237472868453494\n",
      "2.523366841945856\n",
      "2.5230481303957175\n",
      "2.522780780766828\n",
      "2.5225563072135087\n",
      "2.5223677046327024\n",
      "2.5222091588607465\n",
      "2.522075826723645\n",
      "2.5219636634916225\n",
      "2.521869284823959\n",
      "2.52178985488632\n",
      "2.521722994860998\n",
      "2.5216667076325088\n",
      "2.521619315472797\n",
      "2.5215794082787806\n",
      "2.5215458004415625\n",
      "2.5215174948232586\n",
      "2.521493652613091\n",
      "2.5214735680678046\n",
      "2.521456647321803\n",
      "2.521442390596636\n",
      "2.5214303772552165\n",
      "2.5214202532401875\n",
      "2.5214117205126936\n",
      "2.521404528170769\n",
      "2.5213984649785517\n",
      "2.521393353082048\n",
      "2.521389042722249\n",
      "2.5213854077864966\n",
      "2.5213823420659627\n",
      "2.521379756106037\n",
      "2.521377574556597\n",
      "2.5213757339415306\n",
      "2.5213741807822805\n",
      "2.521372870018282\n",
      "2.5213717636778528\n",
      "2.521370829759153\n",
      "2.521370041288725\n",
      "2.5213693755282\n",
      "2.521368813307617\n",
      "2.52136833846292\n",
      "2.521367937363142\n",
      "2.5213675985119535\n",
      "2.5213673122119973\n",
      "2.5213670702824684\n",
      "2.5213668658211046\n",
      "2.5213666930032894\n",
      "2.521366546913318\n",
      "2.521366423402312\n",
      "2.521366318967576\n",
      "2.5213662306520606\n",
      "2.521366155958741\n",
      "2.5213660927788517\n",
      "2.521366039331342\n",
      "2.5213659941116244\n",
      "2.521365955848677\n",
      "2.521365923468494\n",
      "2.521365896063491\n",
      "2.5213658728665687\n",
      "2.521365853229389\n",
      "2.521365836603914\n",
      "2.5213658225265654\n",
      "2.521365810605559\n",
      "2.521365800509512\n",
      "2.521365791958166\n",
      "2.5213657847144058\n",
      "2.5213657785776222\n",
      "2.5213657733781325\n",
      "2.521365768972365\n",
      "2.5213657652387056\n",
      "2.5213657620743706\n",
      "2.521365759392277\n",
      "2.521365757118687\n",
      "2.5213657551912005\n",
      "2.521365753557008\n",
      "2.521365752171248\n",
      "2.521365750996207\n",
      "2.521365749999612\n",
      "2.5213657491543557\n",
      "2.5213657484373826\n",
      "2.5213657478291807\n",
      "2.5213657473131765\n",
      "2.5213657468753174\n",
      "2.521365746503789\n",
      "2.5213657461885326\n",
      "2.521365745921034\n",
      "2.5213657456939433\n",
      "2.5213657455011793\n",
      "2.521365745337544\n"
     ]
    }
   ],
   "source": [
    "E, c = eigSinvH(S,h)\n",
    "c1 = c[:,0]\n",
    "c2 = c[:,1]\n",
    "\n",
    "a = 1\n",
    "\n",
    "P = np.zeros((K,K))\n",
    "\n",
    "niterations = 100\n",
    "for iteration in range(niterations):\n",
    "\n",
    "    P = np.outer(c1,c1) + np.outer(c2,c2)\n",
    "\n",
    "    heff = h + a * ( np.trace(P @ G)*G - G @ P @ G )\n",
    "\n",
    "    E, c = eigSinvH(S,heff)\n",
    "    c1 = c[:,0]\n",
    "    c2 = c[:,1]\n",
    "    e1 = E[0]\n",
    "    e2 = E[1]\n",
    "\n",
    "    Etot = 0.5 * ( e1 + e2 + np.trace(P @ h) )\n",
    "    print(Etot)"
   ]
  },
  {
   "cell_type": "code",
   "execution_count": 14,
   "metadata": {},
   "outputs": [
    {
     "data": {
      "text/plain": [
       "[<matplotlib.lines.Line2D at 0x1277da720>]"
      ]
     },
     "execution_count": 14,
     "metadata": {},
     "output_type": "execute_result"
    },
    {
     "data": {
      "image/png": "[encoded data removed]",
      "text/plain": [
       "<Figure size 640x480 with 1 Axes>"
      ]
     },
     "metadata": {},
     "output_type": "display_data"
    }
   ],
   "source": [
    "xvals = np.arange(-2.5,2.5,0.1)\n",
    "yvals = xvals\n",
    "nvals = len(xvals)\n",
    "\n",
    "chi1 = 0 * xvals\n",
    "chi2 = 0 * yvals\n",
    "\n",
    "for A in range(K):\n",
    "    chi1 += c1[A] * np.exp(-alpha * (xvals - center[A])**2 )\n",
    "    chi2 += c2[A] * np.exp(-alpha * (xvals - center[A])**2 )\n",
    "plt.plot(xvals,chi1)\n",
    "plt.plot(yvals,chi2)\n"
   ]
  },
  {
   "cell_type": "code",
   "execution_count": 36,
   "metadata": {},
   "outputs": [
    {
     "data": {
      "text/plain": [
       "(-2.5, 2.4000000000000044, -2.5, 2.4000000000000044)"
      ]
     },
     "execution_count": 36,
     "metadata": {},
     "output_type": "execute_result"
    },
    {
     "data": {
      "image/png": "[encoded data removed]",
      "text/plain": [
       "<Figure size 640x480 with 1 Axes>"
      ]
     },
     "metadata": {},
     "output_type": "display_data"
    }
   ],
   "source": [
    "psi = np.zeros((nvals,nvals))\n",
    "\n",
    "for i in range(nvals):\n",
    "    x = xvals[i]\n",
    "    for j in range(nvals):\n",
    "        y = yvals[j]\n",
    "\n",
    "        psi[i,j] = (1/np.sqrt(2))*(chi1[i] * chi2[j] \\\n",
    "                                - chi2[i] * chi1[j] )\n",
    "\n",
    "\n",
    "plt.contourf(xvals, yvals, psi, levels=20, cmap=cm.seismic)\n",
    "plt.axis('equal')"
   ]
  },
  {
   "cell_type": "code",
   "execution_count": null,
   "metadata": {},
   "outputs": [],
   "source": []
  }
 ],
 "metadata": {
  "kernelspec": {
   "display_name": "Python 3 (ipykernel)",
   "language": "python",
   "name": "python3"
  },
  "language_info": {
   "codemirror_mode": {
    "name": "ipython",
    "version": 3
   },
   "file_extension": ".py",
   "mimetype": "text/x-python",
   "name": "python",
   "nbconvert_exporter": "python",
   "pygments_lexer": "ipython3",
   "version": "3.12.4"
  }
 },
 "nbformat": 4,
 "nbformat_minor": 4
}
