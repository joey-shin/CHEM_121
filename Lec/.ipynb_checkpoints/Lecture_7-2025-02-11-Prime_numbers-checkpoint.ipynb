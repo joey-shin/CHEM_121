{
 "cells": [
  {
   "cell_type": "markdown",
   "id": "a612ec63",
   "metadata": {},
   "source": [
    "### Find all prime numbers between 1-1000"
   ]
  },
  {
   "cell_type": "code",
   "execution_count": 1,
   "id": "d7e46a4d",
   "metadata": {},
   "outputs": [],
   "source": [
    "import numpy as np"
   ]
  },
  {
   "cell_type": "code",
   "execution_count": 13,
   "id": "a6c737fb",
   "metadata": {},
   "outputs": [
    {
     "name": "stdout",
     "output_type": "stream",
     "text": [
      "CPU times: user 49.1 ms, sys: 1.7 ms, total: 50.7 ms\n",
      "Wall time: 49.7 ms\n"
     ]
    }
   ],
   "source": [
    "%%time\n",
    "prime_numbers = []\n",
    "for i in range(2,1000):\n",
    "    is_prime = True\n",
    "    for j in range(2, i):\n",
    "        if (i % j == 0):\n",
    "            #print(\"Not prime: \", i)\n",
    "            is_prime = False\n",
    "    if is_prime:\n",
    "        prime_numbers.append(i)\n",
    "        #print(\"Prime No.: \", i)"
   ]
  },
  {
   "cell_type": "code",
   "execution_count": 16,
   "id": "e3016b4f",
   "metadata": {},
   "outputs": [
    {
     "name": "stdout",
     "output_type": "stream",
     "text": [
      "CPU times: user 157 µs, sys: 2 µs, total: 159 µs\n",
      "Wall time: 166 µs\n"
     ]
    }
   ],
   "source": [
    "%%time\n",
    "prime_numbers = []\n",
    "for i in range(2,1000,2):\n",
    "    is_prime = True\n",
    "    #for j in range(2, int(j**0.5)):\n",
    "    for j in prime_numbers:\n",
    "        if (i % j == 0):\n",
    "            #print(\"Not prime: \", i)\n",
    "            is_prime = False\n",
    "    if is_prime:\n",
    "        prime_numbers.append(i)"
   ]
  },
  {
   "cell_type": "code",
   "execution_count": 12,
   "id": "35da18c3",
   "metadata": {},
   "outputs": [
    {
     "name": "stdout",
     "output_type": "stream",
     "text": [
      "[2, 3, 5, 7, 11, 13, 17, 19, 23, 29, 31, 37, 41, 43, 47, 53, 59, 61, 67, 71, 73, 79, 83, 89, 97, 101, 103, 107, 109, 113, 127, 131, 137, 139, 149, 151, 157, 163, 167, 173, 179, 181, 191, 193, 197, 199, 211, 223, 227, 229, 233, 239, 241, 251, 257, 263, 269, 271, 277, 281, 283, 293, 307, 311, 313, 317, 331, 337, 347, 349, 353, 359, 367, 373, 379, 383, 389, 397, 401, 409, 419, 421, 431, 433, 439, 443, 449, 457, 461, 463, 467, 479, 487, 491, 499, 503, 509, 521, 523, 541, 547, 557, 563, 569, 571, 577, 587, 593, 599, 601, 607, 613, 617, 619, 631, 641, 643, 647, 653, 659, 661, 673, 677, 683, 691, 701, 709, 719, 727, 733, 739, 743, 751, 757, 761, 769, 773, 787, 797, 809, 811, 821, 823, 827, 829, 839, 853, 857, 859, 863, 877, 881, 883, 887, 907, 911, 919, 929, 937, 941, 947, 953, 967, 971, 977, 983, 991, 997]\n"
     ]
    }
   ],
   "source": [
    "print(prime_numbers)"
   ]
  },
  {
   "cell_type": "code",
   "execution_count": null,
   "id": "e8f501ec",
   "metadata": {},
   "outputs": [],
   "source": []
  }
 ],
 "metadata": {
  "kernelspec": {
   "display_name": "Python 3 (ipykernel)",
   "language": "python",
   "name": "python3"
  },
  "language_info": {
   "codemirror_mode": {
    "name": "ipython",
    "version": 3
   },
   "file_extension": ".py",
   "mimetype": "text/x-python",
   "name": "python",
   "nbconvert_exporter": "python",
   "pygments_lexer": "ipython3",
   "version": "3.8.16"
  }
 },
 "nbformat": 4,
 "nbformat_minor": 5
}
