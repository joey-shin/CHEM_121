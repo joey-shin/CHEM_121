{
 "cells": [
  {
   "cell_type": "markdown",
   "metadata": {},
   "source": [
    "# Chem121 Intro to CompChem"
   ]
  },
  {
   "cell_type": "markdown",
   "metadata": {},
   "source": [
    "## Recap"
   ]
  },
  {
   "cell_type": "markdown",
   "metadata": {},
   "source": [
    "### Interacting oscillators with antisymmetry\n",
    "\n",
    "The Hamiltonian for a system of two harmonic oscillators ($x$ and $y$) with interactions:\n",
    "\n",
    "$$\n",
    "\\hat{H} = -\\frac{d^2}{dx^2} + \\frac{1}{2} x^2\n",
    "-\\frac{d^2}{dy^2} + \\frac{1}{2} y^2\n",
    "+a x^4 y^4\n",
    "= h(x) + h(y) + a x^4 y^4\n",
    "$$\n",
    "\n",
    "Ensure antisymmetry\n",
    "$$\\Psi(x, y) = -\\Psi(y, x)$$\n",
    "using the antisymmetric form\n",
    "$$\n",
    "\\tilde{\\Psi}(x, y) = \\dfrac{1}{\\sqrt{2}}\\left[ \\chi_1(x)\\chi_2(y) - \\chi_1(y)\\chi_2(x)\\right]\n",
    "$$\n",
    "\n",
    "Or in matrix form\n",
    "$$\n",
    "\\begin{aligned}\n",
    "\\Psi (x_1, x_2) &= 2^{-1/2}\n",
    "\\begin{vmatrix}\n",
    "\\chi_i (x_1) & \\chi_j (x_1) \\\\\n",
    "\\chi_i (x_2) & \\chi_j (x_2)\n",
    "\\end{vmatrix}\n",
    "\\end{aligned}\n",
    "$$\n",
    "\n"
   ]
  },
  {
   "cell_type": "markdown",
   "metadata": {},
   "source": [
    "Variationally minimize $\\tilde{E}$ with the normalization condition $\\langle \\tilde{\\Psi}(x, y) | \\tilde{\\Psi}(x, y) \\rangle =1$, by solving the equation\n",
    "$$\n",
    "\\left[h(x) + a x^4 \\langle \\chi_2 | y^4 | \\chi_2 \\rangle \\right] \\chi_1(x) \n",
    "- a \\langle \\chi_1 | x^4 | \\chi_2 \\rangle x^4 \\chi_2(x)\n",
    "= \\epsilon_{1} \\chi_1(x)\n",
    "$$"
   ]
  },
  {
   "cell_type": "markdown",
   "metadata": {},
   "source": [
    "Just rearranging the equation:\n",
    "\n",
    "$$\n",
    "h(x)\\chi_1(x)  + a x^4 \\int dy  \\chi_2(y) y^4 \\chi_2(y) \\chi_1(x) \n",
    "- a \\int dy x^4  \\chi_1(y) y^4 \\chi_2(y) \\chi_2(x)\n",
    "= \\epsilon_{1} \\chi_1(x)\n",
    "$$\n",
    "\n",
    "$$\n",
    "h(x)\\chi_1(x)  + a \\int dy x^4 y^4 \\left[ \\chi_2^2(y) \\chi_1(x) \n",
    "-   \\chi_1(y) \\chi_2(y) \\chi_2(x) \\right]\n",
    "= \\epsilon_{1} \\chi_1(x)\n",
    "$$"
   ]
  },
  {
   "cell_type": "markdown",
   "metadata": {},
   "source": [
    "The estimate energy\n",
    "$$\n",
    "\\tilde{E} = \\epsilon_1 + \\epsilon_2 - a \\langle x^4 \\rangle \\langle y^4 \\rangle\n",
    "= \\dfrac{1}{2}\\left[\n",
    "\\epsilon_1 + \\epsilon_2 + \\langle \\chi_1 | h | \\chi_1 \\rangle + \\langle \\chi_2 | h | \\chi_2 \\rangle\n",
    "\\right]\n",
    "$$"
   ]
  },
  {
   "cell_type": "markdown",
   "metadata": {},
   "source": [
    "## Wavefunctions for electrons\n",
    "The electronic Hamiltonian represents the motion of N electrons in the field of fixed nuclei."
   ]
  },
  {
   "cell_type": "markdown",
   "metadata": {},
   "source": [
    "$$ H = - \\sum_{i=1}^{N} \\frac{1}{2} \\nabla_i^2 \n",
    "- \\sum_{i=1}^{N} \\sum_{A=1}^{M} \\frac{Z_A}{r_{iA}} + \\sum_{i=1}^{N} \\sum_{j>i}^{N} \\frac{1}{r_{ij}} $$"
   ]
  },
  {
   "cell_type": "markdown",
   "metadata": {},
   "source": [
    "Antisymmetric wavefunction (**slater determinant**):\n",
    "$$\n",
    "\\begin{aligned}\n",
    "\\Psi (x_1, x_2, \\dots, x_N) &= (N!)^{-1/2}\n",
    "\\begin{vmatrix}\n",
    "\\chi_i (x_1) & \\chi_j (x_1) & \\dots & \\chi_k (x_1) \\\\\n",
    "\\chi_i (x_2) & \\chi_j (x_2) & \\dots & \\chi_k (x_2) \\\\\n",
    "\\vdots & \\vdots & \\ddots & \\vdots \\\\\n",
    "\\chi_i (x_N) & \\chi_j (x_N) & \\dots & \\chi_k (x_N)\n",
    "\\end{vmatrix}\n",
    "\\end{aligned}\n",
    "$$\n",
    "The $\\chi(x) = \\psi(r)\\alpha(\\omega)$ or $\\chi(x) = \\psi(r)\\beta(\\omega)$ are one-electron wave functions referred to as **spin-orbitals**, and $x=(r, \\omega)$."
   ]
  },
  {
   "cell_type": "markdown",
   "metadata": {},
   "source": [
    "A set of $N$ equations which can be solved for a set of one-electron wavefunctions:\n",
    "\n",
    "\n",
    "$$\n",
    "h(x)\\chi_i(x)  + a \\sum_{j=1}^N\\int dx' \\dfrac{1}{|r - r'|} \\left[ \\chi_j^2(x') \\chi_i(x) \n",
    "-   \\chi_i(x') \\chi_j(x') \\chi_j(x) \\right]\n",
    "= \\epsilon_{1} \\chi_1(x)\n",
    "$$\n"
   ]
  },
  {
   "cell_type": "markdown",
   "metadata": {},
   "source": [
    "The estimate energy\n",
    "$$\n",
    "\\tilde{E} =  \\dfrac{1}{2}\\sum_i\\left[\n",
    "\\epsilon_i + \\langle \\chi_i | h | \\chi_i \\rangle \n",
    "\\right]\n",
    "$$"
   ]
  },
  {
   "cell_type": "markdown",
   "metadata": {},
   "source": [
    "### Removing spin\n",
    "\n",
    "$\\chi(x) = \\psi(r)\\alpha(\\omega)$ or $\\chi(x) = \\psi(r)\\beta(\\omega)$"
   ]
  },
  {
   "cell_type": "markdown",
   "metadata": {},
   "source": [
    "- $\\omega$-space is spanned by two states, $\\alpha(\\omega)$ and $\\beta(\\omega)$ with\n",
    "\n",
    "$\\langle \\alpha | \\alpha \\rangle = \\langle \\beta | \\beta \\rangle =1 $ and $\\langle \\alpha | \\beta \\rangle =0 $\n",
    "\n",
    "- $\\omega$ does not enter the Hamiltonian"
   ]
  },
  {
   "cell_type": "markdown",
   "metadata": {},
   "source": [
    "#### restricted Hartree Fock\n",
    "\n",
    "$N/2$ spatial orbitals, each doubly occupied, e.g.\n",
    "\n",
    "- $ \\chi_1 (x_1) = \\psi_1 (r_1) \\alpha (\\omega) $\n",
    "- $ \\chi_2 (x_2) = \\psi_2 (r_2) \\alpha (\\omega) $\n",
    "- $ \\chi_3 (x_3) = \\psi_1 (r_1) \\beta (\\omega) $\n",
    "- $ \\chi_4 (x_4) = \\psi_2 (r_2) \\beta (\\omega) $\n"
   ]
  },
  {
   "cell_type": "markdown",
   "metadata": {},
   "source": [
    "For $i\\le N/2$, the self-consistent one-particle equation read:\n",
    "\n",
    "$$\n",
    "h(r)\\psi_i(r)\\alpha(\\omega)  + a \\sum_{j=1}^{N/2}\\int dr' \\int \\omega' \\dfrac{1}{|r - r'|} \n",
    "\\left[ (\\psi_j^2(r')(\\alpha^2(\\omega') + \\beta^2(\\omega'))\\psi_i(r)\\alpha(\\omega) \n",
    "-   \\psi_i(r')\\alpha(\\omega') \\psi_j(r') \\psi_j(r) (\\alpha(\\omega')\\alpha(\\omega)+\\beta(\\omega)\\beta(\\omega')) \\right]\n",
    "= \\epsilon_{1} \\chi_1(x)\n",
    "$$\n",
    "\n",
    "Multiply by $\\alpha(\\omega)$ and integrate over $\\omega$:\n",
    "\n",
    "$$\n",
    "h(r)\\psi_i(r)  + a \\sum_{j=1}^{N/2}\\int dr' \\dfrac{1}{|r - r'|} \\left[ 2\\psi_j^2(r')\\psi_i(r)\n",
    "-   \\psi_i(r')\\psi_j(r') \\psi_j(r)  \\right]\n",
    "= \\epsilon_{1} \\chi_1(x)\n",
    "$$"
   ]
  },
  {
   "cell_type": "markdown",
   "metadata": {},
   "source": [
    "#### Basis set expansion\n",
    "The obitals are expanded in a basis set:\n",
    "$$\n",
    "\\psi_i(r)  = \\sum_{\\nu=1}^K c_{\\nu i}\\phi_\\nu (r)\n",
    "$$"
   ]
  },
  {
   "cell_type": "markdown",
   "metadata": {},
   "source": [
    "$$\n",
    "\\sum_{j=1}^{N/2}\\int dr \\int dr' \\dfrac{1}{|r - r'|} \\phi_{\\mu}(r)\n",
    "\\left[\n",
    "2 (\\sum_\\sigma c_{\\sigma j}\\phi_\\sigma(r'))\n",
    "(\\sum_\\lambda c_{\\lambda j}\\phi_\\lambda(r'))\n",
    "(\\sum_\\nu c_{\\nu i}\\phi_\\nu(r))\n",
    "\\right] \\\\\n",
    "= 2\\sum_{j=1}^{N/2} \\sum_{\\sigma,\\lambda,\\nu}  c_{\\sigma j} c_{\\lambda j} c_{\\nu i} \n",
    "\\int dr \\int dr' \\dfrac{1}{|r - r'|} \\phi_{\\mu}(r) \\phi_\\nu(r) \\phi_\\sigma(r') \\phi_\\lambda(r') \\\\\n",
    "= 2\\sum_{j=1}^{N/2} \\sum_{\\sigma,\\lambda,\\nu}  c_{\\sigma j} c_{\\lambda j} c_{\\nu i} \n",
    "(\\mu\\nu | \\sigma \\lambda)\n",
    "$$\n",
    "\n",
    "Define:\n",
    "\n",
    "$\n",
    "(\\mu\\nu | \\sigma \\lambda) = \\int dr \\int dr' \\phi_{\\mu}(r) \\phi_\\nu(r) \\dfrac{1}{|r - r'|} \\phi_\\sigma(r') \\phi_\\lambda(r')\n",
    "$\n",
    "\n",
    "$(\\mu\\nu | \\sigma \\lambda) = (\\nu \\mu|  \\lambda \\sigma) \\ne (\\mu\\lambda | \\sigma \\nu)$"
   ]
  },
  {
   "cell_type": "markdown",
   "metadata": {},
   "source": [
    "$$\n",
    "-\\sum_{j=1}^{N/2}\\int dr \\int dr' \\dfrac{1}{|r - r'|} \\phi_{\\mu}(r)\n",
    "\\left[\n",
    " (\\sum_\\nu c_{\\nu i}\\phi_\\nu(r'))\n",
    "(\\sum_\\lambda c_{\\lambda j}\\phi_\\lambda(r'))\n",
    "(\\sum_\\sigma c_{\\sigma j}\\phi_\\sigma(r))\n",
    "\\right] \\\\\n",
    "-\\sum_{j=1}^{N/2}\\int dr \\int dr' \\dfrac{1}{|r - r'|} \\phi_{\\mu}(r)\n",
    "= \\sum_{\\sigma,\\lambda,\\nu}  c_{\\sigma j} c_{\\lambda j} c_{\\nu i} \n",
    "\\int dr \\int dr' \\phi_{\\mu}(r) \\phi_\\nu(r') \\phi_\\sigma(r') \\phi_\\lambda(r) \\\\\n",
    "-\\sum_{j=1}^{N/2}\\int dr \\int dr' \\dfrac{1}{|r - r'|} \\phi_{\\mu}(r)\n",
    "= - \\sum_{\\sigma,\\lambda,\\nu}  c_{\\sigma j} c_{\\lambda j} c_{\\nu i} \n",
    "(\\mu\\lambda | \\sigma \\nu)                                    \n",
    "$$"
   ]
  },
  {
   "cell_type": "markdown",
   "metadata": {},
   "source": [
    "Define:\n",
    "$$\n",
    "P_{\\sigma \\lambda} = 2 \\sum_{j=1}^{N/2} c_{\\sigma j}c_{\\lambda j}\n",
    "$$"
   ]
  },
  {
   "cell_type": "markdown",
   "metadata": {},
   "source": [
    "The self-consistent equation become\n",
    "$$\n",
    "\\sum_v \\{ \n",
    "h_{\\mu\\nu}\n",
    "+ \\sum_{\\sigma,\\lambda}P_{\\sigma \\lambda} [(\\mu\\nu | \\sigma \\lambda)-\\dfrac{1}{2}(\\mu\\lambda | \\sigma \\nu)]\n",
    "\\}c_{\\nu i} = \\epsilon_1\\sum_\\nu S_{\\mu\\nu}c_{\\nu i}\n",
    "$$\n",
    "\n",
    "$h_{\\mu\\nu}\n",
    "+ \\sum_{\\sigma,\\lambda} P_{\\sigma \\lambda}[(\\mu\\nu | \\sigma \\lambda)-\\dfrac{1}{2}(\\mu\\lambda | \\sigma \\nu)]$ is the **Fock Matrix**\n",
    "$F_{\\mu\\nu}$.\n",
    "\n",
    "The ***Roothan Equation*:\n",
    "$$\n",
    "Fc_i = \\epsilon_i S c_i \n",
    "$$\n",
    "and\n",
    "$$\n",
    "\\tilde{E} =  \\sum_i^{N/2}\n",
    "\\epsilon_i + \\dfrac{1}{2}Tr(P h)\n",
    "$$"
   ]
  },
  {
   "cell_type": "markdown",
   "metadata": {},
   "source": [
    "### The basis functions are now a linear combination of Gaussians\n",
    "\n",
    "**\"Constracted Gaussian function\"** Basis:\n",
    "$$\n",
    "\\phi_\\mu (\\vec{r}) = \\sum_{A=1}^{L} d_{A\\mu} g (\\alpha_{A\\mu}, \\vec{r}-\\vec{R}_{A\\mu})\n",
    "$$\n",
    "\n",
    "Wavefunction:\n",
    "$$\n",
    "\\psi(\\vec{r}) = \\sum_{\\mu=1}^K \\sum_{A=1}^{L} d_{A\\mu} g (\\alpha_{A\\mu}, \\vec{r}-\\vec{R}_{A\\mu})\n",
    "$$\n",
    "\n",
    "Matrix elements become\n",
    "\n",
    "$$\n",
    "S_{\\nu\\mu} = \\langle\\psi_\\nu| \\psi_\\mu\\rangle = \\sum_{A,B} d_{A\\mu}d_{B\\nu} \\langle g_{A\\mu}| g_{B\\nu}\\rangle\n",
    "$$\n",
    "\n",
    "$$\n",
    "H_{\\nu\\mu} = \\langle\\psi_\\nu| H |\\psi_\\mu\\rangle = \\sum_{A,B} d_{A\\mu}d_{B\\nu} \\langle g_{A\\mu}| H | g_{B\\nu}\\rangle\n",
    "$$"
   ]
  },
  {
   "cell_type": "markdown",
   "metadata": {},
   "source": [
    "$$\n",
    "(\\mu\\nu | \\sigma \\lambda) = \\int dr \\int dr' \\phi_{\\mu}(r) \\phi_\\nu(r) \\dfrac{1}{|r - r'|} \\phi_\\sigma(r') \\phi_\\lambda(r')\\\\\n",
    "=  \\sum_{A,B, C, D} d_{A\\mu}d_{B\\nu} d_{C\\sigma}d_{D\\lambda}\n",
    "\\int dr \\int dr' g_{A\\mu}(r) g_{B\\nu}(r) \\dfrac{1}{|r - r'|} g_{C\\sigma}(r') g_{D\\lambda}(r')\n",
    "$$"
   ]
  },
  {
   "cell_type": "markdown",
   "metadata": {},
   "source": [
    "In the Appendix of Szabo:\n",
    "$$\n",
    "\\int dr \\int dr' \\exp(-\\alpha |r-R_A|^2)\n",
    "\\exp(-\\beta |r-R_B|^2)\n",
    "\\dfrac{1}{|r - r'|}\n",
    "\\exp(-\\gamma |r'-R_C|^2)\n",
    "\\exp(-\\delta |r'-R_D|^2) \\\\\n",
    "= 2 \\pi^{5/2} \\left[(\\alpha+\\beta)(\\gamma+\\delta)\\sqrt{\\alpha+\\beta + \\gamma+\\delta}\\right]^{-1}\n",
    "\\exp\\left[ \n",
    "-\\dfrac{\\alpha\\beta}{\\alpha+\\beta} |R_A-R_B|^2\n",
    "- \\dfrac{\\gamma\\delta}{\\gamma+\\delta} |R_C-R_D|^2\n",
    "\\right]\n",
    "F_0\\left( \\dfrac{\\alpha+\\beta)(\\gamma+\\delta)}{\\alpha+\\beta+\\gamma+\\delta)} |R_P-R_Q|^2 \\right)\n",
    "$$\n",
    "where\n",
    "\n",
    "$\\vec{R}_P = \\dfrac{\\alpha \\vec{R}_A+\\beta \\vec{R}_B}{\\alpha+\\beta}$\n",
    "\n",
    "$\\vec{R}_Q = \\dfrac{\\alpha \\vec{R}_C+\\beta \\vec{R}_D}{\\gamma+\\delta}$\n",
    "\n",
    "$F_0(x) = \\dfrac{\\sqrt{\\pi}}{2} \\dfrac{erf(\\sqrt{x})}{\\sqrt{x}}$.\n",
    "\n",
    "for small $x$, $F_0(x)\\approx 1 -x/3$"
   ]
  },
  {
   "cell_type": "code",
   "execution_count": 21,
   "metadata": {},
   "outputs": [],
   "source": [
    "# import packages for basic math, plotting, linear algebra, random number generation, etc.from numpy import *\n",
    "import numpy as np\n",
    "import matplotlib.pyplot as plt\n",
    "from matplotlib import cm\n",
    "import scipy as sp"
   ]
  },
  {
   "cell_type": "code",
   "execution_count": 22,
   "metadata": {},
   "outputs": [],
   "source": [
    "def eigSinvH(S,H):\n",
    "    SinvH = np.linalg.inv(S) @ H\n",
    "    E, U = np.linalg.eig(SinvH)\n",
    "\n",
    "    order = np.argsort(E)\n",
    "    c = np.zeros((K, K))\n",
    "    for i in range(K):\n",
    "        c[:, i] = U[:, order[i]]\n",
    "        c[:, i] = c[:, i] / np.sqrt(c[:, i] @ S @ c[:, i])\n",
    "    E = np.sort(E)\n",
    "\n",
    "    return E, c"
   ]
  },
  {
   "cell_type": "code",
   "execution_count": 23,
   "metadata": {},
   "outputs": [],
   "source": [
    "def F0(x):\n",
    "    if (x < 1e-8):\n",
    "        return 1 - x/3\n",
    "    else:\n",
    "        return 0.5*np.sqrt(np.pi)*sp.special.erf(np.sqrt(x))/np.sqrt(x)"
   ]
  },
  {
   "cell_type": "code",
   "execution_count": 24,
   "metadata": {},
   "outputs": [],
   "source": [
    "def compute_overlap(alpha, beta, RA, RB):\n",
    "    absum = alpha + beta\n",
    "    abfac = alpha * beta / absum\n",
    "    dRAB = RA - RB\n",
    "    dRAB2 = dRAB @ dRAB\n",
    "    return (np.pi/absum)**(3/2) * np.exp(-abfac * dRAB2)\n",
    "\n",
    "def compute_kinetic_energy(alpha, beta, RA, RB):\n",
    "    absum = alpha + beta\n",
    "    abfac = alpha * beta / absum\n",
    "    dRAB = RA - RB\n",
    "    dRAB2 = dRAB @ dRAB\n",
    "    return (np.pi/absum)**(3/2) * np.exp(-abfac * dRAB2) * \\\n",
    "            abfac * (3 - 2*abfac * dRAB2)"
   ]
  },
  {
   "cell_type": "code",
   "execution_count": 5,
   "metadata": {},
   "outputs": [],
   "source": [
    "def compute_elec_nuc_energy(alpha, beta, RA, RB, RC):\n",
    "    absum = alpha + beta\n",
    "    abfac = alpha * beta / absum\n",
    "    dRAB = RA - RB\n",
    "    dRAB2 = dRAB @ dRAB\n",
    "    RP = (alpha*RA + beta*RB)/absum\n",
    "    dRPC = RP - RC\n",
    "    dRPC2 = dRPC @ dRPC\n",
    "    return -(2*np.pi/absum)*np.exp(-abfac * dRAB2) * \\\n",
    "            F0(absum * dRPC2)\n",
    "\n",
    "def compute_elec_elec_energy(alpha, beta, gamma, delta, RA, RB, RC, RD):\n",
    "    absum = alpha + beta\n",
    "    abfac = alpha * beta / absum\n",
    "    dRAB = RA - RB\n",
    "    dRAB2 = dRAB @ dRAB\n",
    "    RP = (alpha*RA + beta*RB)/absum\n",
    "\n",
    "    gdsum = gamma + delta\n",
    "    gdfac = gamma * delta / gdsum\n",
    "    dRCD = RC - RD\n",
    "    dRCD2 = dRCD @ dRCD\n",
    "    RQ = (gamma*RC + delta*RD)/gdsum\n",
    "\n",
    "    dRPQ = RP - RQ\n",
    "    dRPQ2 = dRPQ @ dRPQ\n",
    "    abgdsum = absum + gdsum\n",
    "    abgdfac = absum*gdsum/abgdsum\n",
    "\n",
    "    return 2*np.pi**(5/2)* (absum*gdsum*np.sqrt(abgdsum))**(-1) * \\\n",
    "        np.exp(-abfac*dRAB2 - gdfac*dRCD2) * \\\n",
    "        F0(abgdfac * dRPQ2)"
   ]
  },
  {
   "cell_type": "code",
   "execution_count": 48,
   "metadata": {},
   "outputs": [],
   "source": [
    "N = 2  # Number of electrons in the system\n",
    "Nover2 = int(N/2)\n",
    "\n",
    "N_nuclei = 2  # Number of nuclei in the system\n",
    "z_nuclei = np.array([1, 1])  # Array of nuclear charges, here for one hydrogen atom\n",
    "\n",
    "R_nuclei = np.zeros((N_nuclei,3))\n",
    "bond_dist = 1.4632\n",
    "R_nuclei[1, 0] = bond_dist"
   ]
  },
  {
   "cell_type": "code",
   "execution_count": 39,
   "metadata": {},
   "outputs": [],
   "source": [
    "K = 2  # Number of basis functions\n",
    "L = 3  # Number of Gaussians used to build each basis function\n",
    "\n",
    "# widths, contraction_coeffs, and centers are matrices \n",
    "# to store the parameters of Gaussian functions for each basis function. \n",
    "widths = np.zeros((L, K))\n",
    "contraction_coeffs = np.zeros((L, K))  # d coefficients in Gaussian basis functions\n",
    "centers = np.zeros((L, K, 3))  # xyz coordinates of Gaussian centers"
   ]
  },
  {
   "cell_type": "markdown",
   "metadata": {},
   "source": [
    "#### STO-3G\n",
    "\n",
    "Slater 1s orbital\n",
    "$$\n",
    "\\Psi_{1s}(r) = \\left(\\dfrac{\\zeta^3}{\\pi}\\right)^{1/2} e^{-\\zeta r}\n",
    "$$\n",
    "\n",
    "Typical choice: $\\zeta_H = 1.24$, $\\zeta_{He} = 2.0925$.\n",
    "\n",
    "This is approximated using the sum of 3 Gaussians:\n",
    "$$\n",
    "\\phi_\\mu (\\vec{r}) = \\sum_{A=1}^{L} d_{A\\mu} e^{-\\alpha_{A\\mu} r^2}\n",
    "$$\n",
    "\n",
    "$\\alpha$ scales as $\\zeta^2$ and $d$ scales with $\\alpha^{3/4}$"
   ]
  },
  {
   "cell_type": "code",
   "execution_count": 49,
   "metadata": {},
   "outputs": [],
   "source": [
    "# the basis function is 2 STO-3G orbitals centered on H and H atoms\n",
    "\n",
    "alpha1s_STO3G = np.array([0.109818, 0.405771, 2.22766])\n",
    "d1s_STO3G = np.array([0.316894, 0.381531, 0.109991])\n",
    "\n",
    "# 1s on He\n",
    "zeta_He = 1.24 #2.0925\n",
    "widths[:,0] = alpha1s_STO3G * zeta_He**2\n",
    "contraction_coeffs[:,0] = d1s_STO3G * widths[:,0]**(3/4)\n",
    "\n",
    "# 1s on H\n",
    "zeta_H = 1.24\n",
    "widths[:,1] = alpha1s_STO3G * zeta_H**2\n",
    "contraction_coeffs[:,1] = d1s_STO3G * widths[:,1]**(3/4)\n",
    "\n",
    "centers = np.zeros((L,K,3))\n",
    "centers[0,1,:] = R_nuclei[1]\n",
    "centers[1,1,:] = R_nuclei[1]\n",
    "centers[2,1,:] = R_nuclei[1]"
   ]
  },
  {
   "cell_type": "code",
   "execution_count": 50,
   "metadata": {},
   "outputs": [
    {
     "data": {
      "text/plain": [
       "<matplotlib.legend.Legend at 0x11ea670a0>"
      ]
     },
     "execution_count": 50,
     "metadata": {},
     "output_type": "execute_result"
    },
    {
     "data": {
      "image/png": "[encoded data removed]",
      "text/plain": [
       "<Figure size 640x480 with 1 Axes>"
      ]
     },
     "metadata": {},
     "output_type": "display_data"
    }
   ],
   "source": [
    "x = np.linspace(0.1, 5, 200)\n",
    "g1 = contraction_coeffs[0,1] * np.exp(-widths[0,1] * x**2.)\n",
    "g2 = contraction_coeffs[1,1] * np.exp(-widths[1,1] * x**2.)\n",
    "g3 = contraction_coeffs[2,1] * np.exp(-widths[2,1] * x**2.)\n",
    "\n",
    "plt.plot(x, np.sqrt(zeta_H**3/np.pi) * np.exp(-zeta_H*x),'k-', label='Slater')\n",
    "\n",
    "plt.plot(x, g1, '--')\n",
    "plt.plot(x, g2, '--')\n",
    "plt.plot(x, g3, '--')\n",
    "\n",
    "plt.plot(x, g1 + g2 + g3, 'r-', label='g1+g2+g3')\n",
    "\n",
    "plt.legend()"
   ]
  },
  {
   "cell_type": "code",
   "execution_count": 51,
   "metadata": {},
   "outputs": [],
   "source": [
    "S = np.zeros((K,K))\n",
    "T = np.zeros((K,K))\n",
    "U1 = np.zeros((K,K)) # electron-nuclei\n",
    "U2 = np.zeros((K,K,K,K)) # electron-electron"
   ]
  },
  {
   "cell_type": "code",
   "execution_count": 52,
   "metadata": {},
   "outputs": [],
   "source": [
    "# Nested loops iterate over all pairs of basis functions and their constituent Gaussians \n",
    "# to compute matrix elements for the Hartree-Fock matrices.\n",
    "for mu in range(K): # basis function\n",
    "    for A in range(L): # gaussians used to build the basis\n",
    "        alpha = widths[A,mu]\n",
    "        dAmu = contraction_coeffs[A,mu]\n",
    "        RA = centers[A,mu,:]\n",
    "\n",
    "        for nu in range(K): \n",
    "            for B in range(L): \n",
    "                beta = widths[B,nu]\n",
    "                dBnu = contraction_coeffs[B,nu]\n",
    "                RB = centers[B,nu,:]\n",
    "\n",
    "                S[mu,nu] += dAmu * dBnu * compute_overlap(alpha, beta, RA, RB)\n",
    "\n",
    "                T[mu,nu] += dAmu * dBnu * compute_kinetic_energy(alpha, beta, RA, RB)\n",
    "\n",
    "                for nucleus in range(N_nuclei):\n",
    "                    U1[mu,nu] += dAmu * dBnu * z_nuclei[nucleus] *\\\n",
    "                compute_elec_nuc_energy(alpha, beta, RA, RB, R_nuclei[nucleus])\n",
    "\n",
    "                for sigma in range(K):\n",
    "                    for C in range(L):\n",
    "                        gamma = widths[C,sigma]\n",
    "                        dCsigma = contraction_coeffs[C,sigma]\n",
    "                        RC = centers[C,sigma,:]\n",
    "\n",
    "                        for lam in range(K):\n",
    "                            for D in range(L):\n",
    "                                delta = widths[D,lam]\n",
    "                                dDlam = contraction_coeffs[D,lam]\n",
    "                                RD = centers[D,lam,:]\n",
    "\n",
    "                                U2[mu,nu,sigma,lam] += dAmu * dBnu * dCsigma * dDlam * \\\n",
    "                            compute_elec_elec_energy(alpha, beta, gamma, delta, RA, RB, RC, RD)"
   ]
  },
  {
   "cell_type": "code",
   "execution_count": 53,
   "metadata": {},
   "outputs": [],
   "source": [
    "# intial guess\n",
    "h = T + U1\n",
    "E, c = eigSinvH(S,h)"
   ]
  },
  {
   "cell_type": "code",
   "execution_count": 54,
   "metadata": {},
   "outputs": [
    {
     "data": {
      "text/plain": [
       "array([-1.23283327, -0.49558816])"
      ]
     },
     "execution_count": 54,
     "metadata": {},
     "output_type": "execute_result"
    }
   ],
   "source": [
    "E"
   ]
  },
  {
   "cell_type": "code",
   "execution_count": 55,
   "metadata": {},
   "outputs": [
    {
     "name": "stdout",
     "output_type": "stream",
     "text": [
      "-1.7974485698000375\n",
      "-1.7974485698000375\n",
      "-1.7974485698000375\n",
      "-1.7974485698000375\n",
      "-1.7974485698000375\n",
      "-1.7974485698000375\n",
      "-1.7974485698000375\n",
      "-1.7974485698000375\n",
      "-1.7974485698000375\n",
      "-1.7974485698000375\n"
     ]
    }
   ],
   "source": [
    "n_iterations = 10\n",
    "for iteration in range(n_iterations):\n",
    "    P = np.zeros((K,K))\n",
    "    for sigma in range(K):\n",
    "        for lam in range(K):\n",
    "            for j in range(Nover2):\n",
    "                P[sigma,lam] += 2 * c[sigma,j] * c[lam,j]\n",
    "\n",
    "    F = T + U1\n",
    "    for mu in range(K):\n",
    "        for nu in range(K):\n",
    "            for sigma in range(K):\n",
    "                for lam in range(K):\n",
    "\n",
    "                    F[mu,nu] += P[sigma,lam] * \\\n",
    "                    ( U2[sigma,lam,mu,nu] - 0.5 * U2[mu,lam,sigma,nu]  )\n",
    "\n",
    "    E, c = eigSinvH(S,F)\n",
    "\n",
    "    E_elec = sum(E[0:Nover2]) + 0.5 * np.trace(P @ h)\n",
    "    print(E_elec)\n"
   ]
  },
  {
   "cell_type": "code",
   "execution_count": 56,
   "metadata": {},
   "outputs": [
    {
     "name": "stdout",
     "output_type": "stream",
     "text": [
      "-1.1140149995430666\n"
     ]
    }
   ],
   "source": [
    "# energy of nuclear repulsion\n",
    "E_nuc = 0\n",
    "for nucleus1 in range(N_nuclei):\n",
    "    for nucleus2 in range(nucleus1+1,N_nuclei):\n",
    "        dR = R_nuclei[nucleus1,:] - R_nuclei[nucleus2,:]\n",
    "        dR2 = dR @ dR\n",
    "        E_nuc += z_nuclei[nucleus1] * z_nuclei[nucleus2] / np.sqrt(dR2)\n",
    "\n",
    "E_total = E_elec + E_nuc\n",
    "print(E_total)"
   ]
  },
  {
   "cell_type": "code",
   "execution_count": 59,
   "metadata": {},
   "outputs": [
    {
     "data": {
      "text/plain": [
       "Text(1.4632, 0, 'H')"
      ]
     },
     "execution_count": 59,
     "metadata": {},
     "output_type": "execute_result"
    },
    {
     "data": {
      "image/png": "[encoded data removed]",
      "text/plain": [
       "<Figure size 640x480 with 1 Axes>"
      ]
     },
     "metadata": {},
     "output_type": "display_data"
    }
   ],
   "source": [
    "xvals = np.arange(-2,4,0.1)\n",
    "yvals = np.arange(-3, 3, 0.1)\n",
    "nvals = len(xvals)\n",
    "state = 0\n",
    "psi = np.zeros((nvals,nvals))\n",
    "for i in range(nvals):\n",
    "    x = xvals[i]\n",
    "    for j in range(nvals):\n",
    "        y = yvals[j]\n",
    "\n",
    "        for mu in range(K): # loop through basis functions\n",
    "            for A in range(L): # gaussians used to build the basis\n",
    "                alpha = widths[A,mu]\n",
    "                dAmu = contraction_coeffs[A,mu]\n",
    "                RA = centers[A,mu,:]\n",
    "                xA = RA[0]\n",
    "                yA = RA[1]\n",
    "                phiA = np.exp(-alpha* ( (x-xA)**2 + (y-yA)**2 ) )\n",
    "\n",
    "                psi[j,i] += c[mu,state] * dAmu * phiA\n",
    "\n",
    "\n",
    "plt.contourf(xvals, yvals, psi, levels=20, cmap=cm.gnuplot)\n",
    "plt.axis('equal')\n",
    "plt.text(0,0,'H',color='White',fontsize=14)\n",
    "plt.text(bond_dist,0,'H',color='White',fontsize=14)"
   ]
  },
  {
   "cell_type": "code",
   "execution_count": null,
   "metadata": {},
   "outputs": [],
   "source": []
  }
 ],
 "metadata": {
  "kernelspec": {
   "display_name": "Python 3 (ipykernel)",
   "language": "python",
   "name": "python3"
  },
  "language_info": {
   "codemirror_mode": {
    "name": "ipython",
    "version": 3
   },
   "file_extension": ".py",
   "mimetype": "text/x-python",
   "name": "python",
   "nbconvert_exporter": "python",
   "pygments_lexer": "ipython3",
   "version": "3.8.16"
  }
 },
 "nbformat": 4,
 "nbformat_minor": 4
}
