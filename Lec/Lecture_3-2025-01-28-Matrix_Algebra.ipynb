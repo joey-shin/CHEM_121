{
 "cells": [
  {
   "cell_type": "markdown",
   "metadata": {},
   "source": [
    "# Chem121 Intro to CompChem"
   ]
  },
  {
   "cell_type": "markdown",
   "metadata": {},
   "source": [
    "## Matrix Algebra"
   ]
  },
  {
   "cell_type": "markdown",
   "metadata": {},
   "source": [
    "In this section we look at matrix algebra and some of its common properties.  We will also see how operations involving matrices are connected to linear systems of equations.\n",
    "\n",
    "A **matrix** a is two-dimensional array of numbers.  When we do computations with matrices using NumPy, we will be using arrays just as we did before.  Let's write down some of examples of matrices and give them names.\n",
    "\n",
    "$$\n",
    "\\begin{equation}\n",
    "A = \\left[ \\begin{array}{rr} 1 & 3 \\\\ 2 & 1 \\end{array}\\right] \\hspace{1cm} \n",
    "B = \\left[ \\begin{array}{rrr} 3 & 0 & 4 \\\\ -1 & -2 & 1 \\end{array}\\right] \\hspace{1cm}\n",
    "C = \\left[ \\begin{array}{rr} -2 & 1 \\\\ 4 & 1 \\end{array}\\right] \\hspace{1cm}\n",
    "D = \\left[ \\begin{array}{r} 2 \\\\ 6 \\end{array}\\right]\n",
    "\\end{equation}\n",
    "$$\n",
    "\n",
    "When discussing matrices it is common to talk about their dimensions, or shape, by specifying the number of rows and columns.  The number of rows is usually listed first.  For our examples, $A$ and $C$ are $2\\times 2$ matrices, $B$ is a $2 \\times 3$ matrix, and $D$ is a $2 \\times 1 $ matrix.  Matrices that have only 1 column, such as $D$, are commonly referred to as **vectors**.  We will adhere to this convention as well, but do be aware that when we make statements about matrices, we are also making statements about vectors even if we don't explicitly mention them.  We will also adopt the common convention of using uppercase letters to name matrices.\n",
    "\n",
    "It is also necessary to talk about the individual entries of matrices.  The common notation for this is a lowercase letter with subscripts to denote the position of the entry in the matrix.  So $b_{12}$ refers to the 0 in the first row and second column of the matrix $B$.  If we are talking about generic positions, we might use variables in the subscripts, such as $a_{ij}$.\n",
    "\n",
    "Let's create these matrices as NumPy arrays before further discussion."
   ]
  },
  {
   "cell_type": "code",
   "execution_count": 24,
   "metadata": {},
   "outputs": [],
   "source": [
    "import numpy as np\n",
    "\n",
    "A = np.array([[1, 3],[2,1]])"
   ]
  },
  {
   "cell_type": "code",
   "execution_count": 27,
   "metadata": {},
   "outputs": [
    {
     "data": {
      "text/plain": [
       "3"
      ]
     },
     "execution_count": 27,
     "metadata": {},
     "output_type": "execute_result"
    }
   ],
   "source": [
    "A[0,1]"
   ]
  },
  {
   "cell_type": "code",
   "execution_count": 28,
   "metadata": {},
   "outputs": [
    {
     "name": "stdout",
     "output_type": "stream",
     "text": [
      "[[1 3]\n",
      " [2 1]]\n"
     ]
    }
   ],
   "source": [
    "import numpy as np\n",
    "A = np.array([[1, 3],[2,1]])\n",
    "B = np.array([[3, 0, 4],[-1, -2, 1]])\n",
    "C = np.array([[-2, 1],[4, 1]])\n",
    "D = np.array([[2],[6]])\n",
    "print(A)"
   ]
  },
  {
   "cell_type": "code",
   "execution_count": 29,
   "metadata": {},
   "outputs": [],
   "source": [
    "B = np.array([[3, 0, 4],[-1, -2, 1]])"
   ]
  },
  {
   "cell_type": "code",
   "execution_count": 31,
   "metadata": {},
   "outputs": [
    {
     "data": {
      "text/plain": [
       "(2, 3)"
      ]
     },
     "execution_count": 31,
     "metadata": {},
     "output_type": "execute_result"
    }
   ],
   "source": [
    "B.shape"
   ]
  },
  {
   "cell_type": "markdown",
   "metadata": {},
   "source": [
    "It will be useful for us to access the dimensions of our arrays.  When the array is created, this information gets stored as part of the array object and can be accessed with a method called $\\texttt{shape}$.  If $\\texttt{B}$ is an array, the object $\\texttt{B.shape}$ is itself an array that has two entries.  The first (*with index 0!*) is the number of rows, and the second (*with index 1!*) is the number of columns."
   ]
  },
  {
   "cell_type": "code",
   "execution_count": 2,
   "metadata": {},
   "outputs": [
    {
     "name": "stdout",
     "output_type": "stream",
     "text": [
      "Array B has 2 rows.\n",
      "Array B has 3 columns.\n"
     ]
    }
   ],
   "source": [
    "print(\"Array B has\",B.shape[0],\"rows.\")\n",
    "print(\"Array B has\",B.shape[1],\"columns.\")      "
   ]
  },
  {
   "cell_type": "markdown",
   "metadata": {},
   "source": [
    "### Identity matrices\n",
    "\n",
    "An **identity matrix** is a square matrix that behaves similar to the number 1 with respect to ordinary multiplication.  Identity matrices, labeled with $I$, are made up of ones along the main diagonal, and zeros everywhere else.  Below is the $4 \\times 4$ version of $I$.\n",
    "\n",
    "$$\n",
    "\\begin{equation}\n",
    "I = \\left[ \\begin{array}{ccc} 1 & 0 & 0 & 0 \\\\ 0 & 1 & 0 & 0 \\\\ 0 & 0 & 1 & 0\\\\ 0 & 0 & 0 & 1 \\end{array}\\right]\n",
    "\\end{equation}\n",
    "$$\n",
    "\n",
    "If $A$ is any other $4 \\times 4$ matrix, multiplication with $I$ will produce $A$.  Furthermore it doesn't matter in this case which order the multiplication is carried out.\n",
    "\n",
    "$$\n",
    "\\begin{equation}\n",
    "AI = IA = A\n",
    "\\end{equation}\n",
    "$$\n",
    "\n",
    "The NumPy function $\\texttt{eye}$ generates an identity matrix of the specified size.  Note we only need to provide $\\texttt{eye}$ with one parameter since the identity matrix must be square.  We show here the product of $I$ with a random $5\\times 5$ matrix.  "
   ]
  },
  {
   "cell_type": "code",
   "execution_count": 11,
   "metadata": {},
   "outputs": [
    {
     "name": "stdout",
     "output_type": "stream",
     "text": [
      "[[1. 0. 0. 0. 0.]\n",
      " [0. 1. 0. 0. 0.]\n",
      " [0. 0. 1. 0. 0.]\n",
      " [0. 0. 0. 1. 0.]\n",
      " [0. 0. 0. 0. 1.]]\n"
     ]
    }
   ],
   "source": [
    "I5 = np.eye(5)\n",
    "print(I5)"
   ]
  },
  {
   "cell_type": "code",
   "execution_count": 33,
   "metadata": {},
   "outputs": [
    {
     "data": {
      "text/plain": [
       "array([[ 3,  0,  4],\n",
       "       [-1, -2,  1]])"
      ]
     },
     "execution_count": 33,
     "metadata": {},
     "output_type": "execute_result"
    }
   ],
   "source": [
    "B = np.array([[3, 0, 4],[-1, -2, 1]])\n",
    "B"
   ]
  },
  {
   "cell_type": "code",
   "execution_count": 40,
   "metadata": {},
   "outputs": [
    {
     "data": {
      "text/plain": [
       "array([[7, 6],\n",
       "       [4, 7]])"
      ]
     },
     "execution_count": 40,
     "metadata": {},
     "output_type": "execute_result"
    }
   ],
   "source": [
    "A @ A"
   ]
  },
  {
   "cell_type": "code",
   "execution_count": 41,
   "metadata": {},
   "outputs": [
    {
     "data": {
      "text/plain": [
       "array([[7, 6],\n",
       "       [4, 7]])"
      ]
     },
     "execution_count": 41,
     "metadata": {},
     "output_type": "execute_result"
    }
   ],
   "source": [
    "np.dot(A, A)"
   ]
  },
  {
   "cell_type": "code",
   "execution_count": 39,
   "metadata": {},
   "outputs": [
    {
     "data": {
      "text/plain": [
       "array([[1, 9],\n",
       "       [4, 1]])"
      ]
     },
     "execution_count": 39,
     "metadata": {},
     "output_type": "execute_result"
    }
   ],
   "source": [
    "A * A"
   ]
  },
  {
   "cell_type": "code",
   "execution_count": null,
   "metadata": {},
   "outputs": [],
   "source": []
  },
  {
   "cell_type": "markdown",
   "metadata": {},
   "source": [
    "### Operations on matrices\n",
    "\n",
    "There are three algebraic operations for matrices that we will need to perform.  For our definitions let us suppose that $A$ and $C$ are $m \\times n$ matrices, $B$ is an $n \\times k$ matrix, and $c$ is a number.  When discussing algebra involving matrices and numbers, the numbers are usually referred to as **scalars**. \n",
    "\n",
    "1. A matrix of any shape can be multiplied by a scalar.  The result is that all entries are multiplied by that scalar.  Using the subscript notation, we would write\n",
    "\n",
    "$$\n",
    "(cA)_{ij} = ca_{ij}\n",
    "$$\n",
    "\n",
    "2. Two matrices that *have the same shape* can be added.  The result is that all corresponding entries are added.\n",
    "\n",
    "$$\n",
    "(A+C)_{ij} = a_{ij} + c_{ij}\n",
    "$$\n",
    "\n",
    "3. If the number of columns of matrix $A$ is equal to the number of rows of matrix $B$, the matrices can be multiplied in the order $A$, $B$.  The result will be a new matrix $AB$, that has the same number of rows as $A$ and the same number of columns as $B$.  The entries $(AB)_{ij}$ will be the following combination of the entries of row $i$ of $A$ and column $j$ of $B$.\n",
    "\n",
    "$$\n",
    "(AB)_{ij} = \\sum_{k=1}^n a_{ik}b_{kj}\n",
    "$$\n",
    "\n",
    "The last operation, known as **matrix multiplication**, is the most complex and least intuitive of the three.  No doubt this last formula is a bit intimidating the first time we read it.  Let's give some examples to clarify.\n",
    "\n",
    "1.  The multiplication of a number and a matrix:\n",
    "\n",
    "$$\n",
    "\\begin{equation}\n",
    "3A = 3\\left[ \\begin{array}{rr} 1 & 3 \\\\ 2 & 1 \\end{array}\\right] \n",
    "= \\left[ \\begin{array}{rr} 3 & 9 \\\\ 6 & 3 \\end{array}\\right]\n",
    "\\end{equation}\n",
    "$$\n",
    "\n",
    "2. The sum of two matrices of the same shape:\n",
    "\n",
    "$$\n",
    "\\begin{equation}\n",
    "A + C = \\left[ \\begin{array}{rr} 1 & 3 \\\\ 2 & 1 \\end{array}\\right] + \n",
    "\\left[ \\begin{array}{rr} -2 & 1 \\\\ 4 & 1 \\end{array}\\right] \n",
    "= \\left[ \\begin{array}{rr} -1 & 4 \\\\ 6 & 2 \\end{array}\\right]\n",
    "\\end{equation}\n",
    "$$\n",
    "\n",
    "3.  The multiplication of two matrices:\n",
    "\n",
    "$$\n",
    "\\begin{equation}\n",
    "AB = \\left[ \\begin{array}{rr} 1 & 3 \\\\ 2 & 1 \\end{array}\\right]\n",
    "\\left[ \\begin{array}{rrr} 3 & 0 & 4 \\\\ -1 & -2 & 1 \\end{array}\\right]\n",
    " = \\left[ \\begin{array}{rrr} 0 & -6 & 7  \\\\  5 & -2 & 9  \\end{array}\\right]\n",
    " \\end{equation}\n",
    "$$\n",
    " \n",
    "To clarify what happens in the  matrix multiplication, lets calculate two of the entries in detail.\n",
    "\n",
    "$$\n",
    "\\begin{eqnarray*}\n",
    "(AB)_{12} & = & 1\\times 0 + 3 \\times (-2) = -6 \\\\\n",
    "(AB)_{23} & = & 2 \\times 4 + 1 \\times 1 = 9\n",
    "\\end{eqnarray*}\n",
    "$$\n",
    "\n",
    "These matrix operations are all built into NumPy, but we have to use the symbol $\\texttt{@}$ instead of $\\texttt{*}$ for matrix multiplication."
   ]
  },
  {
   "cell_type": "code",
   "execution_count": 7,
   "metadata": {},
   "outputs": [
    {
     "name": "stdout",
     "output_type": "stream",
     "text": [
      "A:\n",
      " [[1 3]\n",
      " [2 1]] \n",
      "\n",
      "B:\n",
      " [[ 3  0  4]\n",
      " [-1 -2  1]] \n",
      "\n",
      "C:\n",
      " [[-2  1]\n",
      " [ 4  1]] \n",
      "\n"
     ]
    }
   ],
   "source": [
    "print(\"A:\\n\", A, '\\n')\n",
    "\n",
    "print(\"B:\\n\", B, '\\n')\n",
    "\n",
    "print(\"C:\\n\", C, '\\n')"
   ]
  },
  {
   "cell_type": "code",
   "execution_count": 10,
   "metadata": {},
   "outputs": [
    {
     "name": "stdout",
     "output_type": "stream",
     "text": [
      "[[3 9]\n",
      " [6 3]] \n",
      "\n",
      "[[-1  4]\n",
      " [ 6  2]] \n",
      "\n",
      "[[ 0 -6  7]\n",
      " [ 5 -2  9]] \n",
      "\n",
      "[[-2  3]\n",
      " [ 8  1]]\n"
     ]
    }
   ],
   "source": [
    "print(3*A,'\\n')\n",
    "print(A+C,'\\n')\n",
    "print(A@B,'\\n')\n",
    "print(A*C)"
   ]
  },
  {
   "cell_type": "markdown",
   "metadata": {},
   "source": [
    "### Properties of matrix operations\n",
    "\n",
    "It is useful to observe that some common algebraic properties hold true for matrix multiplication.  Let $A$, $B$, and $C$ be matrices, and $k$ be a scalar.  The associative and distributive properties stated here hold for matrix multiplication.\n",
    "\n",
    "$$\n",
    "\\begin{equation}\n",
    "k(A+B) = kA + kB\n",
    "\\end{equation}\n",
    "$$\n",
    "\n",
    "$$\n",
    "\\begin{equation}\n",
    "C(A+B) = CA + CB\n",
    "\\end{equation}\n",
    "$$\n",
    "\n",
    "$$\n",
    "\\begin{equation}\n",
    "A(BC) = (AB)C\n",
    "\\end{equation}\n",
    "$$\n",
    "\n",
    "These statements only make sense of course if the matrices have dimensions that allow for the operations.\n",
    "\n",
    "It is also worth noting that the commutative property does not generally hold for matrix multiplication.  Suppose for example that $A$ and $B$ are both $3\\times 3$ matrices.  It is **not true in general** that $AB = BA$.  One example with random matrices is enough to prove this point."
   ]
  },
  {
   "cell_type": "code",
   "execution_count": 4,
   "metadata": {},
   "outputs": [
    {
     "name": "stdout",
     "output_type": "stream",
     "text": [
      "[[ 35 -11 -14]\n",
      " [-28  -7   7]\n",
      " [  3  22  13]]\n",
      "\n",
      "\n",
      "[[ 13  11  -4]\n",
      " [  7  44   4]\n",
      " [  8 -21 -16]]\n"
     ]
    }
   ],
   "source": [
    "A = np.random.randint(-5,5,size=(3,3))\n",
    "B = np.random.randint(-5,5,size=(3,3))\n",
    "\n",
    "print(A@B)\n",
    "print('\\n')\n",
    "print(B@A)"
   ]
  },
  {
   "cell_type": "markdown",
   "metadata": {},
   "source": [
    "### Matrix transposes\n",
    "\n",
    "Another common idea that we will find useful is that of the matrix transpose.  The **transpose** of a matrix $A$ is another matrix, $A^T$, defined so that its columns are the rows of $A$.  To build $A^T$, we simple swap the row index with the column index for every entry, $a^T_{ij} = a_{ji}$.  Two examples should be enough to clarify this definition.\n",
    "\n",
    "$$\n",
    "\\begin{equation}\n",
    "A = \\left[ \\begin{array}{rrr} 5 & 4 & 0 \\\\ 1 & 8 & 3 \\\\ 6 & 7 & 2\\end{array}\\right] \\hspace{1cm}\n",
    "A^T = \\left[ \\begin{array}{rrr} 5 & 1 & 6 \\\\ 4 & 8 & 7 \\\\ 0 & 3 & 2\\end{array}\\right] \\hspace{1cm}\n",
    "\\end{equation}\n",
    "$$\n",
    "\n",
    "$$\n",
    "\\begin{equation}\n",
    "B = \\left[ \\begin{array}{rrr} 1 & 2 & 7 & 0 \\\\ 3 & 1 & 5 & 2 \\\\ 4 & 9 & 8 & 6\\end{array}\\right] \\hspace{1cm}\n",
    "B^T = \\left[ \\begin{array}{rrr} 1 & 3 & 4 \\\\ 2 & 1 & 9 \\\\ 7 & 5 & 8 \\\\ 0 & 2 & 6\\end{array}\\right] \\hspace{1cm}\n",
    "\\end{equation}\n",
    "$$\n",
    "\n",
    "\n",
    "NumPy array objects have a method named $\\texttt{transpose}$ for this purpose."
   ]
  },
  {
   "cell_type": "code",
   "execution_count": 44,
   "metadata": {},
   "outputs": [],
   "source": [
    "A = np.array([[5, 4, 0],[1, 8, 3]])"
   ]
  },
  {
   "cell_type": "code",
   "execution_count": 46,
   "metadata": {},
   "outputs": [
    {
     "data": {
      "text/plain": [
       "(3, 2)"
      ]
     },
     "execution_count": 46,
     "metadata": {},
     "output_type": "execute_result"
    }
   ],
   "source": [
    "A.transpose().shape"
   ]
  },
  {
   "cell_type": "code",
   "execution_count": 5,
   "metadata": {},
   "outputs": [
    {
     "name": "stdout",
     "output_type": "stream",
     "text": [
      "[[5 4 0]\n",
      " [1 8 3]\n",
      " [6 7 2]]\n",
      "\n",
      "\n",
      "[[5 1 6]\n",
      " [4 8 7]\n",
      " [0 3 2]]\n"
     ]
    }
   ],
   "source": [
    "A = np.array([[5, 4, 0],[1, 8, 3],[6, 7, 2]])\n",
    "\n",
    "## Note that the tranpose method must be called with (), the same as a function with no arguments.\n",
    "A_T = A.transpose()\n",
    "\n",
    "print(A)\n",
    "print('\\n')\n",
    "print(A_T)"
   ]
  },
  {
   "cell_type": "markdown",
   "metadata": {},
   "source": [
    "When a matrix $A$ is equal to its own transpose, it has the property of being symmetric across its main diagonal. For this reason a matrix $A$ is said to be **symmetric** if $A = A^T$. Equivalently, we can say that $A$ is symmetric if $a_{ij} = a_{ji}$ for every entry $a_{ij}$ in the matrix.  The matrix $P$ below is one such example.\n",
    "\n",
    "$$\n",
    "\\begin{equation}\n",
    "P = \\left[ \\begin{array}{rrr} 1 & 0 & 6 \\\\ 0 & 3 & 5 \\\\ 6 & 5 & -2\\end{array}\\right] \\hspace{1cm}\n",
    "\\end{equation}\n",
    "$$\n",
    "\n",
    "Similarly, we say that a matrix $A$ is **skew-symmetric** if $A^T = -A$ (equivalently $a_{ij} = -a_{ji}$ for every entry $a_{ij}$ in $A$). The matrix $Q$ below is a skew-symmetric matrix.\n",
    "\n",
    "$$\n",
    "\\begin{equation}\n",
    "Q = \\left[ \\begin{array}{rrr} 0 & 1 & -4 \\\\ -1 & 0 & 5 \\\\ 4 & -5 & 0\\end{array}\\right] \\hspace{1cm}\n",
    "\\end{equation}\n",
    "$$\n"
   ]
  },
  {
   "cell_type": "markdown",
   "metadata": {},
   "source": [
    "### Application to linear systems\n",
    "\n",
    "A very important example of matrix multiplication is that where a known matrix multiplies an *unknown* vector to produce a known vector.  If we let $A$ be the known matrix, $B$ be the known vector, and $X$ be the unknown vector, we can write the matrix equation $AX=B$ to describe this scenario.  Let's write a specific example.\n",
    "\n",
    "$$\n",
    "\\begin{equation}\n",
    "A= \\left[ \\begin{array}{rrr} 1 & 3 & -2 \\\\ 5 & 2 & 0 \\\\ 4 & 2 & -1 \\\\ 2 & 2 & 0 \\end{array}\\right] \\hspace{1cm}\n",
    "X= \\left[ \\begin{array}{r} x_1 \\\\ x_2 \\\\ x_3 \\end{array}\\right] \\hspace{1cm}\n",
    "B= \\left[ \\begin{array}{r} 0 \\\\ 10 \\\\ 7 \\\\ 4  \\end{array}\\right] \\hspace{1cm}\n",
    "\\end{equation}\n",
    "$$\n",
    "\n",
    "$$\n",
    "\\begin{equation}\n",
    "AX = \\left[ \\begin{array}{rrr} 1 & 3 & -2 \\\\ 5 & 2 & 0 \\\\ 4 & 2 & -1 \\\\ 2 & 2 & 0 \\end{array}\\right]\n",
    "\\left[ \\begin{array}{r} x_1 \\\\ x_2 \\\\ x_3 \\end{array}\\right]=\n",
    "\\left[ \\begin{array}{r} 0\\\\ 10 \\\\ 7 \\\\ 4  \\end{array}\\right]= B\n",
    "\\end{equation}\n",
    "$$\n",
    "\n",
    "If we apply the definition of matrix multiplication we see that this single matrix equation $AX=B$ in fact represents a system of linear equations.\n",
    "\n",
    "$$\n",
    "\\begin{eqnarray*}\n",
    "x_1 + 3x_2 - 2x_3 & = & 0\\\\\n",
    "5x_1 + 2x_2 \\quad\\quad & = & 10 \\\\\n",
    "4x_1 + 2x_2 - x_3 & = & 7 \\\\\n",
    "2x_1 + 2x_2 \\quad\\quad & = & 4\n",
    "\\end{eqnarray*}\n",
    "$$\n",
    "\n",
    "In this context, the matrix $A$ is known as the **coefficient matrix**."
   ]
  },
  {
   "cell_type": "code",
   "execution_count": 47,
   "metadata": {},
   "outputs": [],
   "source": [
    "A = np.array([[1, 3, -2], [5, 2, 0], [4, 2, -1], [2, 2, 0]])\n",
    "B = np.array([0, 10, 7, 4])"
   ]
  },
  {
   "cell_type": "code",
   "execution_count": 48,
   "metadata": {},
   "outputs": [],
   "source": [
    "from scipy.linalg import inv"
   ]
  },
  {
   "cell_type": "code",
   "execution_count": 49,
   "metadata": {},
   "outputs": [
    {
     "ename": "ValueError",
     "evalue": "expected square matrix",
     "output_type": "error",
     "traceback": [
      "\u001b[0;31m---------------------------------------------------------------------------\u001b[0m",
      "\u001b[0;31mValueError\u001b[0m                                Traceback (most recent call last)",
      "Input \u001b[0;32mIn [49]\u001b[0m, in \u001b[0;36m<cell line: 1>\u001b[0;34m()\u001b[0m\n\u001b[0;32m----> 1\u001b[0m A_inv \u001b[38;5;241m=\u001b[39m \u001b[43minv\u001b[49m\u001b[43m(\u001b[49m\u001b[43mA\u001b[49m\u001b[43m)\u001b[49m\n",
      "File \u001b[0;32m~/miniconda3/envs/asap/lib/python3.8/site-packages/scipy/linalg/_basic.py:948\u001b[0m, in \u001b[0;36minv\u001b[0;34m(a, overwrite_a, check_finite)\u001b[0m\n\u001b[1;32m    946\u001b[0m     a1 \u001b[38;5;241m=\u001b[39m _asarray_validated(a, check_finite\u001b[38;5;241m=\u001b[39mcheck_finite)\n\u001b[1;32m    947\u001b[0m     \u001b[38;5;28;01mif\u001b[39;00m \u001b[38;5;28mlen\u001b[39m(a1\u001b[38;5;241m.\u001b[39mshape) \u001b[38;5;241m!=\u001b[39m \u001b[38;5;241m2\u001b[39m \u001b[38;5;129;01mor\u001b[39;00m a1\u001b[38;5;241m.\u001b[39mshape[\u001b[38;5;241m0\u001b[39m] \u001b[38;5;241m!=\u001b[39m a1\u001b[38;5;241m.\u001b[39mshape[\u001b[38;5;241m1\u001b[39m]:\n\u001b[0;32m--> 948\u001b[0m         \u001b[38;5;28;01mraise\u001b[39;00m \u001b[38;5;167;01mValueError\u001b[39;00m(\u001b[38;5;124m'\u001b[39m\u001b[38;5;124mexpected square matrix\u001b[39m\u001b[38;5;124m'\u001b[39m)\n\u001b[1;32m    949\u001b[0m     overwrite_a \u001b[38;5;241m=\u001b[39m overwrite_a \u001b[38;5;129;01mor\u001b[39;00m _datacopied(a1, a)\n\u001b[1;32m    950\u001b[0m     \u001b[38;5;66;03m# XXX: I found no advantage or disadvantage of using finv.\u001b[39;00m\n\u001b[1;32m    951\u001b[0m \u001b[38;5;66;03m#     finv, = get_flinalg_funcs(('inv',),(a1,))\u001b[39;00m\n\u001b[1;32m    952\u001b[0m \u001b[38;5;66;03m#     if finv is not None:\u001b[39;00m\n\u001b[0;32m   (...)\u001b[0m\n\u001b[1;32m    957\u001b[0m \u001b[38;5;66;03m#         if info<0: raise ValueError('illegal value in %d-th argument of '\u001b[39;00m\n\u001b[1;32m    958\u001b[0m \u001b[38;5;66;03m#                                     'internal inv.getrf|getri'%(-info))\u001b[39;00m\n",
      "\u001b[0;31mValueError\u001b[0m: expected square matrix"
     ]
    }
   ],
   "source": [
    "A_inv = inv(A)"
   ]
  },
  {
   "cell_type": "code",
   "execution_count": 50,
   "metadata": {},
   "outputs": [
    {
     "ename": "LinAlgError",
     "evalue": "Last 2 dimensions of the array must be square",
     "output_type": "error",
     "traceback": [
      "\u001b[0;31m---------------------------------------------------------------------------\u001b[0m",
      "\u001b[0;31mLinAlgError\u001b[0m                               Traceback (most recent call last)",
      "Input \u001b[0;32mIn [50]\u001b[0m, in \u001b[0;36m<cell line: 5>\u001b[0;34m()\u001b[0m\n\u001b[1;32m      1\u001b[0m \u001b[38;5;28;01mimport\u001b[39;00m \u001b[38;5;21;01mnumpy\u001b[39;00m \u001b[38;5;28;01mas\u001b[39;00m \u001b[38;5;21;01mnp\u001b[39;00m\n\u001b[1;32m      2\u001b[0m \u001b[38;5;28;01mfrom\u001b[39;00m \u001b[38;5;21;01mnumpy\u001b[39;00m\u001b[38;5;21;01m.\u001b[39;00m\u001b[38;5;21;01mlinalg\u001b[39;00m \u001b[38;5;28;01mimport\u001b[39;00m solve\n\u001b[0;32m----> 5\u001b[0m X \u001b[38;5;241m=\u001b[39m \u001b[43msolve\u001b[49m\u001b[43m(\u001b[49m\u001b[43mA\u001b[49m\u001b[43m,\u001b[49m\u001b[43m \u001b[49m\u001b[43mB\u001b[49m\u001b[43m)\u001b[49m\n",
      "File \u001b[0;32m<__array_function__ internals>:200\u001b[0m, in \u001b[0;36msolve\u001b[0;34m(*args, **kwargs)\u001b[0m\n",
      "File \u001b[0;32m~/miniconda3/envs/asap/lib/python3.8/site-packages/numpy/linalg/linalg.py:373\u001b[0m, in \u001b[0;36msolve\u001b[0;34m(a, b)\u001b[0m\n\u001b[1;32m    371\u001b[0m a, _ \u001b[38;5;241m=\u001b[39m _makearray(a)\n\u001b[1;32m    372\u001b[0m _assert_stacked_2d(a)\n\u001b[0;32m--> 373\u001b[0m \u001b[43m_assert_stacked_square\u001b[49m\u001b[43m(\u001b[49m\u001b[43ma\u001b[49m\u001b[43m)\u001b[49m\n\u001b[1;32m    374\u001b[0m b, wrap \u001b[38;5;241m=\u001b[39m _makearray(b)\n\u001b[1;32m    375\u001b[0m t, result_t \u001b[38;5;241m=\u001b[39m _commonType(a, b)\n",
      "File \u001b[0;32m~/miniconda3/envs/asap/lib/python3.8/site-packages/numpy/linalg/linalg.py:190\u001b[0m, in \u001b[0;36m_assert_stacked_square\u001b[0;34m(*arrays)\u001b[0m\n\u001b[1;32m    188\u001b[0m m, n \u001b[38;5;241m=\u001b[39m a\u001b[38;5;241m.\u001b[39mshape[\u001b[38;5;241m-\u001b[39m\u001b[38;5;241m2\u001b[39m:]\n\u001b[1;32m    189\u001b[0m \u001b[38;5;28;01mif\u001b[39;00m m \u001b[38;5;241m!=\u001b[39m n:\n\u001b[0;32m--> 190\u001b[0m     \u001b[38;5;28;01mraise\u001b[39;00m LinAlgError(\u001b[38;5;124m'\u001b[39m\u001b[38;5;124mLast 2 dimensions of the array must be square\u001b[39m\u001b[38;5;124m'\u001b[39m)\n",
      "\u001b[0;31mLinAlgError\u001b[0m: Last 2 dimensions of the array must be square"
     ]
    }
   ],
   "source": [
    "import numpy as np\n",
    "from numpy.linalg import solve\n",
    "\n",
    "\n",
    "X = solve(A, B)"
   ]
  },
  {
   "cell_type": "code",
   "execution_count": 51,
   "metadata": {},
   "outputs": [
    {
     "name": "stdout",
     "output_type": "stream",
     "text": [
      "[2.00000000e+00 5.12410627e-16 1.00000000e+00]\n"
     ]
    }
   ],
   "source": [
    "from scipy.linalg import solve\n",
    "A = np.array([[1, 3, -2], [5, 2, 0], [4, 2, -1]])\n",
    "B = np.array([0, 10, 7])\n",
    "X = solve(A, B)\n",
    "print(X)"
   ]
  },
  {
   "cell_type": "code",
   "execution_count": 53,
   "metadata": {},
   "outputs": [
    {
     "data": {
      "text/plain": [
       "array([[-0.22222222, -0.11111111,  0.44444444],\n",
       "       [ 0.55555556,  0.77777778, -1.11111111],\n",
       "       [ 0.22222222,  1.11111111, -1.44444444]])"
      ]
     },
     "execution_count": 53,
     "metadata": {},
     "output_type": "execute_result"
    }
   ],
   "source": [
    "A_inv = inv(A)\n",
    "A_inv"
   ]
  },
  {
   "cell_type": "code",
   "execution_count": 54,
   "metadata": {},
   "outputs": [
    {
     "data": {
      "text/plain": [
       "array([2.0000000e+00, 8.8817842e-16, 1.0000000e+00])"
      ]
     },
     "execution_count": 54,
     "metadata": {},
     "output_type": "execute_result"
    }
   ],
   "source": [
    "A_inv @ B"
   ]
  },
  {
   "cell_type": "code",
   "execution_count": null,
   "metadata": {},
   "outputs": [],
   "source": []
  },
  {
   "cell_type": "code",
   "execution_count": 55,
   "metadata": {},
   "outputs": [],
   "source": [
    "from scipy.linalg import pinv"
   ]
  },
  {
   "cell_type": "code",
   "execution_count": 57,
   "metadata": {},
   "outputs": [],
   "source": [
    "A = np.array([[1, 3, -2], [5, 2, 0], [4, 2, -1], [2, 2, 0]])\n",
    "B = np.array([0, 10, 7, 4])"
   ]
  },
  {
   "cell_type": "code",
   "execution_count": 58,
   "metadata": {},
   "outputs": [
    {
     "data": {
      "text/plain": [
       "array([2.0000000e+00, 4.4408921e-16, 1.0000000e+00])"
      ]
     },
     "execution_count": 58,
     "metadata": {},
     "output_type": "execute_result"
    }
   ],
   "source": [
    "pinv(A) @ B"
   ]
  },
  {
   "cell_type": "markdown",
   "metadata": {},
   "source": [
    "### Solving linear equations using matrix inverse\n",
    "\n",
    "If $A$, $B$, and $X$ were instead only numbers, we would recognize immediately that the way to solve for $X$ is to divide both sides of the equation by $A$, so long as $A\\neq 0$.  The natural question to ask about the system is *Can we define matrix division?*\n",
    "\n",
    "The answer is *Not quite.*  We can make progress though by understanding that in the case that $A$,$B$, and $X$ are numbers, we could also find the solution by multiplying by $1/A$.  This subtle distinction is important because it means that we do not need to define division.  We only need to find the number, that when multiplied by $A$ gives 1.  This number is called the multiplicative inverse of $A$ and is written as $1/A$, so long as $A\\neq 0$.\n",
    "\n",
    "We can extend this idea to the situation where $A$, $B$, and $X$ are matrices.  In order to solve the system $AX=B$, we want to multiply by a certain matrix, that when multiplied by $A$ will give the identity matrix $I$.  This matrix is known as the **inverse matrix**, and is given the symbol $A^{-1}$.\n",
    "\n",
    "If $A$ is a square matrix we define $A^{-1}$ (read as \"A inverse\") to be the matrix such that the following are true.\n",
    "\n",
    "$$\n",
    "A^{-1}A = I \\hspace{3cm}AA^{-1} = I\n",
    "$$"
   ]
  },
  {
   "cell_type": "markdown",
   "metadata": {},
   "source": [
    "Notes about inverse matrices:\n",
    "\n",
    "1. The matrix must be square in order for this definition to make sense.  If $A$ is not square, it is impossible for both \n",
    "$A^{-1}A$ and $AA^{-1}$ to be defined.\n",
    "2. Not all matrices have inverses.  Matrices that do have inverses are called **invertible** matrices.  Matrices that do not have inverses are called **non-invertible**, or **singular**, matrices.\n",
    "3. If a matrix is invertible, its inverse is unique.\n",
    "\n",
    "Now *if we know* $A^{-1}$, we can solve the system $AX=B$ by multiplying both sides by $A^{-1}$.\n",
    "\n",
    "$$\n",
    "A^{-1}AX = A^{-1}B\n",
    "$$\n",
    "\n",
    "Then $A^{-1}AX = IX = X$, so the solution to the system is $X=A^{-1}B$.  "
   ]
  },
  {
   "cell_type": "code",
   "execution_count": 21,
   "metadata": {},
   "outputs": [
    {
     "name": "stdout",
     "output_type": "stream",
     "text": [
      "[2.0000000e+00 8.8817842e-16 1.0000000e+00]\n"
     ]
    }
   ],
   "source": [
    "from scipy.linalg import inv\n",
    "A = np.array([[1, 3, -2], [5, 2, 0], [4, 2, -1]])\n",
    "B = np.array([0, 10, 7])\n",
    "X = inv(A) @ B\n",
    "print(X)"
   ]
  },
  {
   "cell_type": "code",
   "execution_count": 22,
   "metadata": {},
   "outputs": [
    {
     "ename": "ValueError",
     "evalue": "expected square matrix",
     "output_type": "error",
     "traceback": [
      "\u001b[0;31m---------------------------------------------------------------------------\u001b[0m",
      "\u001b[0;31mValueError\u001b[0m                                Traceback (most recent call last)",
      "Input \u001b[0;32mIn [22]\u001b[0m, in \u001b[0;36m<cell line: 3>\u001b[0;34m()\u001b[0m\n\u001b[1;32m      1\u001b[0m A \u001b[38;5;241m=\u001b[39m np\u001b[38;5;241m.\u001b[39marray([[\u001b[38;5;241m1\u001b[39m, \u001b[38;5;241m3\u001b[39m, \u001b[38;5;241m-\u001b[39m\u001b[38;5;241m2\u001b[39m], [\u001b[38;5;241m5\u001b[39m, \u001b[38;5;241m2\u001b[39m, \u001b[38;5;241m0\u001b[39m], [\u001b[38;5;241m4\u001b[39m, \u001b[38;5;241m2\u001b[39m, \u001b[38;5;241m-\u001b[39m\u001b[38;5;241m1\u001b[39m], [\u001b[38;5;241m2\u001b[39m, \u001b[38;5;241m2\u001b[39m, \u001b[38;5;241m0\u001b[39m]])\n\u001b[1;32m      2\u001b[0m B \u001b[38;5;241m=\u001b[39m np\u001b[38;5;241m.\u001b[39marray([\u001b[38;5;241m0\u001b[39m, \u001b[38;5;241m10\u001b[39m, \u001b[38;5;241m7\u001b[39m, \u001b[38;5;241m4\u001b[39m])\n\u001b[0;32m----> 3\u001b[0m \u001b[43minv\u001b[49m\u001b[43m(\u001b[49m\u001b[43mA\u001b[49m\u001b[43m)\u001b[49m\n",
      "File \u001b[0;32m~/miniconda3/envs/asap/lib/python3.8/site-packages/scipy/linalg/_basic.py:948\u001b[0m, in \u001b[0;36minv\u001b[0;34m(a, overwrite_a, check_finite)\u001b[0m\n\u001b[1;32m    946\u001b[0m     a1 \u001b[38;5;241m=\u001b[39m _asarray_validated(a, check_finite\u001b[38;5;241m=\u001b[39mcheck_finite)\n\u001b[1;32m    947\u001b[0m     \u001b[38;5;28;01mif\u001b[39;00m \u001b[38;5;28mlen\u001b[39m(a1\u001b[38;5;241m.\u001b[39mshape) \u001b[38;5;241m!=\u001b[39m \u001b[38;5;241m2\u001b[39m \u001b[38;5;129;01mor\u001b[39;00m a1\u001b[38;5;241m.\u001b[39mshape[\u001b[38;5;241m0\u001b[39m] \u001b[38;5;241m!=\u001b[39m a1\u001b[38;5;241m.\u001b[39mshape[\u001b[38;5;241m1\u001b[39m]:\n\u001b[0;32m--> 948\u001b[0m         \u001b[38;5;28;01mraise\u001b[39;00m \u001b[38;5;167;01mValueError\u001b[39;00m(\u001b[38;5;124m'\u001b[39m\u001b[38;5;124mexpected square matrix\u001b[39m\u001b[38;5;124m'\u001b[39m)\n\u001b[1;32m    949\u001b[0m     overwrite_a \u001b[38;5;241m=\u001b[39m overwrite_a \u001b[38;5;129;01mor\u001b[39;00m _datacopied(a1, a)\n\u001b[1;32m    950\u001b[0m     \u001b[38;5;66;03m# XXX: I found no advantage or disadvantage of using finv.\u001b[39;00m\n\u001b[1;32m    951\u001b[0m \u001b[38;5;66;03m#     finv, = get_flinalg_funcs(('inv',),(a1,))\u001b[39;00m\n\u001b[1;32m    952\u001b[0m \u001b[38;5;66;03m#     if finv is not None:\u001b[39;00m\n\u001b[0;32m   (...)\u001b[0m\n\u001b[1;32m    957\u001b[0m \u001b[38;5;66;03m#         if info<0: raise ValueError('illegal value in %d-th argument of '\u001b[39;00m\n\u001b[1;32m    958\u001b[0m \u001b[38;5;66;03m#                                     'internal inv.getrf|getri'%(-info))\u001b[39;00m\n",
      "\u001b[0;31mValueError\u001b[0m: expected square matrix"
     ]
    }
   ],
   "source": [
    "A = np.array([[1, 3, -2], [5, 2, 0], [4, 2, -1], [2, 2, 0]])\n",
    "B = np.array([0, 10, 7, 4])\n",
    "inv(A)"
   ]
  },
  {
   "cell_type": "code",
   "execution_count": 23,
   "metadata": {},
   "outputs": [
    {
     "name": "stdout",
     "output_type": "stream",
     "text": [
      "[ 2.00000000e+00 -5.55111512e-15  1.00000000e+00]\n"
     ]
    }
   ],
   "source": [
    "from scipy.linalg import pinv\n",
    "A = np.array([[1, 3, -2], [5, 2, 0], [4, 2, -1]])\n",
    "B = np.array([0, 10, 7])\n",
    "X = pinv(A) @ B\n",
    "print(X)"
   ]
  },
  {
   "cell_type": "markdown",
   "metadata": {},
   "source": [
    "### What does it mean?\n",
    "\n",
    "The set of equations:\n",
    "$$\n",
    "\\begin{eqnarray*}\n",
    "x_1 + 3x_2 - 2x_3 & = & 0\\\\\n",
    "5x_1 + 2x_2 \\quad\\quad & = & 10 \\\\\n",
    "4x_1 + 2x_2 - x_3 & = & 7 \\\\\n",
    "2x_1 + 2x_2 \\quad\\quad & = & 4\n",
    "\\end{eqnarray*}\n",
    "$$\n",
    "is over-determined. The Pseudo-inverse method gives the best least-square fit."
   ]
  },
  {
   "cell_type": "markdown",
   "metadata": {},
   "source": [
    "## Eigenvalues and eigenvectors\n",
    "\n",
    "Given $A \\in \\mathbb{R}^{n\\times n}$, $\\lambda$ is the **eigenvalue** of $A$, if there is a non-zero vector $x$, the corresponding **eigenvector**, if the following is true:\n",
    "\n",
    "$Ax = \\lambda x, x \\neq 0$\n",
    "\n",
    "Formally, given a square matrix $A \\in \\mathbb{R}^{n\\times n}$, we say that $\\lambda \\in \\mathbb{C}$ is an **eigenvalue** of $A$ and $x \\in \\mathbb{C}^n$ is the corresponding **eigenvector**.\n",
    "\n",
    "Intuitively, this definition means that multiplying $A$ by the vector $x$ results in a new vector that points in the same direction as $x$, but is scaled by a factor $\\lambda$.\n",
    "\n",
    "Also note that for any **eigenvector** $x \\in \\mathbb{C}^n$, and scalar $t \\in \\mathbb{C}, A(cx) = cAx = c\\lambda x = \\lambda(cx)$, so $cx$ is also an **eigenvector**. For this reason when we talk about **“the” eigenvector** associated with $\\lambda$, we usually assume that the **eigenvector** is normalized to have length $1$ (this still creates some ambiguity, since $x$ and $−x$ will both be **eigenvectors**, but we will have to live with this)."
   ]
  },
  {
   "cell_type": "markdown",
   "metadata": {},
   "source": [
    "We can write all the eigenvector equations simultaneously as:\n",
    "$A X = X \\Lambda$\n",
    "where the columns of $X \\in \\mathbb{R}^{n\\times n}$ are the eigenvectors of $A$ and $\\Lambda$ is a diagonal matrix whose entries are the eigenvalues of $A$:\n",
    "    \n",
    "$X \\in \\mathbb{R}^{n\\times n} = \\begin{bmatrix}\n",
    " \\big| & \\big| &  & \\big| \\\\[0.3em]\n",
    " x_1 & x_2 & \\cdots & x_n \\\\[0.3em]\n",
    " \\big| & \\big| &  & \\big|  \n",
    "\\end{bmatrix} , \\Lambda = \\mathrm{diag}(\\lambda_1, \\dots{}, \\lambda_n)$\n",
    "\n",
    "If the eigenvectors of $A$ are linearly independent, then the matrix $X$ will be invertible, so $A = X \\Lambda X^{−1}$. A matrix that can be written in this form is called **diagonalizable**."
   ]
  },
  {
   "cell_type": "code",
   "execution_count": 59,
   "metadata": {},
   "outputs": [
    {
     "data": {
      "text/plain": [
       "array([[2., 1.],\n",
       "       [1., 2.]])"
      ]
     },
     "execution_count": 59,
     "metadata": {},
     "output_type": "execute_result"
    }
   ],
   "source": [
    "from numpy import linalg\n",
    "\n",
    "A = np.array([[ 2., 1. ],\n",
    "              [ 1., 2. ]])\n",
    "A"
   ]
  },
  {
   "cell_type": "code",
   "execution_count": 62,
   "metadata": {},
   "outputs": [],
   "source": [
    "import scipy"
   ]
  },
  {
   "cell_type": "code",
   "execution_count": 64,
   "metadata": {},
   "outputs": [
    {
     "name": "stdout",
     "output_type": "stream",
     "text": [
      "[3. 1.]\n",
      "[[ 0.70710678 -0.70710678]\n",
      " [ 0.70710678  0.70710678]]\n"
     ]
    }
   ],
   "source": [
    "v, U = np.linalg.eig(A)\n",
    "print(v)\n",
    "print(U)"
   ]
  },
  {
   "cell_type": "code",
   "execution_count": 65,
   "metadata": {},
   "outputs": [
    {
     "data": {
      "text/plain": [
       "array([[ 1.00000000e+00, -2.23711432e-17],\n",
       "       [-2.23711432e-17,  1.00000000e+00]])"
      ]
     },
     "execution_count": 65,
     "metadata": {},
     "output_type": "execute_result"
    }
   ],
   "source": [
    "U@U.T"
   ]
  },
  {
   "cell_type": "code",
   "execution_count": 66,
   "metadata": {},
   "outputs": [
    {
     "data": {
      "text/plain": [
       "array([[2., 1.],\n",
       "       [1., 2.]])"
      ]
     },
     "execution_count": 66,
     "metadata": {},
     "output_type": "execute_result"
    }
   ],
   "source": [
    "U@np.diag([3,1])@U.T"
   ]
  },
  {
   "cell_type": "code",
   "execution_count": 34,
   "metadata": {},
   "outputs": [
    {
     "data": {
      "text/plain": [
       "array([[ 3.00000000e+00, -4.39088730e-17],\n",
       "       [ 2.23711432e-17,  1.00000000e+00]])"
      ]
     },
     "execution_count": 34,
     "metadata": {},
     "output_type": "execute_result"
    }
   ],
   "source": [
    "U.T@A@U"
   ]
  },
  {
   "cell_type": "markdown",
   "metadata": {},
   "source": [
    "## Using Pytorch"
   ]
  },
  {
   "cell_type": "code",
   "execution_count": 67,
   "metadata": {},
   "outputs": [
    {
     "name": "stdout",
     "output_type": "stream",
     "text": [
      "MPS device found!\n"
     ]
    }
   ],
   "source": [
    "import torch\n",
    "\n",
    "# Check if MPS is available\n",
    "if torch.backends.mps.is_available():\n",
    "    device = torch.device(\"mps\")\n",
    "    print(\"MPS device found!\")\n",
    "else:\n",
    "    print(\"MPS device not available.\")"
   ]
  },
  {
   "cell_type": "code",
   "execution_count": 68,
   "metadata": {},
   "outputs": [],
   "source": [
    "tensor_a = torch.randn(10, 20, 30, device=device)\n",
    "tensor_b = torch.randn(10, 30, 40, device=device)"
   ]
  },
  {
   "cell_type": "code",
   "execution_count": 69,
   "metadata": {},
   "outputs": [
    {
     "name": "stdout",
     "output_type": "stream",
     "text": [
      "CPU times: user 950 µs, sys: 326 µs, total: 1.28 ms\n",
      "Wall time: 627 µs\n"
     ]
    }
   ],
   "source": [
    "%%time\n",
    "result = torch.bmm(tensor_a, tensor_b) "
   ]
  },
  {
   "cell_type": "code",
   "execution_count": 70,
   "metadata": {},
   "outputs": [],
   "source": [
    "device = torch.device(\"cpu\")\n",
    "tensor_a = torch.randn(10, 20, 30, device=device)\n",
    "tensor_b = torch.randn(10, 30, 40, device=device)"
   ]
  },
  {
   "cell_type": "code",
   "execution_count": 71,
   "metadata": {},
   "outputs": [
    {
     "name": "stdout",
     "output_type": "stream",
     "text": [
      "CPU times: user 605 µs, sys: 260 µs, total: 865 µs\n",
      "Wall time: 562 µs\n"
     ]
    }
   ],
   "source": [
    "%%time\n",
    "result = torch.bmm(tensor_a, tensor_b) "
   ]
  },
  {
   "cell_type": "markdown",
   "metadata": {},
   "source": [
    "## Quantum Mechanics and Linear Algebra"
   ]
  },
  {
   "cell_type": "markdown",
   "metadata": {},
   "source": [
    "### **Wave Functions in function notation**\n",
    "- **Definition**: A wave function $\\psi(x,t)$ represents the quantum state of a particle. \n",
    "- **Probability density**: $|\\psi(x,t)|^2 \\, dx$ the probability of fing the particle in small volume $dx$ centered at $x$\n",
    "- **Normalization**:\n",
    "  $\n",
    "  \\int |\\psi(x,t)|^2 \\, dx = 1\n",
    "  $\n",
    "  \n",
    "\n"
   ]
  },
  {
   "cell_type": "markdown",
   "metadata": {},
   "source": [
    "### **Momentum and Energy Operators**\n",
    "- **Position Operator**:\n",
    "  $\n",
    "  \\hat{x} = x\n",
    "  $\n",
    "- **Momentum Operator**:\n",
    "  $\n",
    "  \\hat{p} = -i\\hbar \\frac{\\partial}{\\partial x}\n",
    "  $\n",
    "- **Kinetic energy Operator**:\n",
    "  $\n",
    "  \\hat{T} = \\dfrac{\\hat{p}^2}{2m} = -\\frac{\\hbar^2}{2m} \\frac{\\partial^2}{\\partial x^2}\n",
    "  $\n",
    "- **Potential energy Operator**:\n",
    "  $\n",
    "  \\hat{U} = U(x)\n",
    "  $\n",
    "- **Hamiltonian Operator**:\n",
    "  $\n",
    "  \\hat{H} = \\hat{T} + \\hat{U} = -\\frac{\\hbar^2}{2m} \\frac{\\partial^2}{\\partial x^2} + U(x)\n",
    "  $"
   ]
  },
  {
   "cell_type": "markdown",
   "metadata": {},
   "source": [
    "### Wave Function in Dirac notation\n",
    "- Bra-ket notation: \n",
    "- $ |\\psi\\rangle $ is like a vector\n",
    "- **Superposition**:\n",
    "  $\n",
    "  | \\psi(x,t)\\rangle = c_1 |\\psi_1(x,t)\\rangle + c_2 |\\psi_2(x,t)\\rangle\n",
    "  $"
   ]
  },
  {
   "cell_type": "markdown",
   "metadata": {},
   "source": [
    "###  **Time-Dependent Schrödinger Equation**:\n",
    "  $\n",
    "  i\\hbar \\frac{\\partial |\\psi(x,t)\\rangle}{\\partial t} = \\hat{H} |\\psi(x,t)\\rangle\n",
    "  $\n",
    "  \n",
    "###  **Time-Independent Schrödinger Equation**:\n",
    "  $\n",
    "  \\hat{H} |\\psi(x)\\rangle = E |\\psi(x)\\rangle\n",
    "  $\n",
    "  \n"
   ]
  },
  {
   "cell_type": "markdown",
   "metadata": {},
   "source": [
    "We focus on time-independent Schrödinger equation, because\n",
    "- Simpler!\n",
    "- Born-Oppenheimer approximation (electrons are fast)\n",
    "- If $|\\psi \\rangle$ is an eigenstate of $\\hat{H}$, \n",
    "\n",
    "$\\hat{H} |\\psi(x)\\rangle = E |\\psi(x)\\rangle$\n",
    "\n",
    "  $\n",
    "  i\\hbar \\frac{\\partial |\\psi(x,t)\\rangle}{\\partial t} = E |\\psi(x,t)\\rangle\n",
    "  $\n",
    "  \n",
    "  $\n",
    "  |\\psi(x,t)\\rangle = \\exp{(i\\hbar E t)} |\\psi(x,0)\\rangle\n",
    "  $\n",
    "  \n",
    "  An obervable $O$ at time $t$ doesn't change over time:\n",
    "  $\n",
    "  \\langle \\psi(t)|\\hat{O}|\\psi(t)\\rangle = \\langle \\psi(0)|\\hat{O}|\\psi(0)\\rangle\n",
    "  $"
   ]
  },
  {
   "cell_type": "markdown",
   "metadata": {},
   "source": [
    "\n",
    "\n",
    "###  **Matrix Representation**\n",
    "- **State Vectors and Operator Matrices**:\n",
    "  States are vectors $ |\\psi\\rangle $, and operators are matrices $ \\hat{A} $.\n",
    "- **Basis States**:\n",
    "  $\n",
    "  |\\psi\\rangle = \\sum_i c_i |i\\rangle\n",
    "  $\n",
    "  This is a column vector $c = [c_0, c_1, \\ldots]^T$\n",
    "- **Operator Matrix Elements**:\n",
    "  $\n",
    "  A_{ij} = \\langle i|\\hat{A}|j\\rangle\n",
    "  $\n",
    "- **Full Matrix Representation**:\n",
    "  Consider a simple two-state system with basis states $ |1\\rangle $ and $ |2\\rangle $. An operator $ \\hat{A} $ might be represented as:\n",
    "  $\n",
    "  \\hat{A} = \\begin{bmatrix}\n",
    "  \\langle 1|\\hat{A}|1\\rangle & \\langle 1|\\hat{A}|2\\rangle \\\\\n",
    "  \\langle 2|\\hat{A}|1\\rangle & \\langle 2|\\hat{A}|2\\rangle\n",
    "  \\end{bmatrix}\n",
    "  $\n",
    "  If $ \\hat{A} $ were the Hamiltonian $ \\hat{H} $ in a simple model, its matrix elements could involve kinetic and potential energy terms specific to each state.\n",
    "- **Diagonalization**:\n",
    "  Diagonalizing the Hamiltonian matrix $ \\hat{H} $:\n",
    "  $\n",
    "  \\begin{bmatrix}\n",
    "  H_{11} & H_{12} \\\\\n",
    "  H_{21} & H_{22}\n",
    "  \\end{bmatrix}\n",
    "  $\n",
    "  leads to eigenvalues (energy levels) and eigenvectors (quantum states).\n"
   ]
  },
  {
   "cell_type": "markdown",
   "metadata": {},
   "source": [
    "The Time-Independent Schrödinger Equation becomes:\n",
    "$$\n",
    "H c = E c\n",
    "$$"
   ]
  },
  {
   "cell_type": "code",
   "execution_count": null,
   "metadata": {},
   "outputs": [],
   "source": []
  }
 ],
 "metadata": {
  "kernelspec": {
   "display_name": "Python 3 (ipykernel)",
   "language": "python",
   "name": "python3"
  },
  "language_info": {
   "codemirror_mode": {
    "name": "ipython",
    "version": 3
   },
   "file_extension": ".py",
   "mimetype": "text/x-python",
   "name": "python",
   "nbconvert_exporter": "python",
   "pygments_lexer": "ipython3",
   "version": "3.8.16"
  }
 },
 "nbformat": 4,
 "nbformat_minor": 4
}
