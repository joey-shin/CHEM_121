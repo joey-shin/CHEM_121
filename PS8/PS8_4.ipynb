{
 "cells": [
  {
   "cell_type": "code",
   "execution_count": 9,
   "id": "a55856cf-a64c-4a07-8eef-e657b8178bc8",
   "metadata": {},
   "outputs": [],
   "source": [
    "from pyscf import gto, scf, dft\n",
    "from pyscf.geomopt.berny_solver import optimize"
   ]
  },
  {
   "cell_type": "markdown",
   "id": "bbbefd86-395c-40f4-913f-95b7245a9d34",
   "metadata": {},
   "source": [
    "# Question 4"
   ]
  },
  {
   "cell_type": "code",
   "execution_count": 24,
   "id": "0232b306-2653-4543-9051-db9879128b44",
   "metadata": {},
   "outputs": [],
   "source": [
    "atom = '''\n",
    "    N  0.0  0.0  0.0\n",
    "    H  0.0  0.0  1.0\n",
    "    H  0.9  0.0  -0.4\n",
    "    H -0.9  0.0  -0.4\n",
    "'''"
   ]
  },
  {
   "cell_type": "markdown",
   "id": "e7f5164d-28db-4319-8997-663330c97a87",
   "metadata": {},
   "source": [
    "## (i) - (iii)"
   ]
  },
  {
   "cell_type": "code",
   "execution_count": 25,
   "id": "551f38b8-e1c0-4c3b-a849-541fe261d8eb",
   "metadata": {
    "scrolled": true
   },
   "outputs": [
    {
     "name": "stdout",
     "output_type": "stream",
     "text": [
      "\n",
      "Geometry optimization cycle 1\n",
      "Cartesian coordinates (Angstrom)\n",
      " Atom        New coordinates             dX        dY        dZ\n",
      "   N   0.000000   0.000000   0.000000    0.000000  0.000000  0.000000\n",
      "   H   0.000000   0.000000   1.000000    0.000000  0.000000  0.000000\n",
      "   H   0.900000   0.000000  -0.400000    0.000000  0.000000  0.000000\n",
      "   H  -0.900000   0.000000  -0.400000    0.000000  0.000000  0.000000\n",
      "converged SCF energy = -56.1805696937867\n",
      "--------------- RHF_Scanner gradients ---------------\n",
      "         x                y                z\n",
      "0 N     0.0000000000    -0.0000000000    -0.0413578211\n",
      "1 H     0.0000000000    -0.0000000000     0.0038667204\n",
      "2 H     0.0014597387     0.0000000000     0.0187455503\n",
      "3 H    -0.0014597387     0.0000000000     0.0187455503\n",
      "----------------------------------------------\n",
      "cycle 1: E = -56.1805696938  dE = -56.1806  norm(grad) = 0.0493201\n",
      "\n",
      "Geometry optimization cycle 2\n",
      "Cartesian coordinates (Angstrom)\n",
      " Atom        New coordinates             dX        dY        dZ\n",
      "   N  -0.000000   0.000000   0.027276   -0.000000  0.000000  0.027276\n",
      "   H   0.000000   0.000000   1.023254    0.000000  0.000000  0.023254\n",
      "   H   0.882012   0.000000  -0.425265   -0.017988  0.000000 -0.025265\n",
      "   H  -0.882012   0.000000  -0.425265    0.017988  0.000000 -0.025265\n",
      "converged SCF energy = -56.1834248212302\n",
      "--------------- RHF_Scanner gradients ---------------\n",
      "         x                y                z\n",
      "0 N    -0.0000000000    -0.0000000000    -0.0175374778\n",
      "1 H     0.0000000000    -0.0000000000     0.0021898349\n",
      "2 H     0.0039448182    -0.0000000000     0.0076738215\n",
      "3 H    -0.0039448182     0.0000000000     0.0076738215\n",
      "----------------------------------------------\n",
      "cycle 2: E = -56.1834248212  dE = -0.00285513  norm(grad) = 0.0214769\n",
      "\n",
      "Geometry optimization cycle 3\n",
      "Cartesian coordinates (Angstrom)\n",
      " Atom        New coordinates             dX        dY        dZ\n",
      "   N  -0.000000   0.000000   0.051730   -0.000000  0.000000  0.024453\n",
      "   H  -0.000000   0.000000   1.043263   -0.000000  0.000000  0.020009\n",
      "   H   0.856634   0.000000  -0.447496   -0.025377  0.000000 -0.022231\n",
      "   H  -0.856634   0.000000  -0.447496    0.025377  0.000000 -0.022231\n",
      "converged SCF energy = -56.1842363700084\n",
      "--------------- RHF_Scanner gradients ---------------\n",
      "         x                y                z\n",
      "0 N    -0.0000000000     0.0000000000     0.0010027687\n",
      "1 H    -0.0000000000    -0.0000000000    -0.0003850946\n",
      "2 H    -0.0009413182    -0.0000000000    -0.0003088371\n",
      "3 H     0.0009413182     0.0000000000    -0.0003088371\n",
      "----------------------------------------------\n",
      "cycle 3: E = -56.18423637  dE = -0.000811549  norm(grad) = 0.00176544\n",
      "\n",
      "Geometry optimization cycle 4\n",
      "Cartesian coordinates (Angstrom)\n",
      " Atom        New coordinates             dX        dY        dZ\n",
      "   N  -0.000000   0.000000   0.049941    0.000000  0.000000 -0.001789\n",
      "   H   0.000000   0.000000   1.042010    0.000000  0.000000 -0.001252\n",
      "   H   0.859237   0.000000  -0.445976    0.002603  0.000000  0.001521\n",
      "   H  -0.859237   0.000000  -0.445976   -0.002603  0.000000  0.001521\n",
      "converged SCF energy = -56.184242868002\n",
      "--------------- RHF_Scanner gradients ---------------\n",
      "         x                y                z\n",
      "0 N    -0.0000000000    -0.0000000000    -0.0000273143\n",
      "1 H     0.0000000000    -0.0000000000     0.0000194823\n",
      "2 H     0.0000457502     0.0000000000     0.0000039160\n",
      "3 H    -0.0000457502     0.0000000000     0.0000039160\n",
      "----------------------------------------------\n",
      "cycle 4: E = -56.184242868  dE = -6.49799e-06  norm(grad) = 7.30922e-05\n",
      "N          -0.00000        0.00000        0.04994\n",
      "H           0.00000        0.00000        1.04201\n",
      "H           0.85924        0.00000       -0.44598\n",
      "H          -0.85924        0.00000       -0.44598\n"
     ]
    }
   ],
   "source": [
    "mol = gto.M(atom=atom, basis='cc-pvdz')\n",
    "mf = scf.RHF(mol)\n",
    "mol_eq = optimize(mf)\n",
    "print(mol_eq.tostring()) # 0.99207"
   ]
  },
  {
   "cell_type": "markdown",
   "id": "fb4937ed-622d-4064-9f94-217f2127712f",
   "metadata": {},
   "source": [
    "## (iv)"
   ]
  },
  {
   "cell_type": "code",
   "execution_count": 28,
   "id": "dd691309-9879-4f8d-8bda-95bf1cf5ed4e",
   "metadata": {
    "scrolled": true
   },
   "outputs": [
    {
     "name": "stdout",
     "output_type": "stream",
     "text": [
      "\n",
      "Geometry optimization cycle 1\n",
      "Cartesian coordinates (Angstrom)\n",
      " Atom        New coordinates             dX        dY        dZ\n",
      "   N   0.000000   0.000000   0.000000    0.000000  0.000000  0.000000\n",
      "   H   0.000000   0.000000   1.000000    0.000000  0.000000  0.000000\n",
      "   H   0.900000   0.000000  -0.400000    0.000000  0.000000  0.000000\n",
      "   H  -0.900000   0.000000  -0.400000    0.000000  0.000000  0.000000\n",
      "converged SCF energy = -56.5391094373448\n",
      "--------------- RKS_Scanner gradients ---------------\n",
      "         x                y                z\n",
      "0 N     0.0000000000    -0.0000000000    -0.0341365098\n",
      "1 H     0.0000000000     0.0000000000    -0.0082995364\n",
      "2 H    -0.0102823578     0.0000000000     0.0212179539\n",
      "3 H     0.0102823578     0.0000000000     0.0212179539\n",
      "----------------------------------------------\n",
      "cycle 1: E = -56.5391094373  dE = -56.5391  norm(grad) = 0.0484359\n",
      "\n",
      "Geometry optimization cycle 2\n",
      "Cartesian coordinates (Angstrom)\n",
      " Atom        New coordinates             dX        dY        dZ\n",
      "   N  -0.000000   0.000000   0.023299   -0.000000  0.000000  0.023299\n",
      "   H   0.000000   0.000000   1.031928    0.000000  0.000000  0.031928\n",
      "   H   0.896340   0.000000  -0.427613   -0.003660  0.000000 -0.027613\n",
      "   H  -0.896340   0.000000  -0.427613    0.003660  0.000000 -0.027613\n",
      "converged SCF energy = -56.5419008576043\n",
      "--------------- RKS_Scanner gradients ---------------\n",
      "         x                y                z\n",
      "0 N    -0.0000000000     0.0000000000    -0.0168838582\n",
      "1 H     0.0000000000     0.0000000000     0.0018195910\n",
      "2 H     0.0036668724    -0.0000000000     0.0075317246\n",
      "3 H    -0.0036668724     0.0000000000     0.0075317246\n",
      "----------------------------------------------\n",
      "cycle 2: E = -56.5419008576  dE = -0.00279142  norm(grad) = 0.0207056\n",
      "\n",
      "Geometry optimization cycle 3\n",
      "Cartesian coordinates (Angstrom)\n",
      " Atom        New coordinates             dX        dY        dZ\n",
      "   N  -0.000000   0.000000   0.047288   -0.000000  0.000000  0.023989\n",
      "   H   0.000000   0.000000   1.054506    0.000000  0.000000  0.022578\n",
      "   H   0.875068   0.000000  -0.450897   -0.021272  0.000000 -0.023284\n",
      "   H  -0.875068   0.000000  -0.450897    0.021272  0.000000 -0.023284\n",
      "converged SCF energy = -56.5428054848343\n",
      "--------------- RKS_Scanner gradients ---------------\n",
      "         x                y                z\n",
      "0 N    -0.0000000000    -0.0000000000    -0.0015557290\n",
      "1 H     0.0000000000     0.0000000000     0.0024200978\n",
      "2 H     0.0026080534     0.0000000000    -0.0004328506\n",
      "3 H    -0.0026080534     0.0000000000    -0.0004328506\n",
      "----------------------------------------------\n",
      "cycle 3: E = -56.5428054848  dE = -0.000904627  norm(grad) = 0.0047176\n",
      "\n",
      "Geometry optimization cycle 4\n",
      "Cartesian coordinates (Angstrom)\n",
      " Atom        New coordinates             dX        dY        dZ\n",
      "   N   0.000000   0.000000   0.050086    0.000000  0.000000  0.002798\n",
      "   H  -0.000000   0.000000   1.054927   -0.000000  0.000000  0.000421\n",
      "   H   0.870379   0.000000  -0.452506   -0.004689  0.000000 -0.001609\n",
      "   H  -0.870379   0.000000  -0.452506    0.004689  0.000000 -0.001609\n",
      "converged SCF energy = -56.5428336078447\n",
      "--------------- RKS_Scanner gradients ---------------\n",
      "         x                y                z\n",
      "0 N     0.0000000000    -0.0000000000     0.0002197387\n",
      "1 H    -0.0000000000     0.0000000000     0.0004363503\n",
      "2 H     0.0005569465     0.0000000000    -0.0003286761\n",
      "3 H    -0.0005569465     0.0000000000    -0.0003286761\n",
      "----------------------------------------------\n",
      "cycle 4: E = -56.5428336078  dE = -2.8123e-05  norm(grad) = 0.00103688\n",
      "\n",
      "Geometry optimization cycle 5\n",
      "Cartesian coordinates (Angstrom)\n",
      " Atom        New coordinates             dX        dY        dZ\n",
      "   N   0.000000   0.000000   0.050041    0.000000  0.000000 -0.000044\n",
      "   H  -0.000000   0.000000   1.054412   -0.000000  0.000000 -0.000515\n",
      "   H   0.869798   0.000000  -0.452227   -0.000581  0.000000  0.000279\n",
      "   H  -0.869798   0.000000  -0.452227    0.000581  0.000000  0.000279\n",
      "converged SCF energy = -56.5428346470534\n",
      "--------------- RKS_Scanner gradients ---------------\n",
      "         x                y                z\n",
      "0 N     0.0000000000     0.0000000000     0.0000425131\n",
      "1 H    -0.0000000000    -0.0000000000     0.0000018827\n",
      "2 H     0.0000171848    -0.0000000000    -0.0000228262\n",
      "3 H    -0.0000171848     0.0000000000    -0.0000228262\n",
      "----------------------------------------------\n",
      "cycle 5: E = -56.5428346471  dE = -1.03921e-06  norm(grad) = 5.86823e-05\n",
      "N           0.00000        0.00000        0.05004\n",
      "H          -0.00000        0.00000        1.05441\n",
      "H           0.86980        0.00000       -0.45223\n",
      "H          -0.86980        0.00000       -0.45223\n"
     ]
    }
   ],
   "source": [
    "mol = gto.M(atom=atom, basis='cc-pvdz')\n",
    "mf = dft.RKS(mol)\n",
    "mf.xc = 'b3lyp'\n",
    "\n",
    "mol_eq = optimize(mf)\n",
    "print(mol_eq.tostring()) # 0.9963"
   ]
  },
  {
   "cell_type": "markdown",
   "id": "5e62bf85-78a8-4df7-9ec9-37ae8fc7c3f0",
   "metadata": {},
   "source": [
    "## (v)"
   ]
  },
  {
   "cell_type": "code",
   "execution_count": 27,
   "id": "b6a2b5a1-4147-49ae-9072-c9bec44a9866",
   "metadata": {
    "scrolled": true
   },
   "outputs": [
    {
     "name": "stdout",
     "output_type": "stream",
     "text": [
      "\n",
      "Geometry optimization cycle 1\n",
      "Cartesian coordinates (Angstrom)\n",
      " Atom        New coordinates             dX        dY        dZ\n",
      "   N   0.000000   0.000000   0.000000    0.000000  0.000000  0.000000\n",
      "   H   0.000000   0.000000   1.000000    0.000000  0.000000  0.000000\n",
      "   H   0.900000   0.000000  -0.400000    0.000000  0.000000  0.000000\n",
      "   H  -0.900000   0.000000  -0.400000    0.000000  0.000000  0.000000\n",
      "converged SCF energy = -56.2059365598307\n",
      "--------------- RHF_Scanner gradients ---------------\n",
      "         x                y                z\n",
      "0 N     0.0000000000     0.0000000000    -0.0425855971\n",
      "1 H    -0.0000000000    -0.0000000000     0.0108703488\n",
      "2 H     0.0089037561    -0.0000000000     0.0158576242\n",
      "3 H    -0.0089037561     0.0000000000     0.0158576242\n",
      "----------------------------------------------\n",
      "cycle 1: E = -56.2059365598  dE = -56.2059  norm(grad) = 0.0509233\n",
      "\n",
      "Geometry optimization cycle 2\n",
      "Cartesian coordinates (Angstrom)\n",
      " Atom        New coordinates             dX        dY        dZ\n",
      "   N  -0.000000   0.000000   0.027730   -0.000000  0.000000  0.027730\n",
      "   H   0.000000   0.000000   1.016427    0.000000  0.000000  0.016427\n",
      "   H   0.874213   0.000000  -0.422078   -0.025787  0.000000 -0.022078\n",
      "   H  -0.874213   0.000000  -0.422078    0.025787  0.000000 -0.022078\n",
      "converged SCF energy = -56.208942692873\n",
      "--------------- RHF_Scanner gradients ---------------\n",
      "         x                y                z\n",
      "0 N    -0.0000000000     0.0000000000    -0.0185102555\n",
      "1 H     0.0000000000    -0.0000000000     0.0022898968\n",
      "2 H     0.0033188646     0.0000000000     0.0081101794\n",
      "3 H    -0.0033188646    -0.0000000000     0.0081101794\n",
      "----------------------------------------------\n",
      "cycle 2: E = -56.2089426929  dE = -0.00300613  norm(grad) = 0.0223931\n",
      "\n",
      "Geometry optimization cycle 3\n",
      "Cartesian coordinates (Angstrom)\n",
      " Atom        New coordinates             dX        dY        dZ\n",
      "   N   0.000000   0.000000   0.051813    0.000000  0.000000  0.024084\n",
      "   H  -0.000000   0.000000   1.035876   -0.000000  0.000000  0.019449\n",
      "   H   0.850722   0.000000  -0.443845   -0.023491  0.000000 -0.021766\n",
      "   H  -0.850722   0.000000  -0.443845    0.023491  0.000000 -0.021766\n",
      "converged SCF energy = -56.2097413557442\n",
      "--------------- RHF_Scanner gradients ---------------\n",
      "         x                y                z\n",
      "0 N     0.0000000000     0.0000000000     0.0015937451\n",
      "1 H    -0.0000000000     0.0000000000    -0.0004315901\n",
      "2 H    -0.0004625062     0.0000000000    -0.0005810775\n",
      "3 H     0.0004625062    -0.0000000000    -0.0005810775\n",
      "----------------------------------------------\n",
      "cycle 3: E = -56.2097413557  dE = -0.000798663  norm(grad) = 0.00195689\n",
      "\n",
      "Geometry optimization cycle 4\n",
      "Cartesian coordinates (Angstrom)\n",
      " Atom        New coordinates             dX        dY        dZ\n",
      "   N   0.000000   0.000000   0.049942   -0.000000  0.000000 -0.001871\n",
      "   H  -0.000000   0.000000   1.034590    0.000000  0.000000 -0.001286\n",
      "   H   0.852778   0.000000  -0.442266    0.002056  0.000000  0.001579\n",
      "   H  -0.852778   0.000000  -0.442266   -0.002056  0.000000  0.001579\n",
      "converged SCF energy = -56.2097469796387\n",
      "--------------- RHF_Scanner gradients ---------------\n",
      "         x                y                z\n",
      "0 N     0.0000000000    -0.0000000000    -0.0000520057\n",
      "1 H    -0.0000000000     0.0000000000     0.0000304859\n",
      "2 H     0.0000284948     0.0000000000     0.0000107599\n",
      "3 H    -0.0000284948    -0.0000000000     0.0000107599\n",
      "----------------------------------------------\n",
      "cycle 4: E = -56.2097469796  dE = -5.62389e-06  norm(grad) = 7.40908e-05\n",
      "N           0.00000        0.00000        0.04994\n",
      "H          -0.00000        0.00000        1.03459\n",
      "H           0.85278        0.00000       -0.44227\n",
      "H          -0.85278        0.00000       -0.44227\n"
     ]
    }
   ],
   "source": [
    "mol = gto.M(atom=atom, basis='cc-pvtz')\n",
    "mf = scf.RHF(mol)\n",
    "mol_eq = optimize(mf)\n",
    "print(mol_eq.tostring()) # 0.99207"
   ]
  },
  {
   "cell_type": "code",
   "execution_count": 29,
   "id": "f402100e-4c16-4457-811f-0e7d797ad0ac",
   "metadata": {
    "scrolled": true
   },
   "outputs": [
    {
     "name": "stdout",
     "output_type": "stream",
     "text": [
      "\n",
      "Geometry optimization cycle 1\n",
      "Cartesian coordinates (Angstrom)\n",
      " Atom        New coordinates             dX        dY        dZ\n",
      "   N   0.000000   0.000000   0.000000    0.000000  0.000000  0.000000\n",
      "   H   0.000000   0.000000   1.000000    0.000000  0.000000  0.000000\n",
      "   H   0.900000   0.000000  -0.400000    0.000000  0.000000  0.000000\n",
      "   H  -0.900000   0.000000  -0.400000    0.000000  0.000000  0.000000\n",
      "converged SCF energy = -56.2117061564248\n",
      "--------------- RHF_Scanner gradients ---------------\n",
      "         x                y                z\n",
      "0 N    -0.0000000000    -0.0000000000    -0.0427307820\n",
      "1 H     0.0000000000     0.0000000000     0.0113524298\n",
      "2 H     0.0092161627     0.0000000000     0.0156891761\n",
      "3 H    -0.0092161627    -0.0000000000     0.0156891761\n",
      "----------------------------------------------\n",
      "cycle 1: E = -56.2117061564  dE = -56.2117  norm(grad) = 0.0511564\n",
      "\n",
      "Geometry optimization cycle 2\n",
      "Cartesian coordinates (Angstrom)\n",
      " Atom        New coordinates             dX        dY        dZ\n",
      "   N   0.000000   0.000000   0.027733    0.000000  0.000000  0.027733\n",
      "   H  -0.000000   0.000000   1.015929   -0.000000  0.000000  0.015929\n",
      "   H   0.873930   0.000000  -0.421831   -0.026070  0.000000 -0.021831\n",
      "   H  -0.873930   0.000000  -0.421831    0.026070  0.000000 -0.021831\n",
      "converged SCF energy = -56.2147190374855\n",
      "--------------- RHF_Scanner gradients ---------------\n",
      "         x                y                z\n",
      "0 N    -0.0000000000    -0.0000000000    -0.0184581100\n",
      "1 H    -0.0000000000    -0.0000000000     0.0022254670\n",
      "2 H     0.0033300923    -0.0000000000     0.0081163215\n",
      "3 H    -0.0033300923     0.0000000000     0.0081163215\n",
      "----------------------------------------------\n",
      "cycle 2: E = -56.2147190375  dE = -0.00301288  norm(grad) = 0.0223514\n",
      "\n",
      "Geometry optimization cycle 3\n",
      "Cartesian coordinates (Angstrom)\n",
      " Atom        New coordinates             dX        dY        dZ\n",
      "   N  -0.000000   0.000000   0.051819   -0.000000  0.000000  0.024086\n",
      "   H   0.000000   0.000000   1.035465    0.000000  0.000000  0.019536\n",
      "   H   0.850376   0.000000  -0.443642   -0.023555  0.000000 -0.021811\n",
      "   H  -0.850376   0.000000  -0.443642    0.023555  0.000000 -0.021811\n",
      "converged SCF energy = -56.2155192436466\n",
      "--------------- RHF_Scanner gradients ---------------\n",
      "         x                y                z\n",
      "0 N    -0.0000000000     0.0000000000     0.0016185665\n",
      "1 H     0.0000000000    -0.0000000000    -0.0004608813\n",
      "2 H    -0.0004658540     0.0000000000    -0.0005788426\n",
      "3 H     0.0004658540    -0.0000000000    -0.0005788426\n",
      "----------------------------------------------\n",
      "cycle 3: E = -56.2155192436  dE = -0.000800206  norm(grad) = 0.00198402\n",
      "\n",
      "Geometry optimization cycle 4\n",
      "Cartesian coordinates (Angstrom)\n",
      " Atom        New coordinates             dX        dY        dZ\n",
      "   N  -0.000000   0.000000   0.049942    0.000000  0.000000 -0.001878\n",
      "   H   0.000000   0.000000   1.034198    0.000000  0.000000 -0.001267\n",
      "   H   0.852437   0.000000  -0.442070    0.002061  0.000000  0.001572\n",
      "   H  -0.852437   0.000000  -0.442070   -0.002061  0.000000  0.001572\n",
      "converged SCF energy = -56.2155248963289\n",
      "--------------- RHF_Scanner gradients ---------------\n",
      "         x                y                z\n",
      "0 N     0.0000000000     0.0000000000    -0.0000540463\n",
      "1 H     0.0000000000     0.0000000000     0.0000319681\n",
      "2 H     0.0000278426    -0.0000000000     0.0000110391\n",
      "3 H    -0.0000278426     0.0000000000     0.0000110391\n",
      "----------------------------------------------\n",
      "cycle 4: E = -56.2155248963  dE = -5.65268e-06  norm(grad) = 7.57437e-05\n",
      "N          -0.00000        0.00000        0.04994\n",
      "H           0.00000        0.00000        1.03420\n",
      "H           0.85244        0.00000       -0.44207\n",
      "H          -0.85244        0.00000       -0.44207\n"
     ]
    }
   ],
   "source": [
    "mol = gto.M(atom=atom, basis='cc-pvqz')\n",
    "mf = scf.RHF(mol)\n",
    "mol_eq = optimize(mf)\n",
    "print(mol_eq.tostring()) # 0.99207"
   ]
  },
  {
   "cell_type": "markdown",
   "id": "3c81ebca-070d-40b9-b30b-f5d01aaceac4",
   "metadata": {},
   "source": [
    "## (vi)"
   ]
  },
  {
   "cell_type": "code",
   "execution_count": null,
   "id": "f552eabd-30fd-45d0-8a70-c4c9758fa50f",
   "metadata": {
    "scrolled": true
   },
   "outputs": [
    {
     "name": "stdout",
     "output_type": "stream",
     "text": [
      "\n",
      "Geometry optimization cycle 1\n",
      "Cartesian coordinates (Angstrom)\n",
      " Atom        New coordinates             dX        dY        dZ\n",
      "   N   0.000000   0.000000   0.000000    0.000000  0.000000  0.000000\n",
      "   H   0.000000   0.000000   1.000000    0.000000  0.000000  0.000000\n",
      "   H   0.900000   0.000000  -0.400000    0.000000  0.000000  0.000000\n",
      "   H  -0.900000   0.000000  -0.400000    0.000000  0.000000  0.000000\n"
     ]
    }
   ],
   "source": [
    "mol = gto.M(atom=atom, basis='cc-pv5z')\n",
    "mf = dft.RKS(mol)\n",
    "mf.xc = 'b3lyp'\n",
    "\n",
    "mol_eq = optimize(mf)\n",
    "print(mol_eq.tostring())"
   ]
  },
  {
   "cell_type": "code",
   "execution_count": 30,
   "id": "37a81339-35b2-4c1e-8ffe-64a60f73e836",
   "metadata": {},
   "outputs": [
    {
     "data": {
      "image/png": "[encoded data removed]",
      "text/plain": [
       "<Figure size 640x480 with 1 Axes>"
      ]
     },
     "metadata": {},
     "output_type": "display_data"
    }
   ],
   "source": [
    "import matplotlib.pyplot as plt\n",
    "\n",
    "bases = ['cc-pVDZ', 'cc-pVTZ', 'cc-pVQZ', 'cc-pV5Z']\n",
    "energies = [-56.184242868, -56.2097469796, -56.2155248963, -56.217542]\n",
    "\n",
    "fig, ax = plt.subplots()\n",
    "ax.plot(bases, energies)\n",
    "ax.set_xlabel('Basis Sets')\n",
    "ax.set_ylabel('Energy (au)')\n",
    "ax.set_title('Basis Set Energy')\n",
    "fig.savefig('basis_set_energy.png')"
   ]
  },
  {
   "cell_type": "code",
   "execution_count": null,
   "id": "81feae77-8f7a-4802-877f-2d9ec47acd42",
   "metadata": {},
   "outputs": [],
   "source": []
  }
 ],
 "metadata": {
  "kernelspec": {
   "display_name": "Python 3 (ipykernel)",
   "language": "python",
   "name": "python3"
  },
  "language_info": {
   "codemirror_mode": {
    "name": "ipython",
    "version": 3
   },
   "file_extension": ".py",
   "mimetype": "text/x-python",
   "name": "python",
   "nbconvert_exporter": "python",
   "pygments_lexer": "ipython3",
   "version": "3.12.4"
  }
 },
 "nbformat": 4,
 "nbformat_minor": 5
}
