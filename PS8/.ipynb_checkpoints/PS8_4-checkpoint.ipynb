{
 "cells": [
  {
   "cell_type": "code",
   "execution_count": 9,
   "id": "a55856cf-a64c-4a07-8eef-e657b8178bc8",
   "metadata": {},
   "outputs": [],
   "source": [
    "from pyscf import gto, scf, dft\n",
    "from pyscf.geomopt.berny_solver import optimize"
   ]
  },
  {
   "cell_type": "markdown",
   "id": "bbbefd86-395c-40f4-913f-95b7245a9d34",
   "metadata": {},
   "source": [
    "# Question 4"
   ]
  },
  {
   "cell_type": "code",
   "execution_count": 7,
   "id": "0232b306-2653-4543-9051-db9879128b44",
   "metadata": {},
   "outputs": [],
   "source": [
    "atom = '''\n",
    "    N  0.0  0.0  0.0\n",
    "    H  0.0  0.0  1.0\n",
    "    H  0.9  0.0  -0.4\n",
    "    H -0.9  0.0  -0.4\n",
    "'''"
   ]
  },
  {
   "cell_type": "markdown",
   "id": "e7f5164d-28db-4319-8997-663330c97a87",
   "metadata": {},
   "source": [
    "## (i) - (iii)"
   ]
  },
  {
   "cell_type": "code",
   "execution_count": 13,
   "id": "551f38b8-e1c0-4c3b-a849-541fe261d8eb",
   "metadata": {
    "scrolled": true
   },
   "outputs": [
    {
     "name": "stdout",
     "output_type": "stream",
     "text": [
      "\n",
      "Geometry optimization cycle 1\n",
      "Cartesian coordinates (Angstrom)\n",
      " Atom        New coordinates             dX        dY        dZ\n",
      "   N   0.000000   0.000000   0.000000    0.000000  0.000000  0.000000\n",
      "   H   0.000000   0.000000   1.000000    0.000000  0.000000  0.000000\n",
      "   H   0.900000   0.000000  -0.400000    0.000000  0.000000  0.000000\n",
      "   H  -0.900000   0.000000  -0.400000    0.000000  0.000000  0.000000\n",
      "converged SCF energy = -56.1805696937867\n",
      "--------------- RHF_Scanner gradients ---------------\n",
      "         x                y                z\n",
      "0 N     0.0000000000    -0.0000000000    -0.0413578211\n",
      "1 H     0.0000000000    -0.0000000000     0.0038667204\n",
      "2 H     0.0014597387     0.0000000000     0.0187455503\n",
      "3 H    -0.0014597387     0.0000000000     0.0187455503\n",
      "----------------------------------------------\n",
      "cycle 1: E = -56.1805696938  dE = -56.1806  norm(grad) = 0.0493201\n",
      "\n",
      "Geometry optimization cycle 2\n",
      "Cartesian coordinates (Angstrom)\n",
      " Atom        New coordinates             dX        dY        dZ\n",
      "   N  -0.000000   0.000000   0.027276   -0.000000  0.000000  0.027276\n",
      "   H   0.000000   0.000000   1.023254    0.000000  0.000000  0.023254\n",
      "   H   0.882012   0.000000  -0.425265   -0.017988  0.000000 -0.025265\n",
      "   H  -0.882012   0.000000  -0.425265    0.017988  0.000000 -0.025265\n",
      "converged SCF energy = -56.1834248212302\n",
      "--------------- RHF_Scanner gradients ---------------\n",
      "         x                y                z\n",
      "0 N    -0.0000000000    -0.0000000000    -0.0175374778\n",
      "1 H     0.0000000000    -0.0000000000     0.0021898349\n",
      "2 H     0.0039448182    -0.0000000000     0.0076738215\n",
      "3 H    -0.0039448182     0.0000000000     0.0076738215\n",
      "----------------------------------------------\n",
      "cycle 2: E = -56.1834248212  dE = -0.00285513  norm(grad) = 0.0214769\n",
      "\n",
      "Geometry optimization cycle 3\n",
      "Cartesian coordinates (Angstrom)\n",
      " Atom        New coordinates             dX        dY        dZ\n",
      "   N  -0.000000   0.000000   0.051730   -0.000000  0.000000  0.024453\n",
      "   H  -0.000000   0.000000   1.043263   -0.000000  0.000000  0.020009\n",
      "   H   0.856634   0.000000  -0.447496   -0.025377  0.000000 -0.022231\n",
      "   H  -0.856634   0.000000  -0.447496    0.025377  0.000000 -0.022231\n",
      "converged SCF energy = -56.1842363700084\n",
      "--------------- RHF_Scanner gradients ---------------\n",
      "         x                y                z\n",
      "0 N    -0.0000000000     0.0000000000     0.0010027687\n",
      "1 H    -0.0000000000    -0.0000000000    -0.0003850946\n",
      "2 H    -0.0009413182    -0.0000000000    -0.0003088371\n",
      "3 H     0.0009413182     0.0000000000    -0.0003088371\n",
      "----------------------------------------------\n",
      "cycle 3: E = -56.18423637  dE = -0.000811549  norm(grad) = 0.00176544\n",
      "\n",
      "Geometry optimization cycle 4\n",
      "Cartesian coordinates (Angstrom)\n",
      " Atom        New coordinates             dX        dY        dZ\n",
      "   N  -0.000000   0.000000   0.049941    0.000000  0.000000 -0.001789\n",
      "   H   0.000000   0.000000   1.042010    0.000000  0.000000 -0.001252\n",
      "   H   0.859237   0.000000  -0.445976    0.002603  0.000000  0.001521\n",
      "   H  -0.859237   0.000000  -0.445976   -0.002603  0.000000  0.001521\n",
      "converged SCF energy = -56.184242868002\n",
      "--------------- RHF_Scanner gradients ---------------\n",
      "         x                y                z\n",
      "0 N    -0.0000000000    -0.0000000000    -0.0000273143\n",
      "1 H     0.0000000000    -0.0000000000     0.0000194823\n",
      "2 H     0.0000457502     0.0000000000     0.0000039160\n",
      "3 H    -0.0000457502     0.0000000000     0.0000039160\n",
      "----------------------------------------------\n",
      "cycle 4: E = -56.184242868  dE = -6.49799e-06  norm(grad) = 7.30922e-05\n",
      "N          -0.00000        0.00000        0.04994\n",
      "H           0.00000        0.00000        1.04201\n",
      "H           0.85924        0.00000       -0.44598\n",
      "H          -0.85924        0.00000       -0.44598\n"
     ]
    }
   ],
   "source": [
    "mol = gto.M(atom=atom, basis='cc-pvdz')\n",
    "mf = scf.RHF(mol)\n",
    "mol_eq = optimize(mf)\n",
    "print(mol_eq.tostring()) # 0.99207"
   ]
  },
  {
   "cell_type": "markdown",
   "id": "fb4937ed-622d-4064-9f94-217f2127712f",
   "metadata": {},
   "source": [
    "## (iv)"
   ]
  },
  {
   "cell_type": "code",
   "execution_count": 10,
   "id": "f8bfaea8-28da-48c7-99be-7b9ff7bc25d4",
   "metadata": {
    "scrolled": true
   },
   "outputs": [
    {
     "name": "stdout",
     "output_type": "stream",
     "text": [
      "\n",
      "Geometry optimization cycle 1\n",
      "Cartesian coordinates (Angstrom)\n",
      " Atom        New coordinates             dX        dY        dZ\n",
      "   N   0.000000   0.000000   0.000000    0.000000  0.000000  0.000000\n",
      "   H   0.000000   0.000000   1.000000    0.000000  0.000000  0.000000\n",
      "   H   0.900000   0.000000  -0.400000    0.000000  0.000000  0.000000\n",
      "   H  -0.900000   0.000000  -0.400000    0.000000  0.000000  0.000000\n"
     ]
    },
    {
     "name": "stderr",
     "output_type": "stream",
     "text": [
      "/opt/anaconda3/lib/python3.12/site-packages/pyscf/dft/libxc.py:512: UserWarning: Since PySCF-2.3, B3LYP (and B3P86) are changed to the VWN-RPA variant, corresponding to the original definition by Stephens et al. (issue 1480) and the same as the B3LYP functional in Gaussian. To restore the VWN5 definition, you can put the setting \"B3LYP_WITH_VWN5 = True\" in pyscf_conf.py\n",
      "  warnings.warn('Since PySCF-2.3, B3LYP (and B3P86) are changed to the VWN-RPA variant, '\n"
     ]
    },
    {
     "name": "stdout",
     "output_type": "stream",
     "text": [
      "converged SCF energy = -56.5391094373448\n",
      "--------------- RKS_Scanner gradients ---------------\n",
      "         x                y                z\n",
      "0 N     0.0000000000    -0.0000000000    -0.0341365098\n",
      "1 H     0.0000000000     0.0000000000    -0.0082995364\n",
      "2 H    -0.0102823578     0.0000000000     0.0212179539\n",
      "3 H     0.0102823578     0.0000000000     0.0212179539\n",
      "----------------------------------------------\n",
      "cycle 1: E = -56.5391094373  dE = -56.5391  norm(grad) = 0.0484359\n",
      "\n",
      "Geometry optimization cycle 2\n",
      "Cartesian coordinates (Angstrom)\n",
      " Atom        New coordinates             dX        dY        dZ\n",
      "   N  -0.000000   0.000000   0.023299   -0.000000  0.000000  0.023299\n",
      "   H   0.000000   0.000000   1.031928    0.000000  0.000000  0.031928\n",
      "   H   0.896340   0.000000  -0.427613   -0.003660  0.000000 -0.027613\n",
      "   H  -0.896340   0.000000  -0.427613    0.003660  0.000000 -0.027613\n",
      "converged SCF energy = -56.5419008576043\n",
      "--------------- RKS_Scanner gradients ---------------\n",
      "         x                y                z\n",
      "0 N    -0.0000000000     0.0000000000    -0.0168838582\n",
      "1 H     0.0000000000     0.0000000000     0.0018195910\n",
      "2 H     0.0036668724    -0.0000000000     0.0075317246\n",
      "3 H    -0.0036668724     0.0000000000     0.0075317246\n",
      "----------------------------------------------\n",
      "cycle 2: E = -56.5419008576  dE = -0.00279142  norm(grad) = 0.0207056\n",
      "\n",
      "Geometry optimization cycle 3\n",
      "Cartesian coordinates (Angstrom)\n",
      " Atom        New coordinates             dX        dY        dZ\n",
      "   N  -0.000000   0.000000   0.047288   -0.000000  0.000000  0.023989\n",
      "   H   0.000000   0.000000   1.054506    0.000000  0.000000  0.022578\n",
      "   H   0.875068   0.000000  -0.450897   -0.021272  0.000000 -0.023284\n",
      "   H  -0.875068   0.000000  -0.450897    0.021272  0.000000 -0.023284\n",
      "converged SCF energy = -56.5428054848343\n",
      "--------------- RKS_Scanner gradients ---------------\n",
      "         x                y                z\n",
      "0 N    -0.0000000000    -0.0000000000    -0.0015557290\n",
      "1 H     0.0000000000     0.0000000000     0.0024200978\n",
      "2 H     0.0026080534     0.0000000000    -0.0004328506\n",
      "3 H    -0.0026080534     0.0000000000    -0.0004328506\n",
      "----------------------------------------------\n",
      "cycle 3: E = -56.5428054848  dE = -0.000904627  norm(grad) = 0.0047176\n",
      "\n",
      "Geometry optimization cycle 4\n",
      "Cartesian coordinates (Angstrom)\n",
      " Atom        New coordinates             dX        dY        dZ\n",
      "   N   0.000000   0.000000   0.050086    0.000000  0.000000  0.002798\n",
      "   H  -0.000000   0.000000   1.054927   -0.000000  0.000000  0.000421\n",
      "   H   0.870379   0.000000  -0.452506   -0.004689  0.000000 -0.001609\n",
      "   H  -0.870379   0.000000  -0.452506    0.004689  0.000000 -0.001609\n",
      "converged SCF energy = -56.5428336078447\n",
      "--------------- RKS_Scanner gradients ---------------\n",
      "         x                y                z\n",
      "0 N     0.0000000000    -0.0000000000     0.0002197387\n",
      "1 H    -0.0000000000     0.0000000000     0.0004363503\n",
      "2 H     0.0005569465     0.0000000000    -0.0003286761\n",
      "3 H    -0.0005569465     0.0000000000    -0.0003286761\n",
      "----------------------------------------------\n",
      "cycle 4: E = -56.5428336078  dE = -2.8123e-05  norm(grad) = 0.00103688\n",
      "\n",
      "Geometry optimization cycle 5\n",
      "Cartesian coordinates (Angstrom)\n",
      " Atom        New coordinates             dX        dY        dZ\n",
      "   N   0.000000   0.000000   0.050041    0.000000  0.000000 -0.000044\n",
      "   H  -0.000000   0.000000   1.054412   -0.000000  0.000000 -0.000515\n",
      "   H   0.869798   0.000000  -0.452227   -0.000581  0.000000  0.000279\n",
      "   H  -0.869798   0.000000  -0.452227    0.000581  0.000000  0.000279\n",
      "converged SCF energy = -56.5428346470534\n",
      "--------------- RKS_Scanner gradients ---------------\n",
      "         x                y                z\n",
      "0 N     0.0000000000     0.0000000000     0.0000425131\n",
      "1 H    -0.0000000000    -0.0000000000     0.0000018827\n",
      "2 H     0.0000171848    -0.0000000000    -0.0000228262\n",
      "3 H    -0.0000171848     0.0000000000    -0.0000228262\n",
      "----------------------------------------------\n",
      "cycle 5: E = -56.5428346471  dE = -1.03921e-06  norm(grad) = 5.86823e-05\n",
      "N           0.00000        0.00000        0.05004\n",
      "H          -0.00000        0.00000        1.05441\n",
      "H           0.86980        0.00000       -0.45223\n",
      "H          -0.86980        0.00000       -0.45223\n"
     ]
    }
   ],
   "source": [
    "mol = gto.M(atom=atom, basis='cc-pvdz')\n",
    "mf = dft.RKS(mol)\n",
    "mf.xc = 'b3lyp'\n",
    "\n",
    "mol_eq = optimize(mf)\n",
    "print(mol_eq.tostring()) # 1.00437"
   ]
  },
  {
   "cell_type": "markdown",
   "id": "5e62bf85-78a8-4df7-9ec9-37ae8fc7c3f0",
   "metadata": {},
   "source": [
    "## (v)"
   ]
  },
  {
   "cell_type": "code",
   "execution_count": 11,
   "id": "b6a2b5a1-4147-49ae-9072-c9bec44a9866",
   "metadata": {
    "scrolled": true
   },
   "outputs": [
    {
     "name": "stdout",
     "output_type": "stream",
     "text": [
      "\n",
      "Geometry optimization cycle 1\n",
      "Cartesian coordinates (Angstrom)\n",
      " Atom        New coordinates             dX        dY        dZ\n",
      "   N   0.000000   0.000000   0.000000    0.000000  0.000000  0.000000\n",
      "   H   0.000000   0.000000   1.000000    0.000000  0.000000  0.000000\n",
      "   H   0.900000   0.000000  -0.400000    0.000000  0.000000  0.000000\n",
      "   H  -0.900000   0.000000  -0.400000    0.000000  0.000000  0.000000\n",
      "converged SCF energy = -56.572878473898\n",
      "--------------- RKS_Scanner gradients ---------------\n",
      "         x                y                z\n",
      "0 N     0.0000000000    -0.0000000000    -0.0361215234\n",
      "1 H     0.0000000000     0.0000000000    -0.0011517984\n",
      "2 H    -0.0027759406     0.0000000000     0.0186364202\n",
      "3 H     0.0027759406     0.0000000000     0.0186364202\n",
      "----------------------------------------------\n",
      "cycle 1: E = -56.5728784739  dE = -56.5729  norm(grad) = 0.0449014\n",
      "\n",
      "Geometry optimization cycle 2\n",
      "Cartesian coordinates (Angstrom)\n",
      " Atom        New coordinates             dX        dY        dZ\n",
      "   N   0.000000   0.000000   0.024383    0.000000  0.000000  0.024383\n",
      "   H  -0.000000   0.000000   1.025582   -0.000000  0.000000  0.025582\n",
      "   H   0.888049   0.000000  -0.424983   -0.011951  0.000000 -0.024983\n",
      "   H  -0.888049   0.000000  -0.424983    0.011951  0.000000 -0.024983\n",
      "converged SCF energy = -56.5753809145565\n",
      "--------------- RKS_Scanner gradients ---------------\n",
      "         x                y                z\n",
      "0 N    -0.0000000000    -0.0000000000    -0.0177703110\n",
      "1 H    -0.0000000000     0.0000000000     0.0021572632\n",
      "2 H     0.0034562812     0.0000000000     0.0078062769\n",
      "3 H    -0.0034562812     0.0000000000     0.0078062769\n",
      "----------------------------------------------\n",
      "cycle 2: E = -56.5753809146  dE = -0.00250244  norm(grad) = 0.0215918\n",
      "\n",
      "Geometry optimization cycle 3\n",
      "Cartesian coordinates (Angstrom)\n",
      " Atom        New coordinates             dX        dY        dZ\n",
      "   N  -0.000000   0.000000   0.051344   -0.000000  0.000000  0.026961\n",
      "   H   0.000000   0.000000   1.048315    0.000000  0.000000  0.022733\n",
      "   H   0.862161   0.000000  -0.449830   -0.025887  0.000000 -0.024847\n",
      "   H  -0.862161   0.000000  -0.449830    0.025887  0.000000 -0.024847\n",
      "converged SCF energy = -56.5762835876746\n",
      "--------------- RKS_Scanner gradients ---------------\n",
      "         x                y                z\n",
      "0 N    -0.0000000000    -0.0000000000     0.0009224203\n",
      "1 H     0.0000000000     0.0000000000     0.0004369738\n",
      "2 H     0.0002237850     0.0000000000    -0.0006803148\n",
      "3 H    -0.0002237850    -0.0000000000    -0.0006803148\n",
      "----------------------------------------------\n",
      "cycle 3: E = -56.5762835877  dE = -0.000902673  norm(grad) = 0.00143792\n",
      "\n",
      "Geometry optimization cycle 4\n",
      "Cartesian coordinates (Angstrom)\n",
      " Atom        New coordinates             dX        dY        dZ\n",
      "   N   0.000000   0.000000   0.049962    0.000000  0.000000 -0.001382\n",
      "   H  -0.000000   0.000000   1.046633   -0.000000  0.000000 -0.001682\n",
      "   H   0.863215   0.000000  -0.448298    0.001054  0.000000  0.001532\n",
      "   H  -0.863215   0.000000  -0.448298   -0.001054  0.000000  0.001532\n",
      "converged SCF energy = -56.5762870191832\n",
      "--------------- RKS_Scanner gradients ---------------\n",
      "         x                y                z\n",
      "0 N    -0.0000000000     0.0000000000    -0.0000007539\n",
      "1 H    -0.0000000000     0.0000000000     0.0000442735\n",
      "2 H     0.0000721682     0.0000000000    -0.0000223766\n",
      "3 H    -0.0000721682    -0.0000000000    -0.0000223766\n",
      "----------------------------------------------\n",
      "cycle 4: E = -56.5762870192  dE = -3.43151e-06  norm(grad) = 0.000115666\n",
      "N           0.00000        0.00000        0.04996\n",
      "H          -0.00000        0.00000        1.04663\n",
      "H           0.86321        0.00000       -0.44830\n",
      "H          -0.86321        0.00000       -0.44830\n"
     ]
    }
   ],
   "source": [
    "mol = gto.M(atom=atom, basis='cc-pvtz')\n",
    "mf = dft.RKS(mol)\n",
    "mf.xc = 'b3lyp'\n",
    "\n",
    "mol_eq = optimize(mf)\n",
    "print(mol_eq.tostring()) # 0.99667"
   ]
  },
  {
   "cell_type": "code",
   "execution_count": 12,
   "id": "f402100e-4c16-4457-811f-0e7d797ad0ac",
   "metadata": {
    "scrolled": true
   },
   "outputs": [
    {
     "name": "stdout",
     "output_type": "stream",
     "text": [
      "\n",
      "Geometry optimization cycle 1\n",
      "Cartesian coordinates (Angstrom)\n",
      " Atom        New coordinates             dX        dY        dZ\n",
      "   N   0.000000   0.000000   0.000000    0.000000  0.000000  0.000000\n",
      "   H   0.000000   0.000000   1.000000    0.000000  0.000000  0.000000\n",
      "   H   0.900000   0.000000  -0.400000    0.000000  0.000000  0.000000\n",
      "   H  -0.900000   0.000000  -0.400000    0.000000  0.000000  0.000000\n",
      "converged SCF energy = -56.5800655007339\n",
      "--------------- RKS_Scanner gradients ---------------\n",
      "         x                y                z\n",
      "0 N    -0.0000000000     0.0000000000    -0.0362172170\n",
      "1 H     0.0000000000    -0.0000000000    -0.0007091679\n",
      "2 H    -0.0024837248     0.0000000000     0.0184630465\n",
      "3 H     0.0024837248    -0.0000000000     0.0184630465\n",
      "----------------------------------------------\n",
      "cycle 1: E = -56.5800655007  dE = -56.5801  norm(grad) = 0.0447917\n",
      "\n",
      "Geometry optimization cycle 2\n",
      "Cartesian coordinates (Angstrom)\n",
      " Atom        New coordinates             dX        dY        dZ\n",
      "   N   0.000000   0.000000   0.024369    0.000000  0.000000  0.024369\n",
      "   H  -0.000000   0.000000   1.025108   -0.000000  0.000000  0.025108\n",
      "   H   0.887792   0.000000  -0.424739   -0.012208  0.000000 -0.024739\n",
      "   H  -0.887792   0.000000  -0.424739    0.012208  0.000000 -0.024739\n",
      "converged SCF energy = -56.5825460736672\n",
      "--------------- RKS_Scanner gradients ---------------\n",
      "         x                y                z\n",
      "0 N    -0.0000000000     0.0000000000    -0.0177366922\n",
      "1 H    -0.0000000000     0.0000000000     0.0021143723\n",
      "2 H     0.0034531621    -0.0000000000     0.0078106623\n",
      "3 H    -0.0034531621    -0.0000000000     0.0078106623\n",
      "----------------------------------------------\n",
      "cycle 2: E = -56.5825460737  dE = -0.00248057  norm(grad) = 0.0215621\n",
      "\n",
      "Geometry optimization cycle 3\n",
      "Cartesian coordinates (Angstrom)\n",
      " Atom        New coordinates             dX        dY        dZ\n",
      "   N   0.000000   0.000000   0.051430    0.000000  0.000000  0.027061\n",
      "   H  -0.000000   0.000000   1.047929   -0.000000  0.000000  0.022822\n",
      "   H   0.861715   0.000000  -0.449680   -0.026077  0.000000 -0.024941\n",
      "   H  -0.861715   0.000000  -0.449680    0.026077  0.000000 -0.024941\n",
      "converged SCF energy = -56.5834504350768\n",
      "--------------- RKS_Scanner gradients ---------------\n",
      "         x                y                z\n",
      "0 N    -0.0000000000     0.0000000000     0.0010116402\n",
      "1 H    -0.0000000000    -0.0000000000     0.0003414854\n",
      "2 H     0.0001688449    -0.0000000000    -0.0006772249\n",
      "3 H    -0.0001688449    -0.0000000000    -0.0006772249\n",
      "----------------------------------------------\n",
      "cycle 3: E = -56.5834504351  dE = -0.000904361  norm(grad) = 0.00145407\n",
      "\n",
      "Geometry optimization cycle 4\n",
      "Cartesian coordinates (Angstrom)\n",
      " Atom        New coordinates             dX        dY        dZ\n",
      "   N   0.000000   0.000000   0.049960    0.000000  0.000000 -0.001470\n",
      "   H  -0.000000   0.000000   1.046257   -0.000000  0.000000 -0.001672\n",
      "   H   0.862889   0.000000  -0.448109    0.001174  0.000000  0.001571\n",
      "   H  -0.862889   0.000000  -0.448109   -0.001174  0.000000  0.001571\n",
      "converged SCF energy = -56.5834539747649\n",
      "--------------- RKS_Scanner gradients ---------------\n",
      "         x                y                z\n",
      "0 N     0.0000000000     0.0000000000    -0.0000056345\n",
      "1 H    -0.0000000000    -0.0000000000     0.0000385827\n",
      "2 H     0.0000653195     0.0000000000    -0.0000171544\n",
      "3 H    -0.0000653195    -0.0000000000    -0.0000171544\n",
      "----------------------------------------------\n",
      "cycle 4: E = -56.5834539748  dE = -3.53969e-06  norm(grad) = 0.000103161\n",
      "N           0.00000        0.00000        0.04996\n",
      "H          -0.00000        0.00000        1.04626\n",
      "H           0.86289        0.00000       -0.44811\n",
      "H          -0.86289        0.00000       -0.44811\n"
     ]
    }
   ],
   "source": [
    "mol = gto.M(atom=atom, basis='cc-pvqz')\n",
    "mf = dft.RKS(mol)\n",
    "mf.xc = 'b3lyp'\n",
    "\n",
    "mol_eq = optimize(mf)\n",
    "print(mol_eq.tostring()) # 0.9963"
   ]
  },
  {
   "cell_type": "markdown",
   "id": "3c81ebca-070d-40b9-b30b-f5d01aaceac4",
   "metadata": {},
   "source": [
    "## (vi)"
   ]
  },
  {
   "cell_type": "code",
   "execution_count": null,
   "id": "f552eabd-30fd-45d0-8a70-c4c9758fa50f",
   "metadata": {
    "scrolled": true
   },
   "outputs": [
    {
     "name": "stdout",
     "output_type": "stream",
     "text": [
      "\n",
      "Geometry optimization cycle 1\n",
      "Cartesian coordinates (Angstrom)\n",
      " Atom        New coordinates             dX        dY        dZ\n",
      "   N   0.000000   0.000000   0.000000    0.000000  0.000000  0.000000\n",
      "   H   0.000000   0.000000   1.000000    0.000000  0.000000  0.000000\n",
      "   H   0.900000   0.000000  -0.400000    0.000000  0.000000  0.000000\n",
      "   H  -0.900000   0.000000  -0.400000    0.000000  0.000000  0.000000\n"
     ]
    }
   ],
   "source": [
    "mol = gto.M(atom=atom, basis='cc-pv5z')\n",
    "mf = dft.RKS(mol)\n",
    "mf.xc = 'b3lyp'\n",
    "\n",
    "mol_eq = optimize(mf)\n",
    "print(mol_eq.tostring())"
   ]
  },
  {
   "cell_type": "code",
   "execution_count": 17,
   "id": "37a81339-35b2-4c1e-8ffe-64a60f73e836",
   "metadata": {},
   "outputs": [
    {
     "data": {
      "text/plain": [
       "[<matplotlib.lines.Line2D at 0x320f64110>]"
      ]
     },
     "execution_count": 17,
     "metadata": {},
     "output_type": "execute_result"
    },
    {
     "data": {
      "image/png": "[encoded data removed]",
      "text/plain": [
       "<Figure size 640x480 with 1 Axes>"
      ]
     },
     "metadata": {},
     "output_type": "display_data"
    }
   ],
   "source": [
    "import matplotlib.pyplot as plt\n",
    "\n",
    "bases = ['cc-pVDZ', 'cc-pVTZ', 'cc-pVQZ', 'cc-pV5Z']\n",
    "energies = [-56.5428346471, -56.5762870192, -56.5834539748, -56.217542]\n",
    "\n",
    "fig, ax = plt.subplots()\n",
    "ax.plot(bases, energies)"
   ]
  },
  {
   "cell_type": "code",
   "execution_count": null,
   "id": "81feae77-8f7a-4802-877f-2d9ec47acd42",
   "metadata": {},
   "outputs": [],
   "source": []
  }
 ],
 "metadata": {
  "kernelspec": {
   "display_name": "Python 3 (ipykernel)",
   "language": "python",
   "name": "python3"
  },
  "language_info": {
   "codemirror_mode": {
    "name": "ipython",
    "version": 3
   },
   "file_extension": ".py",
   "mimetype": "text/x-python",
   "name": "python",
   "nbconvert_exporter": "python",
   "pygments_lexer": "ipython3",
   "version": "3.12.4"
  }
 },
 "nbformat": 4,
 "nbformat_minor": 5
}
